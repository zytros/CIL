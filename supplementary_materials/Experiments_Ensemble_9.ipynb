{
  "nbformat": 4,
  "nbformat_minor": 0,
  "metadata": {
    "colab": {
      "provenance": []
    },
    "kernelspec": {
      "name": "python3",
      "display_name": "Python 3"
    },
    "language_info": {
      "name": "python"
    }
  },
  "cells": [
    {
      "cell_type": "markdown",
      "source": [
        "## This file contains experiments done for results section - for calculating scores for table 7\n"
      ],
      "metadata": {
        "id": "WxB1OrGU8va8"
      }
    },
    {
      "cell_type": "code",
      "execution_count": null,
      "metadata": {
        "colab": {
          "base_uri": "https://localhost:8080/"
        },
        "id": "xS-Y0g6n8hXf",
        "outputId": "2bd4560b-3555-45b0-eca2-881284c479a2"
      },
      "outputs": [
        {
          "output_type": "stream",
          "name": "stdout",
          "text": [
            "Mounted at /content/drive\n"
          ]
        }
      ],
      "source": [
        "from google.colab import drive\n",
        "drive.mount('/content/drive')"
      ]
    },
    {
      "cell_type": "code",
      "source": [
        "import numpy as np\n",
        "import pandas as pd\n",
        "\n",
        "import pandas as pd\n",
        "train_df = pd.read_csv('submission_train.csv')\n",
        "train_df.head()"
      ],
      "metadata": {
        "colab": {
          "base_uri": "https://localhost:8080/",
          "height": 206
        },
        "id": "PAqqL0_2837R",
        "outputId": "00210c45-e202-46e3-9a46-62c521a98bf1"
      },
      "execution_count": null,
      "outputs": [
        {
          "output_type": "execute_result",
          "data": {
            "text/plain": [
              "                                                line  label  emoji_scores  \\\n",
              "0  <user> i dunno justin read my mention or not ....      1           0.0   \n",
              "1  because your logic is so dumb , i will not eve...      1           0.0   \n",
              "2  <user> just put casper in a box ! looved the b...      1           0.0   \n",
              "3  <user> <user> thanks sir > > do not trip lil m...      1           0.0   \n",
              "4  visiting my brother tmr is the bestest birthda...      1           0.0   \n",
              "\n",
              "   fake_lables  spam_score   vadar  emotion_scores  sentiment_scores  \n",
              "0            0           0  0.6597               1                 1  \n",
              "1            0           0 -0.6418              -1                -1  \n",
              "2            0           0 -0.7896               1                 1  \n",
              "3            0           0  0.4926               1                 1  \n",
              "4            0           0  0.5826               1                 1  "
            ],
            "text/html": [
              "\n",
              "  <div id=\"df-8e149519-db89-4620-924d-83d480671de9\" class=\"colab-df-container\">\n",
              "    <div>\n",
              "<style scoped>\n",
              "    .dataframe tbody tr th:only-of-type {\n",
              "        vertical-align: middle;\n",
              "    }\n",
              "\n",
              "    .dataframe tbody tr th {\n",
              "        vertical-align: top;\n",
              "    }\n",
              "\n",
              "    .dataframe thead th {\n",
              "        text-align: right;\n",
              "    }\n",
              "</style>\n",
              "<table border=\"1\" class=\"dataframe\">\n",
              "  <thead>\n",
              "    <tr style=\"text-align: right;\">\n",
              "      <th></th>\n",
              "      <th>line</th>\n",
              "      <th>label</th>\n",
              "      <th>emoji_scores</th>\n",
              "      <th>fake_lables</th>\n",
              "      <th>spam_score</th>\n",
              "      <th>vadar</th>\n",
              "      <th>emotion_scores</th>\n",
              "      <th>sentiment_scores</th>\n",
              "    </tr>\n",
              "  </thead>\n",
              "  <tbody>\n",
              "    <tr>\n",
              "      <th>0</th>\n",
              "      <td>&lt;user&gt; i dunno justin read my mention or not ....</td>\n",
              "      <td>1</td>\n",
              "      <td>0.0</td>\n",
              "      <td>0</td>\n",
              "      <td>0</td>\n",
              "      <td>0.6597</td>\n",
              "      <td>1</td>\n",
              "      <td>1</td>\n",
              "    </tr>\n",
              "    <tr>\n",
              "      <th>1</th>\n",
              "      <td>because your logic is so dumb , i will not eve...</td>\n",
              "      <td>1</td>\n",
              "      <td>0.0</td>\n",
              "      <td>0</td>\n",
              "      <td>0</td>\n",
              "      <td>-0.6418</td>\n",
              "      <td>-1</td>\n",
              "      <td>-1</td>\n",
              "    </tr>\n",
              "    <tr>\n",
              "      <th>2</th>\n",
              "      <td>&lt;user&gt; just put casper in a box ! looved the b...</td>\n",
              "      <td>1</td>\n",
              "      <td>0.0</td>\n",
              "      <td>0</td>\n",
              "      <td>0</td>\n",
              "      <td>-0.7896</td>\n",
              "      <td>1</td>\n",
              "      <td>1</td>\n",
              "    </tr>\n",
              "    <tr>\n",
              "      <th>3</th>\n",
              "      <td>&lt;user&gt; &lt;user&gt; thanks sir &gt; &gt; do not trip lil m...</td>\n",
              "      <td>1</td>\n",
              "      <td>0.0</td>\n",
              "      <td>0</td>\n",
              "      <td>0</td>\n",
              "      <td>0.4926</td>\n",
              "      <td>1</td>\n",
              "      <td>1</td>\n",
              "    </tr>\n",
              "    <tr>\n",
              "      <th>4</th>\n",
              "      <td>visiting my brother tmr is the bestest birthda...</td>\n",
              "      <td>1</td>\n",
              "      <td>0.0</td>\n",
              "      <td>0</td>\n",
              "      <td>0</td>\n",
              "      <td>0.5826</td>\n",
              "      <td>1</td>\n",
              "      <td>1</td>\n",
              "    </tr>\n",
              "  </tbody>\n",
              "</table>\n",
              "</div>\n",
              "    <div class=\"colab-df-buttons\">\n",
              "\n",
              "  <div class=\"colab-df-container\">\n",
              "    <button class=\"colab-df-convert\" onclick=\"convertToInteractive('df-8e149519-db89-4620-924d-83d480671de9')\"\n",
              "            title=\"Convert this dataframe to an interactive table.\"\n",
              "            style=\"display:none;\">\n",
              "\n",
              "  <svg xmlns=\"http://www.w3.org/2000/svg\" height=\"24px\" viewBox=\"0 -960 960 960\">\n",
              "    <path d=\"M120-120v-720h720v720H120Zm60-500h600v-160H180v160Zm220 220h160v-160H400v160Zm0 220h160v-160H400v160ZM180-400h160v-160H180v160Zm440 0h160v-160H620v160ZM180-180h160v-160H180v160Zm440 0h160v-160H620v160Z\"/>\n",
              "  </svg>\n",
              "    </button>\n",
              "\n",
              "  <style>\n",
              "    .colab-df-container {\n",
              "      display:flex;\n",
              "      gap: 12px;\n",
              "    }\n",
              "\n",
              "    .colab-df-convert {\n",
              "      background-color: #E8F0FE;\n",
              "      border: none;\n",
              "      border-radius: 50%;\n",
              "      cursor: pointer;\n",
              "      display: none;\n",
              "      fill: #1967D2;\n",
              "      height: 32px;\n",
              "      padding: 0 0 0 0;\n",
              "      width: 32px;\n",
              "    }\n",
              "\n",
              "    .colab-df-convert:hover {\n",
              "      background-color: #E2EBFA;\n",
              "      box-shadow: 0px 1px 2px rgba(60, 64, 67, 0.3), 0px 1px 3px 1px rgba(60, 64, 67, 0.15);\n",
              "      fill: #174EA6;\n",
              "    }\n",
              "\n",
              "    .colab-df-buttons div {\n",
              "      margin-bottom: 4px;\n",
              "    }\n",
              "\n",
              "    [theme=dark] .colab-df-convert {\n",
              "      background-color: #3B4455;\n",
              "      fill: #D2E3FC;\n",
              "    }\n",
              "\n",
              "    [theme=dark] .colab-df-convert:hover {\n",
              "      background-color: #434B5C;\n",
              "      box-shadow: 0px 1px 3px 1px rgba(0, 0, 0, 0.15);\n",
              "      filter: drop-shadow(0px 1px 2px rgba(0, 0, 0, 0.3));\n",
              "      fill: #FFFFFF;\n",
              "    }\n",
              "  </style>\n",
              "\n",
              "    <script>\n",
              "      const buttonEl =\n",
              "        document.querySelector('#df-8e149519-db89-4620-924d-83d480671de9 button.colab-df-convert');\n",
              "      buttonEl.style.display =\n",
              "        google.colab.kernel.accessAllowed ? 'block' : 'none';\n",
              "\n",
              "      async function convertToInteractive(key) {\n",
              "        const element = document.querySelector('#df-8e149519-db89-4620-924d-83d480671de9');\n",
              "        const dataTable =\n",
              "          await google.colab.kernel.invokeFunction('convertToInteractive',\n",
              "                                                    [key], {});\n",
              "        if (!dataTable) return;\n",
              "\n",
              "        const docLinkHtml = 'Like what you see? Visit the ' +\n",
              "          '<a target=\"_blank\" href=https://colab.research.google.com/notebooks/data_table.ipynb>data table notebook</a>'\n",
              "          + ' to learn more about interactive tables.';\n",
              "        element.innerHTML = '';\n",
              "        dataTable['output_type'] = 'display_data';\n",
              "        await google.colab.output.renderOutput(dataTable, element);\n",
              "        const docLink = document.createElement('div');\n",
              "        docLink.innerHTML = docLinkHtml;\n",
              "        element.appendChild(docLink);\n",
              "      }\n",
              "    </script>\n",
              "  </div>\n",
              "\n",
              "\n",
              "<div id=\"df-bb9609b7-7693-45a9-8459-4f85d0a84835\">\n",
              "  <button class=\"colab-df-quickchart\" onclick=\"quickchart('df-bb9609b7-7693-45a9-8459-4f85d0a84835')\"\n",
              "            title=\"Suggest charts\"\n",
              "            style=\"display:none;\">\n",
              "\n",
              "<svg xmlns=\"http://www.w3.org/2000/svg\" height=\"24px\"viewBox=\"0 0 24 24\"\n",
              "     width=\"24px\">\n",
              "    <g>\n",
              "        <path d=\"M19 3H5c-1.1 0-2 .9-2 2v14c0 1.1.9 2 2 2h14c1.1 0 2-.9 2-2V5c0-1.1-.9-2-2-2zM9 17H7v-7h2v7zm4 0h-2V7h2v10zm4 0h-2v-4h2v4z\"/>\n",
              "    </g>\n",
              "</svg>\n",
              "  </button>\n",
              "\n",
              "<style>\n",
              "  .colab-df-quickchart {\n",
              "      --bg-color: #E8F0FE;\n",
              "      --fill-color: #1967D2;\n",
              "      --hover-bg-color: #E2EBFA;\n",
              "      --hover-fill-color: #174EA6;\n",
              "      --disabled-fill-color: #AAA;\n",
              "      --disabled-bg-color: #DDD;\n",
              "  }\n",
              "\n",
              "  [theme=dark] .colab-df-quickchart {\n",
              "      --bg-color: #3B4455;\n",
              "      --fill-color: #D2E3FC;\n",
              "      --hover-bg-color: #434B5C;\n",
              "      --hover-fill-color: #FFFFFF;\n",
              "      --disabled-bg-color: #3B4455;\n",
              "      --disabled-fill-color: #666;\n",
              "  }\n",
              "\n",
              "  .colab-df-quickchart {\n",
              "    background-color: var(--bg-color);\n",
              "    border: none;\n",
              "    border-radius: 50%;\n",
              "    cursor: pointer;\n",
              "    display: none;\n",
              "    fill: var(--fill-color);\n",
              "    height: 32px;\n",
              "    padding: 0;\n",
              "    width: 32px;\n",
              "  }\n",
              "\n",
              "  .colab-df-quickchart:hover {\n",
              "    background-color: var(--hover-bg-color);\n",
              "    box-shadow: 0 1px 2px rgba(60, 64, 67, 0.3), 0 1px 3px 1px rgba(60, 64, 67, 0.15);\n",
              "    fill: var(--button-hover-fill-color);\n",
              "  }\n",
              "\n",
              "  .colab-df-quickchart-complete:disabled,\n",
              "  .colab-df-quickchart-complete:disabled:hover {\n",
              "    background-color: var(--disabled-bg-color);\n",
              "    fill: var(--disabled-fill-color);\n",
              "    box-shadow: none;\n",
              "  }\n",
              "\n",
              "  .colab-df-spinner {\n",
              "    border: 2px solid var(--fill-color);\n",
              "    border-color: transparent;\n",
              "    border-bottom-color: var(--fill-color);\n",
              "    animation:\n",
              "      spin 1s steps(1) infinite;\n",
              "  }\n",
              "\n",
              "  @keyframes spin {\n",
              "    0% {\n",
              "      border-color: transparent;\n",
              "      border-bottom-color: var(--fill-color);\n",
              "      border-left-color: var(--fill-color);\n",
              "    }\n",
              "    20% {\n",
              "      border-color: transparent;\n",
              "      border-left-color: var(--fill-color);\n",
              "      border-top-color: var(--fill-color);\n",
              "    }\n",
              "    30% {\n",
              "      border-color: transparent;\n",
              "      border-left-color: var(--fill-color);\n",
              "      border-top-color: var(--fill-color);\n",
              "      border-right-color: var(--fill-color);\n",
              "    }\n",
              "    40% {\n",
              "      border-color: transparent;\n",
              "      border-right-color: var(--fill-color);\n",
              "      border-top-color: var(--fill-color);\n",
              "    }\n",
              "    60% {\n",
              "      border-color: transparent;\n",
              "      border-right-color: var(--fill-color);\n",
              "    }\n",
              "    80% {\n",
              "      border-color: transparent;\n",
              "      border-right-color: var(--fill-color);\n",
              "      border-bottom-color: var(--fill-color);\n",
              "    }\n",
              "    90% {\n",
              "      border-color: transparent;\n",
              "      border-bottom-color: var(--fill-color);\n",
              "    }\n",
              "  }\n",
              "</style>\n",
              "\n",
              "  <script>\n",
              "    async function quickchart(key) {\n",
              "      const quickchartButtonEl =\n",
              "        document.querySelector('#' + key + ' button');\n",
              "      quickchartButtonEl.disabled = true;  // To prevent multiple clicks.\n",
              "      quickchartButtonEl.classList.add('colab-df-spinner');\n",
              "      try {\n",
              "        const charts = await google.colab.kernel.invokeFunction(\n",
              "            'suggestCharts', [key], {});\n",
              "      } catch (error) {\n",
              "        console.error('Error during call to suggestCharts:', error);\n",
              "      }\n",
              "      quickchartButtonEl.classList.remove('colab-df-spinner');\n",
              "      quickchartButtonEl.classList.add('colab-df-quickchart-complete');\n",
              "    }\n",
              "    (() => {\n",
              "      let quickchartButtonEl =\n",
              "        document.querySelector('#df-bb9609b7-7693-45a9-8459-4f85d0a84835 button');\n",
              "      quickchartButtonEl.style.display =\n",
              "        google.colab.kernel.accessAllowed ? 'block' : 'none';\n",
              "    })();\n",
              "  </script>\n",
              "</div>\n",
              "\n",
              "    </div>\n",
              "  </div>\n"
            ],
            "application/vnd.google.colaboratory.intrinsic+json": {
              "type": "dataframe",
              "variable_name": "train_df"
            }
          },
          "metadata": {},
          "execution_count": 29
        }
      ]
    },
    {
      "cell_type": "code",
      "source": [
        "print(len(train_df))"
      ],
      "metadata": {
        "colab": {
          "base_uri": "https://localhost:8080/"
        },
        "id": "zVaQGyzfXFn4",
        "outputId": "eb3b1c14-0515-4c2b-c211-0114aaf6cf55"
      },
      "execution_count": null,
      "outputs": [
        {
          "output_type": "stream",
          "name": "stdout",
          "text": [
            "2270482\n"
          ]
        }
      ]
    },
    {
      "cell_type": "markdown",
      "source": [
        "## Swap orders cause there were differences in ways my team mate and i built the training dataframe"
      ],
      "metadata": {
        "id": "pGzpc9Fz88T7"
      }
    },
    {
      "cell_type": "code",
      "source": [
        "samuels_pred_df = pd.read_csv('training_no_duplicates.csv')"
      ],
      "metadata": {
        "id": "R7p4V7NZ85M-"
      },
      "execution_count": null,
      "outputs": []
    },
    {
      "cell_type": "code",
      "source": [
        "train_df.loc[:, 'sentiment_scores'] = train_df.loc[:, 'sentiment_scores'].replace(0,-1)\n",
        "train_df.loc[:, 'emoji_scores'] = train_df['emoji_scores'].replace(0, np.nan)\n",
        "train_df.loc[:,'spam_score'] = train_df['spam_score'].replace(0,np.nan)\n",
        "train_df.loc[:,'fake_lables'] = train_df['fake_lables'].replace(0,np.nan)\n",
        "train_df.loc[:,'spam_score']= train_df['spam_score'].replace(1,-1)\n",
        "def modify_value(x):\n",
        "    if x == 0.0 or np.isnan(x):\n",
        "        return np.nan\n",
        "    elif x > 0.0:\n",
        "        return 1\n",
        "    else:\n",
        "        return -1\n",
        "train_df.loc[:, 'emoji_scores'] = train_df['emoji_scores'].apply(modify_value)\n",
        "train_df.loc[:, 'vadar'] = train_df['vadar'].apply(modify_value)\n",
        "train_df.rename(columns = {'sentiment_scores':'sentiment_scores2'}, inplace = True)\n"
      ],
      "metadata": {
        "id": "rxp2V8tEEHuw"
      },
      "execution_count": null,
      "outputs": []
    },
    {
      "cell_type": "code",
      "source": [
        "## Nulling out the emotion_scores\n",
        "train_df.loc[train_df['emoji_scores'] == -1, 'emotion_scores'] = np.nan\n",
        "train_df.loc[train_df['emoji_scores'] == -1, 'vadar'] = np.nan\n",
        "train_df.loc[train_df['fake_lables'] == -1, 'emotion_scores'] = np.nan\n",
        "train_df.loc[train_df['fake_lables'] == -1, 'vadar'] = np.nan\n",
        "train_df.loc[train_df['spam_score'] == -1, 'emotion_scores'] = np.nan\n",
        "train_df.loc[train_df['spam_score'] == -1, 'vadar'] = np.nan"
      ],
      "metadata": {
        "id": "lUlTbPyVaG0-"
      },
      "execution_count": null,
      "outputs": []
    },
    {
      "cell_type": "code",
      "source": [
        "num_rows =1127644\n",
        "# Split the DataFrame into two parts\n",
        "first_part = train_df.iloc[:num_rows]\n",
        "second_part = train_df.iloc[num_rows:]\n",
        "print(len(second_part))"
      ],
      "metadata": {
        "colab": {
          "base_uri": "https://localhost:8080/"
        },
        "id": "j664vv7U9Kvk",
        "outputId": "184e4547-96e4-439c-80b7-d5f13d9759f9"
      },
      "execution_count": null,
      "outputs": [
        {
          "output_type": "stream",
          "name": "stdout",
          "text": [
            "1142838\n"
          ]
        }
      ]
    },
    {
      "cell_type": "code",
      "source": [
        "first_part_val= first_part.iloc[:100000]\n",
        "first_part_training = first_part.iloc[100000:]\n",
        "second_part_val = second_part.iloc[:100000]\n",
        "second_part_training = second_part.iloc[100000:]"
      ],
      "metadata": {
        "id": "GHCqdebADCbn"
      },
      "execution_count": null,
      "outputs": []
    },
    {
      "cell_type": "code",
      "source": [
        "\n",
        "# Concatenate the second part first, followed by the first part\n",
        "train_df = pd.concat([second_part_training, first_part_training]).reset_index(drop=True)\n",
        "train_df.rename(columns={'sentiment_scores':'sentiment_scores2'}, inplace=True)\n",
        "print(len(train_df))"
      ],
      "metadata": {
        "id": "OZ73F29l889z",
        "colab": {
          "base_uri": "https://localhost:8080/"
        },
        "outputId": "98ad4e6f-8885-41e2-f476-f12b2867af10"
      },
      "execution_count": null,
      "outputs": [
        {
          "output_type": "stream",
          "name": "stdout",
          "text": [
            "2070482\n"
          ]
        }
      ]
    },
    {
      "cell_type": "code",
      "source": [
        "sam_pred = samuels_pred_df['predictions']\n",
        "num_rows =1127644\n",
        "# Split the DataFrame into two parts\n",
        "first_part_sam = sam_pred.iloc[:num_rows]\n",
        "second_part_sam = sam_pred.iloc[num_rows:]\n",
        "first_part_val_sam= first_part_sam.iloc[:100000]\n",
        "first_part_training_sam = first_part_sam.iloc[100000:]\n",
        "second_part_val_sam = second_part_sam.iloc[:100000]\n",
        "second_part_training_sam = second_part_sam.iloc[100000:]\n",
        "# Concatenate the second part first, followed by the first part\n",
        "sam_pred_train = pd.concat([second_part_training_sam, first_part_training_sam]).reset_index(drop=True)"
      ],
      "metadata": {
        "id": "CZHTQmNv8_rm"
      },
      "execution_count": null,
      "outputs": []
    },
    {
      "cell_type": "code",
      "source": [
        "train_df['sentiment_scores'] = sam_pred_train"
      ],
      "metadata": {
        "id": "35WT-najXuhN"
      },
      "execution_count": null,
      "outputs": []
    },
    {
      "cell_type": "code",
      "source": [
        "val_df = pd.concat([second_part_val, first_part_val]).reset_index(drop=True)\n",
        "val_df['sentiment_scores'] = pd.concat([second_part_val_sam, first_part_val_sam]).reset_index(drop=True)"
      ],
      "metadata": {
        "id": "WOzzx4R9YO3u"
      },
      "execution_count": null,
      "outputs": []
    },
    {
      "cell_type": "code",
      "source": [
        "from sklearn.model_selection import train_test_split\n",
        "from sklearn.ensemble import HistGradientBoostingClassifier\n",
        "from sklearn.metrics import accuracy_score, precision_score, recall_score, f1_score, roc_auc_score, confusion_matrix, classification_report\n",
        "from sklearn.model_selection import GridSearchCV\n",
        "# Define the target variable y and the features X\n",
        "y = train_df['label']\n",
        "X = train_df[['emoji_scores', 'spam_score', 'fake_lables', 'emotion_scores','sentiment_scores2']]\n",
        "y_val = val_df['label']\n",
        "X_val = val_df[['emoji_scores', 'spam_score', 'fake_lables', 'emotion_scores','sentiment_scores2']]\n",
        "# Split the data into training and testing sets\n",
        "X_train = X\n",
        "y_train = y\n",
        "\n",
        "params = {\n",
        "    'learning_rate': 0.01,\n",
        "    'max_iter': 300,\n",
        "    'max_leaf_nodes': 127,\n",
        "    'max_depth': 5,  # Choose one of the values from [3, 5, 7]\n",
        "    'min_samples_leaf': 20,\n",
        "    'l2_regularization': 0,\n",
        "    'early_stopping': True\n",
        "}\n",
        "\n",
        "# Initialize the model with the specified parameters\n",
        "model = HistGradientBoostingClassifier(**params)\n",
        "model.fit(X_train, y_train)\n",
        "\n",
        "# Make predictions and evaluate the model\n",
        "y_pred = model.predict(X_val)\n",
        "y_pred_proba = model.predict_proba(X_val)[:, 1]  # Probability scores for the positive class\n",
        "\n",
        "accuracy_sam = accuracy_score(y_val, y_pred)\n",
        "precision_sam = precision_score(y_val, y_pred)\n",
        "recall_sam = recall_score(y_val, y_pred)\n",
        "precision_sam_neg = precision_score(y_val, y_pred,pos_label =-1)\n",
        "recall_sam_neg = recall_score(y_val, y_pred,pos_label =-1)\n",
        "print(f\"accuracy: {accuracy_sam:.4f}\")\n",
        "print(f\"precision_pos: {precision_sam:.4f}\")\n",
        "print(f\"recall_pos: {recall_sam:.4f}\")\n",
        "print(f\"precision_neg: {precision_sam_neg:.4f}\")\n",
        "print(f\"recall_neg: {recall_sam_neg:.4f}\")"
      ],
      "metadata": {
        "id": "1Noa5jM69Ct2",
        "colab": {
          "base_uri": "https://localhost:8080/"
        },
        "outputId": "2675c632-1471-4a47-b432-3fb229e3a169"
      },
      "execution_count": null,
      "outputs": [
        {
          "output_type": "stream",
          "name": "stdout",
          "text": [
            "accuracy: 0.8073\n",
            "precision_pos: 0.7911\n",
            "recall_pos: 0.8352\n",
            "precision_neg: 0.8254\n",
            "recall_neg: 0.7795\n"
          ]
        }
      ]
    },
    {
      "cell_type": "code",
      "source": [
        "from sklearn.model_selection import train_test_split\n",
        "from sklearn.ensemble import HistGradientBoostingClassifier\n",
        "from sklearn.metrics import accuracy_score, precision_score, recall_score, f1_score, roc_auc_score, confusion_matrix, classification_report\n",
        "from sklearn.model_selection import GridSearchCV\n",
        "# Define the target variable y and the features X\n",
        "y = train_df['label']\n",
        "X = train_df[['emoji_scores', 'spam_score', 'fake_lables', 'emotion_scores','sentiment_scores']]\n",
        "y_val = val_df['label']\n",
        "X_val = val_df[['emoji_scores', 'spam_score', 'fake_lables', 'emotion_scores','sentiment_scores']]\n",
        "# Split the data into training and testing sets\n",
        "X_train = X\n",
        "y_train = y\n",
        "\n",
        "params = {\n",
        "    'learning_rate': 0.01,\n",
        "    'max_iter': 300,\n",
        "    'max_leaf_nodes': 127,\n",
        "    'max_depth': 5,  # Choose one of the values from [3, 5, 7]\n",
        "    'min_samples_leaf': 20,\n",
        "    'l2_regularization': 0,\n",
        "    'early_stopping': True\n",
        "}\n",
        "\n",
        "# Initialize the model with the specified parameters\n",
        "model = HistGradientBoostingClassifier(**params)\n",
        "model.fit(X_train, y_train)\n",
        "\n",
        "# Make predictions and evaluate the model\n",
        "y_pred = model.predict(X_val)\n",
        "y_pred_proba = model.predict_proba(X_val)[:, 1]  # Probability scores for the positive class\n",
        "\n",
        "accuracy_sam = accuracy_score(y_val, y_pred)\n",
        "precision_sam = precision_score(y_val, y_pred)\n",
        "recall_sam = recall_score(y_val, y_pred)\n",
        "precision_sam_neg = precision_score(y_val, y_pred,pos_label =-1)\n",
        "recall_sam_neg = recall_score(y_val, y_pred,pos_label =-1)\n",
        "print(f\"accuracy: {accuracy_sam:.4f}\")\n",
        "print(f\"precision_pos: {precision_sam:.4f}\")\n",
        "print(f\"recall_pos: {recall_sam:.4f}\")\n",
        "print(f\"precision_neg: {precision_sam_neg:.4f}\")\n",
        "print(f\"recall_neg: {recall_sam_neg:.4f}\")\n"
      ],
      "metadata": {
        "colab": {
          "base_uri": "https://localhost:8080/"
        },
        "id": "huxXIJnsX2xB",
        "outputId": "95bd3f9c-3907-4409-a590-19e3335d38d3"
      },
      "execution_count": null,
      "outputs": [
        {
          "output_type": "stream",
          "name": "stdout",
          "text": [
            "accuracy: 0.8581\n",
            "precision_pos: 0.8488\n",
            "recall_pos: 0.8713\n",
            "precision_neg: 0.8678\n",
            "recall_neg: 0.8448\n"
          ]
        }
      ]
    },
    {
      "cell_type": "code",
      "source": [
        "from sklearn.model_selection import train_test_split\n",
        "from sklearn.ensemble import HistGradientBoostingClassifier\n",
        "from sklearn.metrics import accuracy_score, precision_score, recall_score, f1_score, roc_auc_score, confusion_matrix, classification_report\n",
        "from sklearn.model_selection import GridSearchCV\n",
        "# Define the target variable y and the features X\n",
        "y = train_df['label']\n",
        "X = train_df[['emoji_scores', 'spam_score', 'fake_lables', 'emotion_scores','sentiment_scores','sentiment_scores2','vadar']]\n",
        "y_val = val_df['label']\n",
        "X_val = val_df[['emoji_scores', 'spam_score', 'fake_lables', 'emotion_scores','sentiment_scores','sentiment_scores2','vadar']]\n",
        "# Split the data into training and testing sets\n",
        "X_train = X\n",
        "y_train = y\n",
        "\n",
        "params = {\n",
        "    'learning_rate': 0.01,\n",
        "    'max_iter': 300,\n",
        "    'max_leaf_nodes': 127,\n",
        "    'max_depth': 5,  # Choose one of the values from [3, 5, 7]\n",
        "    'min_samples_leaf': 20,\n",
        "    'l2_regularization': 0,\n",
        "    'early_stopping': True\n",
        "}\n",
        "\n",
        "# Initialize the model with the specified parameters\n",
        "model = HistGradientBoostingClassifier(**params)\n",
        "model.fit(X_train, y_train)\n",
        "\n",
        "# Make predictions and evaluate the model\n",
        "y_pred = model.predict(X_val)\n",
        "y_pred_proba = model.predict_proba(X_val)[:, 1]  # Probability scores for the positive class\n",
        "\n",
        "accuracy_sam = accuracy_score(y_val, y_pred)\n",
        "precision_sam = precision_score(y_val, y_pred)\n",
        "recall_sam = recall_score(y_val, y_pred)\n",
        "precision_sam_neg = precision_score(y_val, y_pred,pos_label =-1)\n",
        "recall_sam_neg = recall_score(y_val, y_pred,pos_label =-1)\n",
        "print(f\"accuracy: {accuracy_sam:.4f}\")\n",
        "print(f\"precision_pos: {precision_sam:.4f}\")\n",
        "print(f\"recall_pos: {recall_sam:.4f}\")\n",
        "print(f\"precision_neg: {precision_sam_neg:.4f}\")\n",
        "print(f\"recall_neg: {recall_sam_neg:.4f}\")\n"
      ],
      "metadata": {
        "colab": {
          "base_uri": "https://localhost:8080/"
        },
        "id": "0PywEnrqoqgv",
        "outputId": "3341d605-28e1-4364-a4ce-c83ea3c3a911"
      },
      "execution_count": null,
      "outputs": [
        {
          "output_type": "stream",
          "name": "stdout",
          "text": [
            "accuracy: 0.8583\n",
            "precision_pos: 0.8498\n",
            "recall_pos: 0.8706\n",
            "precision_neg: 0.8673\n",
            "recall_neg: 0.8461\n"
          ]
        }
      ]
    }
  ]
}