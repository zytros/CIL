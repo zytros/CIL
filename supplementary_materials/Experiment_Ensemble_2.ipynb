{
  "nbformat": 4,
  "nbformat_minor": 0,
  "metadata": {
    "colab": {
      "provenance": []
    },
    "kernelspec": {
      "name": "python3",
      "display_name": "Python 3"
    },
    "language_info": {
      "name": "python"
    }
  },
  "cells": [
    {
      "cell_type": "markdown",
      "source": [
        "## This notebook include code for camparing accruacy with and without replacing emoji with words."
      ],
      "metadata": {
        "id": "zR4RkmkTNdM9"
      }
    },
    {
      "cell_type": "code",
      "execution_count": null,
      "metadata": {
        "colab": {
          "base_uri": "https://localhost:8080/"
        },
        "id": "DpL9-MtaNa_P",
        "outputId": "9a113b0b-239c-4ac5-85f1-a079af9736b9"
      },
      "outputs": [
        {
          "output_type": "stream",
          "name": "stdout",
          "text": [
            "Mounted at /content/drive\n"
          ]
        }
      ],
      "source": [
        "from google.colab import drive\n",
        "drive.mount('/content/drive')"
      ]
    },
    {
      "cell_type": "code",
      "source": [
        "emotion_scores =[]\n",
        "sentiment_scores =[]\n",
        "for i in range(12):\n",
        "    file_path = f\"emotion_scores_{i}.txt\"\n",
        "    with open(file_path,\"r\") as file:\n",
        "        emotions = eval(file.read())\n",
        "    #print(len(emotions))\n",
        "    emotion_scores.extend(emotions)\n",
        "\n",
        "print(len(emotion_scores))\n",
        "for i in range(12):\n",
        "    file_path = f\"sentiment_scores_{i}.txt\"\n",
        "    with open(file_path,\"r\") as file:\n",
        "        sentiments = eval(file.read())\n",
        "    #print(len(emotions))\n",
        "    sentiment_scores.extend(sentiments)\n",
        "\n",
        "print(len(sentiment_scores))\n",
        "import numpy as np\n",
        "import pandas as pd\n",
        "\n",
        "import pandas as pd\n",
        "train_df = pd.read_csv('submission_train.csv')\n",
        "samuels_pred_df = pd.read_csv('training_no_duplicates.csv')\n",
        "num_rows =1127644\n",
        "# Split the DataFrame into two parts\n",
        "first_part = train_df.iloc[:num_rows]\n",
        "second_part = train_df.iloc[num_rows:]\n",
        "\n",
        "print(len(first_part))\n",
        "print(len(second_part))\n",
        "print(len(first_part)+len(second_part))\n",
        "# Concatenate the second part first, followed by the first part\n",
        "train_df = pd.concat([second_part, first_part]).reset_index(drop=True)\n",
        "fe = emotion_scores[:1127644]\n",
        "se = emotion_scores[1127644:]\n",
        "emotion_score_swapped = se + fe\n",
        "print(len(emotion_score_swapped))\n",
        "\n",
        "fs = sentiment_scores[:1127644]\n",
        "ss = sentiment_scores[1127644:]\n",
        "sentiment_score_swapped = ss + fs\n",
        "train_df.loc[:, 'emotion_scores'] = emotion_score_swapped\n",
        "\n",
        "train_df.loc[:, 'sentiment_scores2'] = sentiment_score_swapped\n",
        "\n",
        "train_df.loc[:, 'sentiment_scores'] = samuels_pred_df['predictions']\n",
        "train_df.loc[:, 'sentiment_scores'] = train_df.loc[:, 'sentiment_scores'].replace(0,-1)\n",
        "train_df.loc[:, 'emoji_scores'] = train_df['emoji_scores'].replace(0, np.nan)\n",
        "train_df.loc[:,'spam_score'] = train_df['spam_score'].replace(0,np.nan)\n",
        "train_df.loc[:,'fake_lables'] = train_df['fake_lables'].replace(0,np.nan)\n",
        "train_df.loc[:,'spam_score']= train_df['spam_score'].replace(1,-1)\n",
        "def modify_value(x):\n",
        "    if x == 0.0 or np.isnan(x):\n",
        "        return np.nan\n",
        "    elif x > 0.0:\n",
        "        return 1\n",
        "    else:\n",
        "        return -1\n",
        "train_df.loc[:, 'emoji_scores'] = train_df['emoji_scores'].apply(modify_value)\n",
        "train_df.loc[:, 'vadar'] = train_df['vadar'].apply(modify_value)"
      ],
      "metadata": {
        "id": "oJyli2zWPT5h"
      },
      "execution_count": null,
      "outputs": []
    },
    {
      "cell_type": "code",
      "source": [
        "from sklearn.metrics import accuracy_score,precision_score, recall_score\n",
        "from sklearn.metrics import confusion_matrix\n",
        "accuracy_sam = accuracy_score(train_df['label'], train_df['sentiment_scores2'])\n",
        "precision_sam = precision_score(train_df['label'], train_df['sentiment_scores2'])\n",
        "recall_sam = recall_score(train_df['label'], train_df['sentiment_scores2'])\n",
        "precision_sam_neg = precision_score(train_df['label'], train_df['sentiment_scores2'],pos_label =-1)\n",
        "recall_sam_neg = recall_score(train_df['label'], train_df['sentiment_scores2'],pos_label =-1)\n",
        "cm = confusion_matrix(train_df['label'], train_df['sentiment_scores2'])\n",
        "print(cm)\n",
        "print(f\"accuracy: {accuracy_sam:.4f}\")\n",
        "print(f\"precision_pos: {precision_sam:.4f}\")\n",
        "print(f\"recall_pos: {recall_sam:.4f}\")\n",
        "print(f\"precision_neg: {precision_sam_neg:.4f}\")\n",
        "print(f\"recall_neg: {recall_sam_neg:.4f}\")"
      ],
      "metadata": {
        "id": "tnL3XxRLPdus"
      },
      "execution_count": null,
      "outputs": []
    },
    {
      "cell_type": "code",
      "source": [
        "\n",
        "vader_scores = train_df['vadar']\n",
        "vadar_score_cal_df = pd.DataFrame({'label': train_df['label'], 'vader_scores': vader_scores})\n",
        "# Filter out rows where the 'vader_scores' is NaN\n",
        "filtered_df = vadar_score_cal_df.dropna(subset=['vader_scores'])\n",
        "print(f\"length of non-np.nan elements {len(filtered_df)/2270482}\")\n",
        "print(f\"length of pos elements {len(filtered_df[filtered_df['vader_scores']==1])/len(filtered_df)}\")\n",
        "print(f\"length of neg elements {len(filtered_df[filtered_df['vader_scores']==-1])/len(filtered_df)}\")\n",
        "# Compute accuracy only on non-NaN values\n",
        "accuracy = accuracy_score(filtered_df['label'], filtered_df['vader_scores'])\n",
        "from sklearn.metrics import accuracy_score,precision_score, recall_score\n",
        "accuracy_sam = accuracy_score(filtered_df['label'], filtered_df['vader_scores'])\n",
        "precision_sam = precision_score(filtered_df['label'], filtered_df['vader_scores'])\n",
        "recall_sam = recall_score(filtered_df['label'], filtered_df['vader_scores'])\n",
        "precision_sam_neg = precision_score(filtered_df['label'], filtered_df['vader_scores'],pos_label =-1)\n",
        "recall_sam_neg = recall_score(filtered_df['label'], filtered_df['vader_scores'],pos_label =-1)\n",
        "\n",
        "cm = confusion_matrix(filtered_df['label'], filtered_df['vader_scores'])\n",
        "print(cm)\n",
        "print(f\"accuracy: {accuracy_sam:.2f}\")\n",
        "print(f\"precision_pos: {precision_sam:.2f}\")\n",
        "print(f\"recall_pos: {recall_sam:.2f}\")\n",
        "print(f\"precision_neg: {precision_sam_neg:.2f}\")\n",
        "print(f\"recall_neg: {recall_sam_neg:.2f}\")"
      ],
      "metadata": {
        "id": "cww1W6saPfbj"
      },
      "execution_count": null,
      "outputs": []
    },
    {
      "cell_type": "code",
      "source": [
        "from sklearn.metrics import accuracy_score,precision_score, recall_score\n",
        "accuracy_sam = accuracy_score(train_df['label'], train_df['emotion_scores'])\n",
        "precision_sam = precision_score(train_df['label'], train_df['emotion_scores'])\n",
        "recall_sam = recall_score(train_df['label'], train_df['emotion_scores'])\n",
        "precision_sam_neg = precision_score(train_df['label'], train_df['emotion_scores'],pos_label =-1)\n",
        "recall_sam_neg = recall_score(train_df['label'], train_df['emotion_scores'],pos_label =-1)\n",
        "\n",
        "cm = confusion_matrix(train_df['label'], train_df['emotion_scores'])\n",
        "print(cm)\n",
        "print(f\"accuracy: {accuracy_sam:.4f}\")\n",
        "print(f\"precision_pos: {precision_sam:.4f}\")\n",
        "print(f\"recall_pos: {recall_sam:.4f}\")\n",
        "print(f\"precision_neg: {precision_sam_neg:.4f}\")\n",
        "print(f\"recall_neg: {recall_sam_neg:.4f}\")"
      ],
      "metadata": {
        "id": "xPg05g_6PhTy"
      },
      "execution_count": null,
      "outputs": []
    },
    {
      "cell_type": "markdown",
      "source": [
        "## Now without emoji replacement"
      ],
      "metadata": {
        "id": "8udJkIvTPhsx"
      }
    },
    {
      "cell_type": "code",
      "source": [
        "emotion_scores =[]\n",
        "sentiment_scores =[]\n",
        "for i in range(12):\n",
        "    file_path = f\"new_pipeline_emotion_scores_{i}.txt\"\n",
        "    with open(file_path,\"r\") as file:\n",
        "        emotions = eval(file.read())\n",
        "    #print(len(emotions))\n",
        "    emotion_scores.extend(emotions)\n",
        "\n",
        "print(len(emotion_scores))\n",
        "for i in range(12):\n",
        "    file_path = f\"new_pipeline_sentiment_scores_{i}.txt\"\n",
        "    with open(file_path,\"r\") as file:\n",
        "        sentiments = eval(file.read())\n",
        "    #print(len(emotions))\n",
        "    sentiment_scores.extend(sentiments)\n",
        "\n",
        "print(len(sentiment_scores))\n",
        "import numpy as np\n",
        "import pandas as pd\n",
        "\n",
        "import pandas as pd\n",
        "train_df = pd.read_csv('final_train_with_vadar.csv')\n",
        "samuels_pred_df = pd.read_csv('training_no_duplicates.csv')\n",
        "num_rows =1127644\n",
        "# Split the DataFrame into two parts\n",
        "first_part = train_df.iloc[:num_rows]\n",
        "second_part = train_df.iloc[num_rows:]\n",
        "\n",
        "print(len(first_part))\n",
        "print(len(second_part))\n",
        "print(len(first_part)+len(second_part))\n",
        "# Concatenate the second part first, followed by the first part\n",
        "train_df = pd.concat([second_part, first_part]).reset_index(drop=True)\n",
        "fe = emotion_scores[:1127644]\n",
        "se = emotion_scores[1127644:]\n",
        "emotion_score_swapped = se + fe\n",
        "print(len(emotion_score_swapped))\n",
        "\n",
        "fs = sentiment_scores[:1127644]\n",
        "ss = sentiment_scores[1127644:]\n",
        "sentiment_score_swapped = ss + fs\n",
        "train_df.loc[:, 'emotion_scores'] = emotion_score_swapped\n",
        "\n",
        "train_df.loc[:, 'sentiment_scores2'] = sentiment_score_swapped\n",
        "\n",
        "train_df.loc[:, 'sentiment_scores'] = samuels_pred_df['predictions']\n",
        "train_df.loc[:, 'sentiment_scores'] = train_df.loc[:, 'sentiment_scores'].replace(0,-1)\n",
        "train_df.loc[:, 'emoji_scores'] = train_df['emoji_scores'].replace(0, np.nan)\n",
        "train_df.loc[:,'spam_score'] = train_df['spam_score'].replace(0,np.nan)\n",
        "train_df.loc[:,'fake_lables'] = train_df['fake_lables'].replace(0,np.nan)\n",
        "train_df.loc[:,'spam_score']= train_df['spam_score'].replace(1,-1)\n",
        "def modify_value(x):\n",
        "    if x == 0.0 or np.isnan(x):\n",
        "        return np.nan\n",
        "    elif x > 0.0:\n",
        "        return 1\n",
        "    else:\n",
        "        return -1\n",
        "train_df.loc[:, 'emoji_scores'] = train_df['emoji_scores'].apply(modify_value)\n",
        "train_df.loc[:, 'vadar'] = train_df['vadar'].apply(modify_value)"
      ],
      "metadata": {
        "colab": {
          "base_uri": "https://localhost:8080/"
        },
        "id": "pfghOXnXQF2i",
        "outputId": "87708a8f-f872-4187-c517-9612491b0950"
      },
      "execution_count": null,
      "outputs": [
        {
          "output_type": "stream",
          "name": "stdout",
          "text": [
            "2270482\n",
            "2270482\n",
            "1127644\n",
            "1142838\n",
            "2270482\n",
            "2270482\n"
          ]
        }
      ]
    },
    {
      "cell_type": "code",
      "source": [
        "from sklearn.metrics import accuracy_score,precision_score, recall_score\n",
        "from sklearn.metrics import confusion_matrix\n",
        "accuracy_sam = accuracy_score(train_df['label'], train_df['sentiment_scores2'])\n",
        "precision_sam = precision_score(train_df['label'], train_df['sentiment_scores2'])\n",
        "recall_sam = recall_score(train_df['label'], train_df['sentiment_scores2'])\n",
        "precision_sam_neg = precision_score(train_df['label'], train_df['sentiment_scores2'],pos_label =-1)\n",
        "recall_sam_neg = recall_score(train_df['label'], train_df['sentiment_scores2'],pos_label =-1)\n",
        "cm = confusion_matrix(train_df['label'], train_df['sentiment_scores2'])\n",
        "print(cm)\n",
        "print(f\"accuracy: {accuracy_sam:.4f}\")\n",
        "print(f\"precision_pos: {precision_sam:.4f}\")\n",
        "print(f\"recall_pos: {recall_sam:.4f}\")\n",
        "print(f\"precision_neg: {precision_sam_neg:.4f}\")\n",
        "print(f\"recall_neg: {recall_sam_neg:.4f}\")"
      ],
      "metadata": {
        "colab": {
          "base_uri": "https://localhost:8080/"
        },
        "id": "90dGGhU9QPyd",
        "outputId": "a1ab8564-d9f8-4503-bb23-570761f935f0"
      },
      "execution_count": null,
      "outputs": [
        {
          "output_type": "stream",
          "name": "stdout",
          "text": [
            "[[654688 488150]\n",
            " [238427 889217]]\n",
            "accuracy: 0.6800\n",
            "precision_pos: 0.6456\n",
            "recall_pos: 0.7886\n",
            "precision_neg: 0.7330\n",
            "recall_neg: 0.5729\n"
          ]
        }
      ]
    },
    {
      "cell_type": "code",
      "source": [
        "from sklearn.metrics import accuracy_score,precision_score, recall_score\n",
        "accuracy_sam = accuracy_score(train_df['label'], train_df['emotion_scores'])\n",
        "precision_sam = precision_score(train_df['label'], train_df['emotion_scores'])\n",
        "recall_sam = recall_score(train_df['label'], train_df['emotion_scores'])\n",
        "precision_sam_neg = precision_score(train_df['label'], train_df['emotion_scores'],pos_label =-1)\n",
        "recall_sam_neg = recall_score(train_df['label'], train_df['emotion_scores'],pos_label =-1)\n",
        "\n",
        "cm = confusion_matrix(train_df['label'], train_df['emotion_scores'])\n",
        "print(cm)\n",
        "print(f\"accuracy: {accuracy_sam:.4f}\")\n",
        "print(f\"precision_pos: {precision_sam:.4f}\")\n",
        "print(f\"recall_pos: {recall_sam:.4f}\")\n",
        "print(f\"precision_neg: {precision_sam_neg:.4f}\")\n",
        "print(f\"recall_neg: {recall_sam_neg:.4f}\")"
      ],
      "metadata": {
        "colab": {
          "base_uri": "https://localhost:8080/"
        },
        "id": "UjuI5prTQR8T",
        "outputId": "e52f3551-f53f-4e49-8ec9-477c4c42ba28"
      },
      "execution_count": null,
      "outputs": [
        {
          "output_type": "stream",
          "name": "stdout",
          "text": [
            "[[580606 562232]\n",
            " [191264 936380]]\n",
            "accuracy: 0.6681\n",
            "precision_pos: 0.6248\n",
            "recall_pos: 0.8304\n",
            "precision_neg: 0.7522\n",
            "recall_neg: 0.5080\n"
          ]
        }
      ]
    },
    {
      "cell_type": "code",
      "source": [
        "old_vadar_score_df = pd.read_csv('full_df_big_deprecated.csv')\n",
        "old_vadar_score_df.loc[:, 'vadar'] = old_vadar_score_df['vadar'].apply(modify_value)\n",
        "vader_scores = old_vadar_score_df['vadar']"
      ],
      "metadata": {
        "id": "ZPPJCENeRA4X"
      },
      "execution_count": null,
      "outputs": []
    },
    {
      "cell_type": "code",
      "source": [
        "print(vader_scores_swapped)"
      ],
      "metadata": {
        "colab": {
          "base_uri": "https://localhost:8080/"
        },
        "id": "1JpmSLy-SfSH",
        "outputId": "3571d4f9-2d6a-452f-9fba-135dd86ecc80"
      },
      "execution_count": null,
      "outputs": [
        {
          "output_type": "stream",
          "name": "stdout",
          "text": [
            "0          1.0\n",
            "1          1.0\n",
            "2         -1.0\n",
            "3         -1.0\n",
            "4         -1.0\n",
            "          ... \n",
            "2270477   -1.0\n",
            "2270478    1.0\n",
            "2270479    1.0\n",
            "2270480    1.0\n",
            "2270481    1.0\n",
            "Name: vadar, Length: 2270482, dtype: float64\n"
          ]
        }
      ]
    },
    {
      "cell_type": "code",
      "source": [
        "first_part = vader_scores.iloc[:num_rows]\n",
        "second_part = vader_scores.iloc[num_rows:]\n",
        "\n",
        "vader_scores_swapped = pd.concat([second_part, first_part]).reset_index(drop=True)"
      ],
      "metadata": {
        "id": "jtGyJJTUSLVU"
      },
      "execution_count": null,
      "outputs": []
    },
    {
      "cell_type": "code",
      "source": [
        "old_vadar_score_df.head()"
      ],
      "metadata": {
        "colab": {
          "base_uri": "https://localhost:8080/",
          "height": 206
        },
        "id": "VnGde7VHRM_R",
        "outputId": "b58fa8b9-55dd-4e5e-bb52-047ee022f9f1"
      },
      "execution_count": null,
      "outputs": [
        {
          "output_type": "execute_result",
          "data": {
            "text/plain": [
              "   Unnamed: 0                                               line  label  \\\n",
              "0           0  <user> i dunno justin read my mention or not ....      1   \n",
              "1           1  because your logic is so dumb , i will not eve...      1   \n",
              "2           2  <user> just put casper in a box ! looved the b...      1   \n",
              "3           3  <user> <user> thanks sir > > do not trip lil m...      1   \n",
              "4           4  visiting my brother tmr is the bestest birthda...      1   \n",
              "\n",
              "   emoji_scores  spam_score  fake_lables   vadar  \n",
              "0             0           0            0  0.6597  \n",
              "1             0           0            0 -0.6418  \n",
              "2             0           0            0 -0.7896  \n",
              "3             0           0            0  0.4926  \n",
              "4             0           0            0  0.5826  "
            ],
            "text/html": [
              "\n",
              "  <div id=\"df-4b54e839-b209-45cc-b37f-f4d53d19a4ae\" class=\"colab-df-container\">\n",
              "    <div>\n",
              "<style scoped>\n",
              "    .dataframe tbody tr th:only-of-type {\n",
              "        vertical-align: middle;\n",
              "    }\n",
              "\n",
              "    .dataframe tbody tr th {\n",
              "        vertical-align: top;\n",
              "    }\n",
              "\n",
              "    .dataframe thead th {\n",
              "        text-align: right;\n",
              "    }\n",
              "</style>\n",
              "<table border=\"1\" class=\"dataframe\">\n",
              "  <thead>\n",
              "    <tr style=\"text-align: right;\">\n",
              "      <th></th>\n",
              "      <th>Unnamed: 0</th>\n",
              "      <th>line</th>\n",
              "      <th>label</th>\n",
              "      <th>emoji_scores</th>\n",
              "      <th>spam_score</th>\n",
              "      <th>fake_lables</th>\n",
              "      <th>vadar</th>\n",
              "    </tr>\n",
              "  </thead>\n",
              "  <tbody>\n",
              "    <tr>\n",
              "      <th>0</th>\n",
              "      <td>0</td>\n",
              "      <td>&lt;user&gt; i dunno justin read my mention or not ....</td>\n",
              "      <td>1</td>\n",
              "      <td>0</td>\n",
              "      <td>0</td>\n",
              "      <td>0</td>\n",
              "      <td>0.6597</td>\n",
              "    </tr>\n",
              "    <tr>\n",
              "      <th>1</th>\n",
              "      <td>1</td>\n",
              "      <td>because your logic is so dumb , i will not eve...</td>\n",
              "      <td>1</td>\n",
              "      <td>0</td>\n",
              "      <td>0</td>\n",
              "      <td>0</td>\n",
              "      <td>-0.6418</td>\n",
              "    </tr>\n",
              "    <tr>\n",
              "      <th>2</th>\n",
              "      <td>2</td>\n",
              "      <td>&lt;user&gt; just put casper in a box ! looved the b...</td>\n",
              "      <td>1</td>\n",
              "      <td>0</td>\n",
              "      <td>0</td>\n",
              "      <td>0</td>\n",
              "      <td>-0.7896</td>\n",
              "    </tr>\n",
              "    <tr>\n",
              "      <th>3</th>\n",
              "      <td>3</td>\n",
              "      <td>&lt;user&gt; &lt;user&gt; thanks sir &gt; &gt; do not trip lil m...</td>\n",
              "      <td>1</td>\n",
              "      <td>0</td>\n",
              "      <td>0</td>\n",
              "      <td>0</td>\n",
              "      <td>0.4926</td>\n",
              "    </tr>\n",
              "    <tr>\n",
              "      <th>4</th>\n",
              "      <td>4</td>\n",
              "      <td>visiting my brother tmr is the bestest birthda...</td>\n",
              "      <td>1</td>\n",
              "      <td>0</td>\n",
              "      <td>0</td>\n",
              "      <td>0</td>\n",
              "      <td>0.5826</td>\n",
              "    </tr>\n",
              "  </tbody>\n",
              "</table>\n",
              "</div>\n",
              "    <div class=\"colab-df-buttons\">\n",
              "\n",
              "  <div class=\"colab-df-container\">\n",
              "    <button class=\"colab-df-convert\" onclick=\"convertToInteractive('df-4b54e839-b209-45cc-b37f-f4d53d19a4ae')\"\n",
              "            title=\"Convert this dataframe to an interactive table.\"\n",
              "            style=\"display:none;\">\n",
              "\n",
              "  <svg xmlns=\"http://www.w3.org/2000/svg\" height=\"24px\" viewBox=\"0 -960 960 960\">\n",
              "    <path d=\"M120-120v-720h720v720H120Zm60-500h600v-160H180v160Zm220 220h160v-160H400v160Zm0 220h160v-160H400v160ZM180-400h160v-160H180v160Zm440 0h160v-160H620v160ZM180-180h160v-160H180v160Zm440 0h160v-160H620v160Z\"/>\n",
              "  </svg>\n",
              "    </button>\n",
              "\n",
              "  <style>\n",
              "    .colab-df-container {\n",
              "      display:flex;\n",
              "      gap: 12px;\n",
              "    }\n",
              "\n",
              "    .colab-df-convert {\n",
              "      background-color: #E8F0FE;\n",
              "      border: none;\n",
              "      border-radius: 50%;\n",
              "      cursor: pointer;\n",
              "      display: none;\n",
              "      fill: #1967D2;\n",
              "      height: 32px;\n",
              "      padding: 0 0 0 0;\n",
              "      width: 32px;\n",
              "    }\n",
              "\n",
              "    .colab-df-convert:hover {\n",
              "      background-color: #E2EBFA;\n",
              "      box-shadow: 0px 1px 2px rgba(60, 64, 67, 0.3), 0px 1px 3px 1px rgba(60, 64, 67, 0.15);\n",
              "      fill: #174EA6;\n",
              "    }\n",
              "\n",
              "    .colab-df-buttons div {\n",
              "      margin-bottom: 4px;\n",
              "    }\n",
              "\n",
              "    [theme=dark] .colab-df-convert {\n",
              "      background-color: #3B4455;\n",
              "      fill: #D2E3FC;\n",
              "    }\n",
              "\n",
              "    [theme=dark] .colab-df-convert:hover {\n",
              "      background-color: #434B5C;\n",
              "      box-shadow: 0px 1px 3px 1px rgba(0, 0, 0, 0.15);\n",
              "      filter: drop-shadow(0px 1px 2px rgba(0, 0, 0, 0.3));\n",
              "      fill: #FFFFFF;\n",
              "    }\n",
              "  </style>\n",
              "\n",
              "    <script>\n",
              "      const buttonEl =\n",
              "        document.querySelector('#df-4b54e839-b209-45cc-b37f-f4d53d19a4ae button.colab-df-convert');\n",
              "      buttonEl.style.display =\n",
              "        google.colab.kernel.accessAllowed ? 'block' : 'none';\n",
              "\n",
              "      async function convertToInteractive(key) {\n",
              "        const element = document.querySelector('#df-4b54e839-b209-45cc-b37f-f4d53d19a4ae');\n",
              "        const dataTable =\n",
              "          await google.colab.kernel.invokeFunction('convertToInteractive',\n",
              "                                                    [key], {});\n",
              "        if (!dataTable) return;\n",
              "\n",
              "        const docLinkHtml = 'Like what you see? Visit the ' +\n",
              "          '<a target=\"_blank\" href=https://colab.research.google.com/notebooks/data_table.ipynb>data table notebook</a>'\n",
              "          + ' to learn more about interactive tables.';\n",
              "        element.innerHTML = '';\n",
              "        dataTable['output_type'] = 'display_data';\n",
              "        await google.colab.output.renderOutput(dataTable, element);\n",
              "        const docLink = document.createElement('div');\n",
              "        docLink.innerHTML = docLinkHtml;\n",
              "        element.appendChild(docLink);\n",
              "      }\n",
              "    </script>\n",
              "  </div>\n",
              "\n",
              "\n",
              "<div id=\"df-0e1bc0f3-69aa-4963-bd20-d430913c7b42\">\n",
              "  <button class=\"colab-df-quickchart\" onclick=\"quickchart('df-0e1bc0f3-69aa-4963-bd20-d430913c7b42')\"\n",
              "            title=\"Suggest charts\"\n",
              "            style=\"display:none;\">\n",
              "\n",
              "<svg xmlns=\"http://www.w3.org/2000/svg\" height=\"24px\"viewBox=\"0 0 24 24\"\n",
              "     width=\"24px\">\n",
              "    <g>\n",
              "        <path d=\"M19 3H5c-1.1 0-2 .9-2 2v14c0 1.1.9 2 2 2h14c1.1 0 2-.9 2-2V5c0-1.1-.9-2-2-2zM9 17H7v-7h2v7zm4 0h-2V7h2v10zm4 0h-2v-4h2v4z\"/>\n",
              "    </g>\n",
              "</svg>\n",
              "  </button>\n",
              "\n",
              "<style>\n",
              "  .colab-df-quickchart {\n",
              "      --bg-color: #E8F0FE;\n",
              "      --fill-color: #1967D2;\n",
              "      --hover-bg-color: #E2EBFA;\n",
              "      --hover-fill-color: #174EA6;\n",
              "      --disabled-fill-color: #AAA;\n",
              "      --disabled-bg-color: #DDD;\n",
              "  }\n",
              "\n",
              "  [theme=dark] .colab-df-quickchart {\n",
              "      --bg-color: #3B4455;\n",
              "      --fill-color: #D2E3FC;\n",
              "      --hover-bg-color: #434B5C;\n",
              "      --hover-fill-color: #FFFFFF;\n",
              "      --disabled-bg-color: #3B4455;\n",
              "      --disabled-fill-color: #666;\n",
              "  }\n",
              "\n",
              "  .colab-df-quickchart {\n",
              "    background-color: var(--bg-color);\n",
              "    border: none;\n",
              "    border-radius: 50%;\n",
              "    cursor: pointer;\n",
              "    display: none;\n",
              "    fill: var(--fill-color);\n",
              "    height: 32px;\n",
              "    padding: 0;\n",
              "    width: 32px;\n",
              "  }\n",
              "\n",
              "  .colab-df-quickchart:hover {\n",
              "    background-color: var(--hover-bg-color);\n",
              "    box-shadow: 0 1px 2px rgba(60, 64, 67, 0.3), 0 1px 3px 1px rgba(60, 64, 67, 0.15);\n",
              "    fill: var(--button-hover-fill-color);\n",
              "  }\n",
              "\n",
              "  .colab-df-quickchart-complete:disabled,\n",
              "  .colab-df-quickchart-complete:disabled:hover {\n",
              "    background-color: var(--disabled-bg-color);\n",
              "    fill: var(--disabled-fill-color);\n",
              "    box-shadow: none;\n",
              "  }\n",
              "\n",
              "  .colab-df-spinner {\n",
              "    border: 2px solid var(--fill-color);\n",
              "    border-color: transparent;\n",
              "    border-bottom-color: var(--fill-color);\n",
              "    animation:\n",
              "      spin 1s steps(1) infinite;\n",
              "  }\n",
              "\n",
              "  @keyframes spin {\n",
              "    0% {\n",
              "      border-color: transparent;\n",
              "      border-bottom-color: var(--fill-color);\n",
              "      border-left-color: var(--fill-color);\n",
              "    }\n",
              "    20% {\n",
              "      border-color: transparent;\n",
              "      border-left-color: var(--fill-color);\n",
              "      border-top-color: var(--fill-color);\n",
              "    }\n",
              "    30% {\n",
              "      border-color: transparent;\n",
              "      border-left-color: var(--fill-color);\n",
              "      border-top-color: var(--fill-color);\n",
              "      border-right-color: var(--fill-color);\n",
              "    }\n",
              "    40% {\n",
              "      border-color: transparent;\n",
              "      border-right-color: var(--fill-color);\n",
              "      border-top-color: var(--fill-color);\n",
              "    }\n",
              "    60% {\n",
              "      border-color: transparent;\n",
              "      border-right-color: var(--fill-color);\n",
              "    }\n",
              "    80% {\n",
              "      border-color: transparent;\n",
              "      border-right-color: var(--fill-color);\n",
              "      border-bottom-color: var(--fill-color);\n",
              "    }\n",
              "    90% {\n",
              "      border-color: transparent;\n",
              "      border-bottom-color: var(--fill-color);\n",
              "    }\n",
              "  }\n",
              "</style>\n",
              "\n",
              "  <script>\n",
              "    async function quickchart(key) {\n",
              "      const quickchartButtonEl =\n",
              "        document.querySelector('#' + key + ' button');\n",
              "      quickchartButtonEl.disabled = true;  // To prevent multiple clicks.\n",
              "      quickchartButtonEl.classList.add('colab-df-spinner');\n",
              "      try {\n",
              "        const charts = await google.colab.kernel.invokeFunction(\n",
              "            'suggestCharts', [key], {});\n",
              "      } catch (error) {\n",
              "        console.error('Error during call to suggestCharts:', error);\n",
              "      }\n",
              "      quickchartButtonEl.classList.remove('colab-df-spinner');\n",
              "      quickchartButtonEl.classList.add('colab-df-quickchart-complete');\n",
              "    }\n",
              "    (() => {\n",
              "      let quickchartButtonEl =\n",
              "        document.querySelector('#df-0e1bc0f3-69aa-4963-bd20-d430913c7b42 button');\n",
              "      quickchartButtonEl.style.display =\n",
              "        google.colab.kernel.accessAllowed ? 'block' : 'none';\n",
              "    })();\n",
              "  </script>\n",
              "</div>\n",
              "\n",
              "    </div>\n",
              "  </div>\n"
            ],
            "application/vnd.google.colaboratory.intrinsic+json": {
              "type": "dataframe",
              "variable_name": "old_vadar_score_df"
            }
          },
          "metadata": {},
          "execution_count": 7
        }
      ]
    },
    {
      "cell_type": "code",
      "source": [
        "vadar_score_cal_df = pd.DataFrame({'label': train_df['label'], 'vader_scores': vader_scores_swapped})\n",
        "# Filter out rows where the 'vader_scores' is NaN\n",
        "filtered_df = vadar_score_cal_df.dropna(subset=['vader_scores'])\n",
        "print(f\"length of non-np.nan elements {len(filtered_df)/2270482}\")\n",
        "print(f\"length of pos elements {len(filtered_df[filtered_df['vader_scores']==1])/len(filtered_df)}\")\n",
        "print(f\"length of neg elements {len(filtered_df[filtered_df['vader_scores']==-1])/len(filtered_df)}\")\n",
        "# Compute accuracy only on non-NaN values\n",
        "accuracy = accuracy_score(filtered_df['label'], filtered_df['vader_scores'])\n",
        "from sklearn.metrics import accuracy_score,precision_score, recall_score\n",
        "accuracy_sam = accuracy_score(filtered_df['label'], filtered_df['vader_scores'])\n",
        "precision_sam = precision_score(filtered_df['label'], filtered_df['vader_scores'])\n",
        "recall_sam = recall_score(filtered_df['label'], filtered_df['vader_scores'])\n",
        "precision_sam_neg = precision_score(filtered_df['label'], filtered_df['vader_scores'],pos_label =-1)\n",
        "recall_sam_neg = recall_score(filtered_df['label'], filtered_df['vader_scores'],pos_label =-1)\n",
        "\n",
        "cm = confusion_matrix(filtered_df['label'], filtered_df['vader_scores'])\n",
        "print(cm)\n",
        "print(f\"accuracy: {accuracy_sam:.2f}\")\n",
        "print(f\"precision_pos: {precision_sam:.2f}\")\n",
        "print(f\"recall_pos: {recall_sam:.2f}\")\n",
        "print(f\"precision_neg: {precision_sam_neg:.2f}\")\n",
        "print(f\"recall_neg: {recall_sam_neg:.2f}\")"
      ],
      "metadata": {
        "colab": {
          "base_uri": "https://localhost:8080/"
        },
        "id": "uZAwcCuxQTwH",
        "outputId": "8accbd0e-6d18-4408-f3d3-b9aa9b3f61b8"
      },
      "execution_count": null,
      "outputs": [
        {
          "output_type": "stream",
          "name": "stdout",
          "text": [
            "length of non-np.nan elements 0.7463719157430009\n",
            "length of pos elements 0.677930915648545\n",
            "length of neg elements 0.322069084351455\n",
            "[[414129 414532]\n",
            " [131657 734306]]\n",
            "accuracy: 0.68\n",
            "precision_pos: 0.64\n",
            "recall_pos: 0.85\n",
            "precision_neg: 0.76\n",
            "recall_neg: 0.50\n"
          ]
        }
      ]
    },
    {
      "cell_type": "code",
      "source": [],
      "metadata": {
        "id": "WvFtD8kCQx_X"
      },
      "execution_count": null,
      "outputs": []
    }
  ]
}