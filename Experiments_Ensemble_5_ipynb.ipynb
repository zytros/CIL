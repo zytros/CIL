{
  "nbformat": 4,
  "nbformat_minor": 0,
  "metadata": {
    "colab": {
      "provenance": []
    },
    "kernelspec": {
      "name": "python3",
      "display_name": "Python 3"
    },
    "language_info": {
      "name": "python"
    }
  },
  "cells": [
    {
      "cell_type": "markdown",
      "source": [
        "## This notebook contains experiments for comparing different ensemble methods\n"
      ],
      "metadata": {
        "id": "sOzpc6FcOKzq"
      }
    },
    {
      "cell_type": "code",
      "source": [
        "from google.colab import drive\n",
        "drive.mount('/content/drive')"
      ],
      "metadata": {
        "colab": {
          "base_uri": "https://localhost:8080/"
        },
        "id": "WPEkhIymOUXd",
        "outputId": "77586e44-b7e5-45a2-cbae-a7553b77fbe6"
      },
      "execution_count": null,
      "outputs": [
        {
          "output_type": "stream",
          "name": "stdout",
          "text": [
            "Drive already mounted at /content/drive; to attempt to forcibly remount, call drive.mount(\"/content/drive\", force_remount=True).\n"
          ]
        }
      ]
    },
    {
      "cell_type": "code",
      "source": [
        "import numpy as np\n",
        "import pandas as pd\n",
        "\n",
        "import pandas as pd\n",
        "train_df = pd.read_csv('/content/drive/MyDrive/tiwtter_sentiment_big_file/submission_train.csv')\n",
        "train_df.head()"
      ],
      "metadata": {
        "colab": {
          "base_uri": "https://localhost:8080/",
          "height": 206
        },
        "id": "JwDr8AG8XQJm",
        "outputId": "f8acd331-ad1e-48fa-dd2e-52e17eb700b8"
      },
      "execution_count": null,
      "outputs": [
        {
          "output_type": "execute_result",
          "data": {
            "text/plain": [
              "                                                line  label  emoji_scores  \\\n",
              "0  <user> i dunno justin read my mention or not ....      1           0.0   \n",
              "1  because your logic is so dumb , i will not eve...      1           0.0   \n",
              "2  <user> just put casper in a box ! looved the b...      1           0.0   \n",
              "3  <user> <user> thanks sir > > do not trip lil m...      1           0.0   \n",
              "4  visiting my brother tmr is the bestest birthda...      1           0.0   \n",
              "\n",
              "   fake_lables  spam_score   vadar  emotion_scores  sentiment_scores  \n",
              "0            0           0  0.6597               1                 1  \n",
              "1            0           0 -0.6418              -1                -1  \n",
              "2            0           0 -0.7896               1                 1  \n",
              "3            0           0  0.4926               1                 1  \n",
              "4            0           0  0.5826               1                 1  "
            ],
            "text/html": [
              "\n",
              "  <div id=\"df-ecf36004-8773-459e-bb63-736068f14121\" class=\"colab-df-container\">\n",
              "    <div>\n",
              "<style scoped>\n",
              "    .dataframe tbody tr th:only-of-type {\n",
              "        vertical-align: middle;\n",
              "    }\n",
              "\n",
              "    .dataframe tbody tr th {\n",
              "        vertical-align: top;\n",
              "    }\n",
              "\n",
              "    .dataframe thead th {\n",
              "        text-align: right;\n",
              "    }\n",
              "</style>\n",
              "<table border=\"1\" class=\"dataframe\">\n",
              "  <thead>\n",
              "    <tr style=\"text-align: right;\">\n",
              "      <th></th>\n",
              "      <th>line</th>\n",
              "      <th>label</th>\n",
              "      <th>emoji_scores</th>\n",
              "      <th>fake_lables</th>\n",
              "      <th>spam_score</th>\n",
              "      <th>vadar</th>\n",
              "      <th>emotion_scores</th>\n",
              "      <th>sentiment_scores</th>\n",
              "    </tr>\n",
              "  </thead>\n",
              "  <tbody>\n",
              "    <tr>\n",
              "      <th>0</th>\n",
              "      <td>&lt;user&gt; i dunno justin read my mention or not ....</td>\n",
              "      <td>1</td>\n",
              "      <td>0.0</td>\n",
              "      <td>0</td>\n",
              "      <td>0</td>\n",
              "      <td>0.6597</td>\n",
              "      <td>1</td>\n",
              "      <td>1</td>\n",
              "    </tr>\n",
              "    <tr>\n",
              "      <th>1</th>\n",
              "      <td>because your logic is so dumb , i will not eve...</td>\n",
              "      <td>1</td>\n",
              "      <td>0.0</td>\n",
              "      <td>0</td>\n",
              "      <td>0</td>\n",
              "      <td>-0.6418</td>\n",
              "      <td>-1</td>\n",
              "      <td>-1</td>\n",
              "    </tr>\n",
              "    <tr>\n",
              "      <th>2</th>\n",
              "      <td>&lt;user&gt; just put casper in a box ! looved the b...</td>\n",
              "      <td>1</td>\n",
              "      <td>0.0</td>\n",
              "      <td>0</td>\n",
              "      <td>0</td>\n",
              "      <td>-0.7896</td>\n",
              "      <td>1</td>\n",
              "      <td>1</td>\n",
              "    </tr>\n",
              "    <tr>\n",
              "      <th>3</th>\n",
              "      <td>&lt;user&gt; &lt;user&gt; thanks sir &gt; &gt; do not trip lil m...</td>\n",
              "      <td>1</td>\n",
              "      <td>0.0</td>\n",
              "      <td>0</td>\n",
              "      <td>0</td>\n",
              "      <td>0.4926</td>\n",
              "      <td>1</td>\n",
              "      <td>1</td>\n",
              "    </tr>\n",
              "    <tr>\n",
              "      <th>4</th>\n",
              "      <td>visiting my brother tmr is the bestest birthda...</td>\n",
              "      <td>1</td>\n",
              "      <td>0.0</td>\n",
              "      <td>0</td>\n",
              "      <td>0</td>\n",
              "      <td>0.5826</td>\n",
              "      <td>1</td>\n",
              "      <td>1</td>\n",
              "    </tr>\n",
              "  </tbody>\n",
              "</table>\n",
              "</div>\n",
              "    <div class=\"colab-df-buttons\">\n",
              "\n",
              "  <div class=\"colab-df-container\">\n",
              "    <button class=\"colab-df-convert\" onclick=\"convertToInteractive('df-ecf36004-8773-459e-bb63-736068f14121')\"\n",
              "            title=\"Convert this dataframe to an interactive table.\"\n",
              "            style=\"display:none;\">\n",
              "\n",
              "  <svg xmlns=\"http://www.w3.org/2000/svg\" height=\"24px\" viewBox=\"0 -960 960 960\">\n",
              "    <path d=\"M120-120v-720h720v720H120Zm60-500h600v-160H180v160Zm220 220h160v-160H400v160Zm0 220h160v-160H400v160ZM180-400h160v-160H180v160Zm440 0h160v-160H620v160ZM180-180h160v-160H180v160Zm440 0h160v-160H620v160Z\"/>\n",
              "  </svg>\n",
              "    </button>\n",
              "\n",
              "  <style>\n",
              "    .colab-df-container {\n",
              "      display:flex;\n",
              "      gap: 12px;\n",
              "    }\n",
              "\n",
              "    .colab-df-convert {\n",
              "      background-color: #E8F0FE;\n",
              "      border: none;\n",
              "      border-radius: 50%;\n",
              "      cursor: pointer;\n",
              "      display: none;\n",
              "      fill: #1967D2;\n",
              "      height: 32px;\n",
              "      padding: 0 0 0 0;\n",
              "      width: 32px;\n",
              "    }\n",
              "\n",
              "    .colab-df-convert:hover {\n",
              "      background-color: #E2EBFA;\n",
              "      box-shadow: 0px 1px 2px rgba(60, 64, 67, 0.3), 0px 1px 3px 1px rgba(60, 64, 67, 0.15);\n",
              "      fill: #174EA6;\n",
              "    }\n",
              "\n",
              "    .colab-df-buttons div {\n",
              "      margin-bottom: 4px;\n",
              "    }\n",
              "\n",
              "    [theme=dark] .colab-df-convert {\n",
              "      background-color: #3B4455;\n",
              "      fill: #D2E3FC;\n",
              "    }\n",
              "\n",
              "    [theme=dark] .colab-df-convert:hover {\n",
              "      background-color: #434B5C;\n",
              "      box-shadow: 0px 1px 3px 1px rgba(0, 0, 0, 0.15);\n",
              "      filter: drop-shadow(0px 1px 2px rgba(0, 0, 0, 0.3));\n",
              "      fill: #FFFFFF;\n",
              "    }\n",
              "  </style>\n",
              "\n",
              "    <script>\n",
              "      const buttonEl =\n",
              "        document.querySelector('#df-ecf36004-8773-459e-bb63-736068f14121 button.colab-df-convert');\n",
              "      buttonEl.style.display =\n",
              "        google.colab.kernel.accessAllowed ? 'block' : 'none';\n",
              "\n",
              "      async function convertToInteractive(key) {\n",
              "        const element = document.querySelector('#df-ecf36004-8773-459e-bb63-736068f14121');\n",
              "        const dataTable =\n",
              "          await google.colab.kernel.invokeFunction('convertToInteractive',\n",
              "                                                    [key], {});\n",
              "        if (!dataTable) return;\n",
              "\n",
              "        const docLinkHtml = 'Like what you see? Visit the ' +\n",
              "          '<a target=\"_blank\" href=https://colab.research.google.com/notebooks/data_table.ipynb>data table notebook</a>'\n",
              "          + ' to learn more about interactive tables.';\n",
              "        element.innerHTML = '';\n",
              "        dataTable['output_type'] = 'display_data';\n",
              "        await google.colab.output.renderOutput(dataTable, element);\n",
              "        const docLink = document.createElement('div');\n",
              "        docLink.innerHTML = docLinkHtml;\n",
              "        element.appendChild(docLink);\n",
              "      }\n",
              "    </script>\n",
              "  </div>\n",
              "\n",
              "\n",
              "<div id=\"df-f38ecf30-b7d8-48bf-a143-d7ed4ddb09f8\">\n",
              "  <button class=\"colab-df-quickchart\" onclick=\"quickchart('df-f38ecf30-b7d8-48bf-a143-d7ed4ddb09f8')\"\n",
              "            title=\"Suggest charts\"\n",
              "            style=\"display:none;\">\n",
              "\n",
              "<svg xmlns=\"http://www.w3.org/2000/svg\" height=\"24px\"viewBox=\"0 0 24 24\"\n",
              "     width=\"24px\">\n",
              "    <g>\n",
              "        <path d=\"M19 3H5c-1.1 0-2 .9-2 2v14c0 1.1.9 2 2 2h14c1.1 0 2-.9 2-2V5c0-1.1-.9-2-2-2zM9 17H7v-7h2v7zm4 0h-2V7h2v10zm4 0h-2v-4h2v4z\"/>\n",
              "    </g>\n",
              "</svg>\n",
              "  </button>\n",
              "\n",
              "<style>\n",
              "  .colab-df-quickchart {\n",
              "      --bg-color: #E8F0FE;\n",
              "      --fill-color: #1967D2;\n",
              "      --hover-bg-color: #E2EBFA;\n",
              "      --hover-fill-color: #174EA6;\n",
              "      --disabled-fill-color: #AAA;\n",
              "      --disabled-bg-color: #DDD;\n",
              "  }\n",
              "\n",
              "  [theme=dark] .colab-df-quickchart {\n",
              "      --bg-color: #3B4455;\n",
              "      --fill-color: #D2E3FC;\n",
              "      --hover-bg-color: #434B5C;\n",
              "      --hover-fill-color: #FFFFFF;\n",
              "      --disabled-bg-color: #3B4455;\n",
              "      --disabled-fill-color: #666;\n",
              "  }\n",
              "\n",
              "  .colab-df-quickchart {\n",
              "    background-color: var(--bg-color);\n",
              "    border: none;\n",
              "    border-radius: 50%;\n",
              "    cursor: pointer;\n",
              "    display: none;\n",
              "    fill: var(--fill-color);\n",
              "    height: 32px;\n",
              "    padding: 0;\n",
              "    width: 32px;\n",
              "  }\n",
              "\n",
              "  .colab-df-quickchart:hover {\n",
              "    background-color: var(--hover-bg-color);\n",
              "    box-shadow: 0 1px 2px rgba(60, 64, 67, 0.3), 0 1px 3px 1px rgba(60, 64, 67, 0.15);\n",
              "    fill: var(--button-hover-fill-color);\n",
              "  }\n",
              "\n",
              "  .colab-df-quickchart-complete:disabled,\n",
              "  .colab-df-quickchart-complete:disabled:hover {\n",
              "    background-color: var(--disabled-bg-color);\n",
              "    fill: var(--disabled-fill-color);\n",
              "    box-shadow: none;\n",
              "  }\n",
              "\n",
              "  .colab-df-spinner {\n",
              "    border: 2px solid var(--fill-color);\n",
              "    border-color: transparent;\n",
              "    border-bottom-color: var(--fill-color);\n",
              "    animation:\n",
              "      spin 1s steps(1) infinite;\n",
              "  }\n",
              "\n",
              "  @keyframes spin {\n",
              "    0% {\n",
              "      border-color: transparent;\n",
              "      border-bottom-color: var(--fill-color);\n",
              "      border-left-color: var(--fill-color);\n",
              "    }\n",
              "    20% {\n",
              "      border-color: transparent;\n",
              "      border-left-color: var(--fill-color);\n",
              "      border-top-color: var(--fill-color);\n",
              "    }\n",
              "    30% {\n",
              "      border-color: transparent;\n",
              "      border-left-color: var(--fill-color);\n",
              "      border-top-color: var(--fill-color);\n",
              "      border-right-color: var(--fill-color);\n",
              "    }\n",
              "    40% {\n",
              "      border-color: transparent;\n",
              "      border-right-color: var(--fill-color);\n",
              "      border-top-color: var(--fill-color);\n",
              "    }\n",
              "    60% {\n",
              "      border-color: transparent;\n",
              "      border-right-color: var(--fill-color);\n",
              "    }\n",
              "    80% {\n",
              "      border-color: transparent;\n",
              "      border-right-color: var(--fill-color);\n",
              "      border-bottom-color: var(--fill-color);\n",
              "    }\n",
              "    90% {\n",
              "      border-color: transparent;\n",
              "      border-bottom-color: var(--fill-color);\n",
              "    }\n",
              "  }\n",
              "</style>\n",
              "\n",
              "  <script>\n",
              "    async function quickchart(key) {\n",
              "      const quickchartButtonEl =\n",
              "        document.querySelector('#' + key + ' button');\n",
              "      quickchartButtonEl.disabled = true;  // To prevent multiple clicks.\n",
              "      quickchartButtonEl.classList.add('colab-df-spinner');\n",
              "      try {\n",
              "        const charts = await google.colab.kernel.invokeFunction(\n",
              "            'suggestCharts', [key], {});\n",
              "      } catch (error) {\n",
              "        console.error('Error during call to suggestCharts:', error);\n",
              "      }\n",
              "      quickchartButtonEl.classList.remove('colab-df-spinner');\n",
              "      quickchartButtonEl.classList.add('colab-df-quickchart-complete');\n",
              "    }\n",
              "    (() => {\n",
              "      let quickchartButtonEl =\n",
              "        document.querySelector('#df-f38ecf30-b7d8-48bf-a143-d7ed4ddb09f8 button');\n",
              "      quickchartButtonEl.style.display =\n",
              "        google.colab.kernel.accessAllowed ? 'block' : 'none';\n",
              "    })();\n",
              "  </script>\n",
              "</div>\n",
              "\n",
              "    </div>\n",
              "  </div>\n"
            ],
            "application/vnd.google.colaboratory.intrinsic+json": {
              "type": "dataframe",
              "variable_name": "train_df"
            }
          },
          "metadata": {},
          "execution_count": 32
        }
      ]
    },
    {
      "cell_type": "markdown",
      "source": [
        "## Swap orders cause there were differences in ways my team mate and i built the training dataframe"
      ],
      "metadata": {
        "id": "NbbbD_jXXhUQ"
      }
    },
    {
      "cell_type": "markdown",
      "source": [],
      "metadata": {
        "id": "xQ_jCmZAXoD-"
      }
    },
    {
      "cell_type": "code",
      "source": [
        "samuels_pred_df = pd.read_csv('/content/drive/MyDrive/tiwtter_sentiment_big_file/training_no_duplicates.csv')"
      ],
      "metadata": {
        "id": "jX67AV7CXRQj"
      },
      "execution_count": null,
      "outputs": []
    },
    {
      "cell_type": "code",
      "source": [
        "num_rows =1127644\n",
        "# Split the DataFrame into two parts\n",
        "first_part = train_df.iloc[:num_rows]\n",
        "second_part = train_df.iloc[num_rows:]\n",
        "# Concatenate the second part first, followed by the first part\n",
        "train_df = pd.concat([second_part, first_part]).reset_index(drop=True)\n",
        "train_df.rename(columns={'sentiment_scores':'sentiment_scores2'}, inplace=True)\n",
        "train_df.loc[:, 'sentiment_scores'] = samuels_pred_df['predictions']"
      ],
      "metadata": {
        "id": "B_WN47yjXpOG"
      },
      "execution_count": null,
      "outputs": []
    },
    {
      "cell_type": "code",
      "source": [
        "train_df.loc[:, 'sentiment_scores'] = train_df.loc[:, 'sentiment_scores'].replace(0,-1)\n",
        "train_df.loc[:, 'emoji_scores'] = train_df['emoji_scores'].replace(0, np.nan)\n",
        "train_df.loc[:,'spam_score'] = train_df['spam_score'].replace(0,np.nan)\n",
        "train_df.loc[:,'fake_lables'] = train_df['fake_lables'].replace(0,np.nan)\n",
        "train_df.loc[:,'spam_score']= train_df['spam_score'].replace(1,-1)\n",
        "def modify_value(x):\n",
        "    if x == 0.0 or np.isnan(x):\n",
        "        return np.nan\n",
        "    elif x > 0.0:\n",
        "        return 1\n",
        "    else:\n",
        "        return -1\n",
        "train_df.loc[:, 'emoji_scores'] = train_df['emoji_scores'].apply(modify_value)\n",
        "train_df.loc[:, 'vadar'] = train_df['vadar'].apply(modify_value)"
      ],
      "metadata": {
        "id": "ovhafjNxX3Y_"
      },
      "execution_count": null,
      "outputs": []
    },
    {
      "cell_type": "code",
      "source": [
        "from sklearn.model_selection import train_test_split\n",
        "from sklearn.ensemble import HistGradientBoostingClassifier\n",
        "from sklearn.metrics import accuracy_score, precision_score, recall_score, f1_score, roc_auc_score, confusion_matrix, classification_report\n",
        "from sklearn.model_selection import GridSearchCV\n",
        "# Define the target variable y and the features X\n",
        "y = train_df['label']\n",
        "X = train_df[['emoji_scores', 'spam_score', 'fake_lables', 'emotion_scores','sentiment_scores',]]\n",
        "\n",
        "# Split the data into training and testing sets\n",
        "X_train, X_test, y_train, y_test = train_test_split(X, y, test_size=0.2, random_state=42)\n",
        "\n",
        "params = {\n",
        "    'learning_rate': 0.01,\n",
        "    'max_iter': 300,\n",
        "    'max_leaf_nodes': 127,\n",
        "    'max_depth': 5,  # Choose one of the values from [3, 5, 7]\n",
        "    'min_samples_leaf': 20,\n",
        "    'l2_regularization': 0,\n",
        "    'early_stopping': True\n",
        "}\n",
        "\n",
        "# Initialize the model with the specified parameters\n",
        "model = HistGradientBoostingClassifier(**params)\n",
        "model.fit(X_train, y_train)\n",
        "\n",
        "# Make predictions and evaluate the model\n",
        "y_pred = model.predict(X_test)\n",
        "y_pred_proba = model.predict_proba(X_test)[:, 1]  # Probability scores for the positive class\n",
        "\n",
        "accuracy_sam = accuracy_score(y_test, y_pred)\n",
        "precision_sam = precision_score(y_test, y_pred)\n",
        "recall_sam = recall_score(y_test, y_pred)\n",
        "precision_sam_neg = precision_score(y_test, y_pred,pos_label =-1)\n",
        "recall_sam_neg = recall_score(y_test, y_pred,pos_label =-1)\n",
        "print(f\"accuracy: {accuracy_sam:.4f}\")\n",
        "print(f\"precision_pos: {precision_sam:.4f}\")\n",
        "print(f\"recall_pos: {recall_sam:.4f}\")\n",
        "print(f\"precision_neg: {precision_sam_neg:.4f}\")\n",
        "print(f\"recall_neg: {recall_sam_neg:.4f}\")"
      ],
      "metadata": {
        "colab": {
          "base_uri": "https://localhost:8080/"
        },
        "id": "EJQyLZEgYNEH",
        "outputId": "42f9b453-5622-4ca4-b1d7-847728f1e8f1"
      },
      "execution_count": null,
      "outputs": [
        {
          "output_type": "stream",
          "name": "stdout",
          "text": [
            "accuracy: 0.8815\n",
            "precision_pos: 0.8722\n",
            "recall_pos: 0.8922\n",
            "precision_neg: 0.8910\n",
            "recall_neg: 0.8709\n"
          ]
        }
      ]
    },
    {
      "cell_type": "markdown",
      "source": [
        "## After nulling out emotions scores where it's bad"
      ],
      "metadata": {
        "id": "fhy-BtAOZdkk"
      }
    },
    {
      "cell_type": "code",
      "source": [
        "## Nulling out the emotion_scores\n",
        "train_df2 = train_df.copy()\n",
        "train_df2.loc[train_df2['emoji_scores'] == -1, 'emotion_scores'] = np.nan\n",
        "train_df2.loc[train_df2['emoji_scores'] == -1, 'vadar'] = np.nan\n",
        "train_df2.loc[train_df2['fake_lables'] == -1, 'emotion_scores'] = np.nan\n",
        "train_df2.loc[train_df2['fake_lables'] == -1, 'vadar'] = np.nan\n",
        "train_df2.loc[train_df2['spam_score'] == -1, 'emotion_scores'] = np.nan\n",
        "train_df2.loc[train_df2['spam_score'] == -1, 'vadar'] = np.nan"
      ],
      "metadata": {
        "id": "xeANcO3GYKVU"
      },
      "execution_count": null,
      "outputs": []
    },
    {
      "cell_type": "code",
      "source": [
        "from sklearn.model_selection import train_test_split\n",
        "from sklearn.ensemble import HistGradientBoostingClassifier\n",
        "from sklearn.metrics import accuracy_score, precision_score, recall_score, f1_score, roc_auc_score, confusion_matrix, classification_report\n",
        "from sklearn.model_selection import GridSearchCV\n",
        "# Define the target variable y and the features X\n",
        "y = train_df2['label']\n",
        "X = train_df2[['emoji_scores', 'spam_score', 'fake_lables', 'emotion_scores','sentiment_scores']]\n",
        "\n",
        "# Split the data into training and testing sets\n",
        "X_train, X_test, y_train, y_test = train_test_split(X, y, test_size=0.2, random_state=42)\n",
        "\n",
        "params = {\n",
        "    'learning_rate': 0.01,\n",
        "    'max_iter': 300,\n",
        "    'max_leaf_nodes': 127,\n",
        "    'max_depth': 5,  # Choose one of the values from [3, 5, 7]\n",
        "    'min_samples_leaf': 20,\n",
        "    'l2_regularization': 0,\n",
        "    'early_stopping': True\n",
        "}\n",
        "\n",
        "# Initialize the model with the specified parameters\n",
        "model = HistGradientBoostingClassifier(**params)\n",
        "model.fit(X_train, y_train)\n",
        "\n",
        "# Make predictions and evaluate the model\n",
        "y_pred = model.predict(X_test)\n",
        "y_pred_proba = model.predict_proba(X_test)[:, 1]  # Probability scores for the positive class\n",
        "\n",
        "accuracy_sam = accuracy_score(y_test, y_pred)\n",
        "precision_sam = precision_score(y_test, y_pred)\n",
        "recall_sam = recall_score(y_test, y_pred)\n",
        "precision_sam_neg = precision_score(y_test, y_pred,pos_label =-1)\n",
        "recall_sam_neg = recall_score(y_test, y_pred,pos_label =-1)\n",
        "print(f\"accuracy: {accuracy_sam:.4f}\")\n",
        "print(f\"precision_pos: {precision_sam:.4f}\")\n",
        "print(f\"recall_pos: {recall_sam:.4f}\")\n",
        "print(f\"precision_neg: {precision_sam_neg:.4f}\")\n",
        "print(f\"recall_neg: {recall_sam_neg:.4f}\")"
      ],
      "metadata": {
        "colab": {
          "base_uri": "https://localhost:8080/"
        },
        "id": "r0_5y9vzY_1a",
        "outputId": "f5a00c14-7084-415e-8d71-044bdf5461c0"
      },
      "execution_count": null,
      "outputs": [
        {
          "output_type": "stream",
          "name": "stdout",
          "text": [
            "accuracy: 0.8815\n",
            "precision_pos: 0.8722\n",
            "recall_pos: 0.8922\n",
            "precision_neg: 0.8910\n",
            "recall_neg: 0.8709\n"
          ]
        }
      ]
    },
    {
      "cell_type": "markdown",
      "source": [
        "## Imputation"
      ],
      "metadata": {
        "id": "zrJ4uKmJZhCH"
      }
    },
    {
      "cell_type": "code",
      "source": [
        "import pandas as pd\n",
        "import numpy as np\n",
        "from sklearn.experimental import enable_iterative_imputer  # noqa\n",
        "from sklearn.impute import IterativeImputer\n",
        "from sklearn.model_selection import train_test_split\n",
        "from sklearn.experimental import enable_hist_gradient_boosting  # noqa\n",
        "from sklearn.ensemble import HistGradientBoostingClassifier\n",
        "from sklearn.metrics import accuracy_score\n",
        "# Define the target variable y and the features X\n",
        "y = train_df['label']\n",
        "X = train_df[['emoji_scores', 'spam_score', 'fake_lables', 'emotion_scores','sentiment_scores']]\n",
        "# Split the data into training and testing sets\n",
        "X_train, X_test, y_train, y_test = train_test_split(X, y, test_size=0.2, random_state=42)\n",
        "\n",
        "# Initialize IterativeImputer\n",
        "imputer = IterativeImputer(max_iter=10, random_state=42,initial_strategy='most_frequent')\n",
        "\n",
        "# Fit the imputer on the training set and transform the training data\n",
        "X_train_imputed = imputer.fit_transform(X_train)\n",
        "\n",
        "# Transform the testing data using the same imputer\n",
        "X_test_imputed = imputer.transform(X_test)\n",
        "\n",
        "# Initialize and train the HistGradientBoostingClassifier\n",
        "model = HistGradientBoostingClassifier()\n",
        "model.fit(X_train_imputed, y_train)\n",
        "\n",
        "# Make predictions and evaluate the model\n",
        "y_pred = model.predict(X_test_imputed)\n",
        "accuracy = accuracy_score(y_test, y_pred)\n",
        "print(f'Accuracy: {accuracy:.4f}')"
      ],
      "metadata": {
        "colab": {
          "base_uri": "https://localhost:8080/"
        },
        "id": "nQtNu8MOZkK0",
        "outputId": "84b8ac20-2f34-43ce-b009-9c161efa179f"
      },
      "execution_count": null,
      "outputs": [
        {
          "output_type": "stream",
          "name": "stderr",
          "text": [
            "/usr/local/lib/python3.10/dist-packages/sklearn/impute/_iterative.py:800: ConvergenceWarning: [IterativeImputer] Early stopping criterion not reached.\n",
            "  warnings.warn(\n"
          ]
        },
        {
          "output_type": "stream",
          "name": "stdout",
          "text": [
            "Accuracy: 0.8815\n"
          ]
        }
      ]
    },
    {
      "cell_type": "code",
      "source": [
        "from sklearn.ensemble import RandomForestClassifier\n",
        "clf = RandomForestClassifier(n_estimators=10)\n",
        "clf = clf.fit(X_train_imputed, y_train)\n",
        "# Make predictions and evaluate the model\n",
        "y_pred = clf.predict(X_test_imputed)\n",
        "accuracy = accuracy_score(y_test, y_pred)\n",
        "print(f'Accuracy: {accuracy:.4f}')"
      ],
      "metadata": {
        "colab": {
          "base_uri": "https://localhost:8080/"
        },
        "id": "PExPfUdLbp7H",
        "outputId": "eb5fd29f-8585-40be-8058-2e5957a7006f"
      },
      "execution_count": null,
      "outputs": [
        {
          "output_type": "stream",
          "name": "stdout",
          "text": [
            "Accuracy: 0.8815\n"
          ]
        }
      ]
    },
    {
      "cell_type": "markdown",
      "source": [
        "## Different imputing strategy maybe?"
      ],
      "metadata": {
        "id": "nMOVSNRxbvRD"
      }
    },
    {
      "cell_type": "code",
      "source": [
        "#Define the target variable y and the features X\n",
        "df = train_df.copy()\n",
        "y = df['label']\n",
        "X = df[['emoji_scores','sentiment_scores']]\n",
        "\n",
        "# Initialize IterativeImputer\n",
        "imputer = IterativeImputer(max_iter=10, random_state=42,initial_strategy='most_frequent')\n",
        "\n",
        "# Fit the imputer on the training set and transform the training data\n",
        "x_imputed = imputer.fit_transform(X)\n",
        "\n",
        "df_imputed = pd.DataFrame(data=x_imputed, columns=['emoji_scores','sentiment_scores'])\n",
        "df.loc[:,'emoji_scores'] = df_imputed['emoji_scores']\n",
        "\n",
        "#Define the target variable y and the features X\n",
        "y = train_df['label']\n",
        "X = train_df[['fake_lables','sentiment_scores']]\n",
        "\n",
        "# Initialize IterativeImputer\n",
        "imputer = IterativeImputer(max_iter=10, random_state=42,initial_strategy='most_frequent')\n",
        "\n",
        "# Fit the imputer on the training set and transform the training data\n",
        "x_imputed = imputer.fit_transform(X)\n",
        "\n",
        "df_imputed = pd.DataFrame(data=x_imputed, columns=['fake_lables','sentiment_scores'])\n",
        "df.loc[:,'fake_lables'] = df_imputed['fake_lables']\n",
        "\n",
        "#Define the target variable y and the features X\n",
        "y = train_df['label']\n",
        "X = train_df[['spam_score','sentiment_scores']]\n",
        "\n",
        "# Initialize IterativeImputer\n",
        "imputer = IterativeImputer(max_iter=10, random_state=42,initial_strategy='most_frequent')\n",
        "\n",
        "# Fit the imputer on the training set and transform the training data\n",
        "x_imputed = imputer.fit_transform(X)\n",
        "\n",
        "df_imputed = pd.DataFrame(data=x_imputed, columns=['spam_score','sentiment_scores'])\n",
        "df.loc[:,'spam_score'] = df_imputed['spam_score']"
      ],
      "metadata": {
        "id": "Hb2-jIp8bu1I"
      },
      "execution_count": null,
      "outputs": []
    },
    {
      "cell_type": "code",
      "source": [
        "# Now X and y can be used to train a model\n",
        "from sklearn.model_selection import train_test_split\n",
        "from sklearn.ensemble import HistGradientBoostingClassifier\n",
        "from sklearn.metrics import accuracy_score\n",
        "\n",
        "y = df['label']\n",
        "X = df[['emoji_scores', 'spam_score', 'fake_lables', 'sentiment_scores']]\n",
        "\n",
        "# Split the data into training and testing sets\n",
        "X_train, X_test, y_train, y_test = train_test_split(X, y, test_size=0.2, random_state=42)\n",
        "# Initialize and train the HistGradientBoostingClassifier\n",
        "model = HistGradientBoostingClassifier()\n",
        "model.fit(X_train, y_train)\n",
        "\n",
        "# Make predictions and evaluate the model\n",
        "y_pred = model.predict(X_test)\n",
        "accuracy = accuracy_score(y_test, y_pred)\n",
        "print(f'Accuracy: {accuracy:.4f}')"
      ],
      "metadata": {
        "colab": {
          "base_uri": "https://localhost:8080/"
        },
        "id": "QYoTuR6mcApB",
        "outputId": "e1d9cd0e-8fc1-4fc7-ccb3-55ba25d8d127"
      },
      "execution_count": null,
      "outputs": [
        {
          "output_type": "stream",
          "name": "stdout",
          "text": [
            "Accuracy: 0.8815\n"
          ]
        }
      ]
    },
    {
      "cell_type": "markdown",
      "source": [
        "## Trying Out MLP - See other notebook to"
      ],
      "metadata": {
        "id": "v8M8ZLvbhwdN"
      }
    }
  ]
}