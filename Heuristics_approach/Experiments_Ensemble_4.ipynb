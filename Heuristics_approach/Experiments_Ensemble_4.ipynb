{
  "nbformat": 4,
  "nbformat_minor": 0,
  "metadata": {
    "colab": {
      "provenance": []
    },
    "kernelspec": {
      "name": "python3",
      "display_name": "Python 3"
    },
    "language_info": {
      "name": "python"
    }
  },
  "cells": [
    {
      "cell_type": "markdown",
      "source": [
        "## This file contains\n",
        "- Experiments for which advertisement categories is most affective\n",
        "- Experiments with different numbers thresholds for calculations"
      ],
      "metadata": {
        "id": "7_fQq_em4rTz"
      }
    },
    {
      "cell_type": "code",
      "source": [
        "from google.colab import drive\n",
        "drive.mount('/content/drive')"
      ],
      "metadata": {
        "colab": {
          "base_uri": "https://localhost:8080/"
        },
        "id": "QdGdEnWqvbry",
        "outputId": "dce2c2b9-b885-43ce-c60e-36dc49f5559d"
      },
      "execution_count": null,
      "outputs": [
        {
          "output_type": "stream",
          "name": "stdout",
          "text": [
            "Mounted at /content/drive\n"
          ]
        }
      ]
    },
    {
      "cell_type": "code",
      "source": [
        "import pandas as pd\n",
        "df_step2_with_fakelables= pd.read_csv('/content/drive/MyDrive/tiwtter_sentiment_big_file/submission_train.csv')"
      ],
      "metadata": {
        "id": "zDoNefSgvjyC"
      },
      "execution_count": null,
      "outputs": []
    },
    {
      "cell_type": "code",
      "source": [
        "filename = '/content/drive/MyDrive/tiwtter_sentiment_big_file/train_preprocessed_corpus.txt'\n",
        "with open(filename, 'r') as file:\n",
        "    corpus = eval(file.read())\n",
        "print(len(corpus))"
      ],
      "metadata": {
        "colab": {
          "base_uri": "https://localhost:8080/"
        },
        "id": "t4BxmeeGvN12",
        "outputId": "e3c3ac8e-fbe9-4b63-ac36-326ed0e1c02f"
      },
      "execution_count": null,
      "outputs": [
        {
          "output_type": "stream",
          "name": "stdout",
          "text": [
            "2270482\n"
          ]
        }
      ]
    },
    {
      "cell_type": "code",
      "source": [
        "# Function to count keywords in a line\n",
        "def count_keywords(line, keywords):\n",
        "    count = 0\n",
        "    for keyword in keywords:\n",
        "        count += line.lower().count(keyword)\n",
        "    return count\n",
        "\n",
        "def spam_detection(line):\n",
        "  listOfElectronics = [\" apple \",\" samsung \",\" lenovo \",\" hp \",\" microsoft \",\" sony \",\" logitech \", \" asus \",\" amazon \",\" dell \",\" acer \" ,\" intel \",\" simpletech \",\" belkin \",\" gigabyte \"]\n",
        "  book_keywords = [\" paperback \", \" hardcover \",\" academic edition \",\" kindle \",\" audio cd \",\" cd-rom \",\" dvd \"]\n",
        "  electronics_keywords = [\" cable \",\" htmi \",\" audio \",\" adapter \",\" conductor \",\" gb \", \" fiber \",\"feet \",\"m \",\"inch \"]\n",
        "\n",
        "  counts = line.count(\"<number>\")\n",
        "\n",
        "  counts += sum(char.isdigit() for char in line)\n",
        "\n",
        "  if any(x in line for x in book_keywords):\n",
        "    if \"<url>\" in line:\n",
        "          return True\n",
        "\n",
        "  elif \" frame \" in line and \"<url>\" in line and counts>0:\n",
        "      return True\n",
        "\n",
        "  elif any(x in line for x in listOfElectronics):\n",
        "      if \"<url>\" in line and counts>0:\n",
        "        #print(line)\n",
        "        return True\n",
        "  elif \"<url>\" in line:\n",
        "      # Initialize counters\n",
        "      lines_with_keywords_count = 0\n",
        "      total_keyword_occurrences = 0\n",
        "\n",
        "      # Iterate through lines and count keywords\n",
        "      keyword_count = count_keywords(line, electronics_keywords)\n",
        "      if keyword_count > 0:\n",
        "          lines_with_keywords_count += 1\n",
        "          total_keyword_occurrences += keyword_count\n",
        "      if total_keyword_occurrences>=2:\n",
        "        return True\n",
        "      return False\n",
        "  else:\n",
        "    return False"
      ],
      "metadata": {
        "id": "u0a41O6KvbBT"
      },
      "execution_count": null,
      "outputs": []
    },
    {
      "cell_type": "code",
      "source": [
        "def spam_detection_electronics(line,threshold):\n",
        "  listOfElectronics = [\" apple \",\" samsung \",\" lenovo \",\" hp \",\" microsoft \",\" sony \",\" logitech \", \" asus \",\" amazon \",\" dell \",\" acer \" ,\" intel \",\" simpletech \",\" belkin \",\" gigabyte \"]\n",
        "  counts = line.count(\"<number>\")\n",
        "\n",
        "  counts += sum(char.isdigit() for char in line)\n",
        "\n",
        "  if any(x in line for x in listOfElectronics):\n",
        "      if \"<url>\" in line and counts>threshold:\n",
        "        #print(line)\n",
        "        return True\n",
        "  else:\n",
        "    return False"
      ],
      "metadata": {
        "id": "bTv9lFWjxH7-"
      },
      "execution_count": null,
      "outputs": []
    },
    {
      "cell_type": "code",
      "source": [
        "def spam_detection_books(line):\n",
        "  book_keywords = [\" paperback \", \" hardcover \",\" academic edition \",\" kindle \",\" audio cd \",\" cd-rom \",\" dvd \"]\n",
        "  counts = line.count(\"<number>\")\n",
        "\n",
        "  counts += sum(char.isdigit() for char in line)\n",
        "\n",
        "  if any(x in line for x in book_keywords):\n",
        "    if \"<url>\" in line:\n",
        "          return True\n",
        "  else:\n",
        "    return False"
      ],
      "metadata": {
        "id": "vWV3kKkOxOkm"
      },
      "execution_count": null,
      "outputs": []
    },
    {
      "cell_type": "code",
      "source": [
        "def spam_detection_cable(line,threshold):\n",
        "  electronics_keywords = [\" cable \",\" htmi \",\" audio \",\" adapter \",\" conductor \",\" gb \", \" fiber \",\"feet \",\"m \",\"inch \"]\n",
        "\n",
        "  counts = line.count(\"<number>\")\n",
        "\n",
        "  counts += sum(char.isdigit() for char in line)\n",
        "\n",
        "  if \"<url>\" in line:\n",
        "      # Initialize counters\n",
        "      lines_with_keywords_count = 0\n",
        "      total_keyword_occurrences = 0\n",
        "\n",
        "      # Iterate through lines and count keywords\n",
        "      keyword_count = count_keywords(line, electronics_keywords)\n",
        "      if keyword_count > 0:\n",
        "          lines_with_keywords_count += 1\n",
        "          total_keyword_occurrences += keyword_count\n",
        "      if total_keyword_occurrences>=threshold:\n",
        "        return True\n",
        "      return False\n",
        "  else:\n",
        "    return False"
      ],
      "metadata": {
        "id": "WkLn0of6xUqi"
      },
      "execution_count": null,
      "outputs": []
    },
    {
      "cell_type": "code",
      "source": [
        "def spam_detection_frame(line,threshold):\n",
        "\n",
        "  counts = line.count(\"<number>\")\n",
        "\n",
        "  counts += sum(char.isdigit() for char in line)\n",
        "\n",
        "  if \" frame \" in line and \"<url>\" in line and counts>threshold:\n",
        "      return True\n",
        "  else:\n",
        "    return False"
      ],
      "metadata": {
        "id": "J4yuKFNSyU26"
      },
      "execution_count": null,
      "outputs": []
    },
    {
      "cell_type": "code",
      "source": [
        "df_step2_with_fakelables.head()"
      ],
      "metadata": {
        "colab": {
          "base_uri": "https://localhost:8080/",
          "height": 206
        },
        "id": "KVjpEf_bvoL-",
        "outputId": "077dca47-d20f-4d3a-8977-932c17e3fe2f"
      },
      "execution_count": null,
      "outputs": [
        {
          "output_type": "execute_result",
          "data": {
            "text/plain": [
              "                                                line  label  emoji_scores  \\\n",
              "0  <user> i dunno justin read my mention or not ....      1           0.0   \n",
              "1  because your logic is so dumb , i won't even c...      1           0.0   \n",
              "2  \" <user> just put casper in a box ! \" looved t...      1           0.0   \n",
              "3  <user> <user> thanks sir > > don't trip lil ma...      1           0.0   \n",
              "4  visiting my brother tmr is the bestest birthda...      1           0.0   \n",
              "\n",
              "   fake_lables  \n",
              "0            0  \n",
              "1            0  \n",
              "2            0  \n",
              "3            0  \n",
              "4            0  "
            ],
            "text/html": [
              "\n",
              "  <div id=\"df-4d78d8d2-7120-44e8-9d6d-c84337626c90\" class=\"colab-df-container\">\n",
              "    <div>\n",
              "<style scoped>\n",
              "    .dataframe tbody tr th:only-of-type {\n",
              "        vertical-align: middle;\n",
              "    }\n",
              "\n",
              "    .dataframe tbody tr th {\n",
              "        vertical-align: top;\n",
              "    }\n",
              "\n",
              "    .dataframe thead th {\n",
              "        text-align: right;\n",
              "    }\n",
              "</style>\n",
              "<table border=\"1\" class=\"dataframe\">\n",
              "  <thead>\n",
              "    <tr style=\"text-align: right;\">\n",
              "      <th></th>\n",
              "      <th>line</th>\n",
              "      <th>label</th>\n",
              "      <th>emoji_scores</th>\n",
              "      <th>fake_lables</th>\n",
              "    </tr>\n",
              "  </thead>\n",
              "  <tbody>\n",
              "    <tr>\n",
              "      <th>0</th>\n",
              "      <td>&lt;user&gt; i dunno justin read my mention or not ....</td>\n",
              "      <td>1</td>\n",
              "      <td>0.0</td>\n",
              "      <td>0</td>\n",
              "    </tr>\n",
              "    <tr>\n",
              "      <th>1</th>\n",
              "      <td>because your logic is so dumb , i won't even c...</td>\n",
              "      <td>1</td>\n",
              "      <td>0.0</td>\n",
              "      <td>0</td>\n",
              "    </tr>\n",
              "    <tr>\n",
              "      <th>2</th>\n",
              "      <td>\" &lt;user&gt; just put casper in a box ! \" looved t...</td>\n",
              "      <td>1</td>\n",
              "      <td>0.0</td>\n",
              "      <td>0</td>\n",
              "    </tr>\n",
              "    <tr>\n",
              "      <th>3</th>\n",
              "      <td>&lt;user&gt; &lt;user&gt; thanks sir &gt; &gt; don't trip lil ma...</td>\n",
              "      <td>1</td>\n",
              "      <td>0.0</td>\n",
              "      <td>0</td>\n",
              "    </tr>\n",
              "    <tr>\n",
              "      <th>4</th>\n",
              "      <td>visiting my brother tmr is the bestest birthda...</td>\n",
              "      <td>1</td>\n",
              "      <td>0.0</td>\n",
              "      <td>0</td>\n",
              "    </tr>\n",
              "  </tbody>\n",
              "</table>\n",
              "</div>\n",
              "    <div class=\"colab-df-buttons\">\n",
              "\n",
              "  <div class=\"colab-df-container\">\n",
              "    <button class=\"colab-df-convert\" onclick=\"convertToInteractive('df-4d78d8d2-7120-44e8-9d6d-c84337626c90')\"\n",
              "            title=\"Convert this dataframe to an interactive table.\"\n",
              "            style=\"display:none;\">\n",
              "\n",
              "  <svg xmlns=\"http://www.w3.org/2000/svg\" height=\"24px\" viewBox=\"0 -960 960 960\">\n",
              "    <path d=\"M120-120v-720h720v720H120Zm60-500h600v-160H180v160Zm220 220h160v-160H400v160Zm0 220h160v-160H400v160ZM180-400h160v-160H180v160Zm440 0h160v-160H620v160ZM180-180h160v-160H180v160Zm440 0h160v-160H620v160Z\"/>\n",
              "  </svg>\n",
              "    </button>\n",
              "\n",
              "  <style>\n",
              "    .colab-df-container {\n",
              "      display:flex;\n",
              "      gap: 12px;\n",
              "    }\n",
              "\n",
              "    .colab-df-convert {\n",
              "      background-color: #E8F0FE;\n",
              "      border: none;\n",
              "      border-radius: 50%;\n",
              "      cursor: pointer;\n",
              "      display: none;\n",
              "      fill: #1967D2;\n",
              "      height: 32px;\n",
              "      padding: 0 0 0 0;\n",
              "      width: 32px;\n",
              "    }\n",
              "\n",
              "    .colab-df-convert:hover {\n",
              "      background-color: #E2EBFA;\n",
              "      box-shadow: 0px 1px 2px rgba(60, 64, 67, 0.3), 0px 1px 3px 1px rgba(60, 64, 67, 0.15);\n",
              "      fill: #174EA6;\n",
              "    }\n",
              "\n",
              "    .colab-df-buttons div {\n",
              "      margin-bottom: 4px;\n",
              "    }\n",
              "\n",
              "    [theme=dark] .colab-df-convert {\n",
              "      background-color: #3B4455;\n",
              "      fill: #D2E3FC;\n",
              "    }\n",
              "\n",
              "    [theme=dark] .colab-df-convert:hover {\n",
              "      background-color: #434B5C;\n",
              "      box-shadow: 0px 1px 3px 1px rgba(0, 0, 0, 0.15);\n",
              "      filter: drop-shadow(0px 1px 2px rgba(0, 0, 0, 0.3));\n",
              "      fill: #FFFFFF;\n",
              "    }\n",
              "  </style>\n",
              "\n",
              "    <script>\n",
              "      const buttonEl =\n",
              "        document.querySelector('#df-4d78d8d2-7120-44e8-9d6d-c84337626c90 button.colab-df-convert');\n",
              "      buttonEl.style.display =\n",
              "        google.colab.kernel.accessAllowed ? 'block' : 'none';\n",
              "\n",
              "      async function convertToInteractive(key) {\n",
              "        const element = document.querySelector('#df-4d78d8d2-7120-44e8-9d6d-c84337626c90');\n",
              "        const dataTable =\n",
              "          await google.colab.kernel.invokeFunction('convertToInteractive',\n",
              "                                                    [key], {});\n",
              "        if (!dataTable) return;\n",
              "\n",
              "        const docLinkHtml = 'Like what you see? Visit the ' +\n",
              "          '<a target=\"_blank\" href=https://colab.research.google.com/notebooks/data_table.ipynb>data table notebook</a>'\n",
              "          + ' to learn more about interactive tables.';\n",
              "        element.innerHTML = '';\n",
              "        dataTable['output_type'] = 'display_data';\n",
              "        await google.colab.output.renderOutput(dataTable, element);\n",
              "        const docLink = document.createElement('div');\n",
              "        docLink.innerHTML = docLinkHtml;\n",
              "        element.appendChild(docLink);\n",
              "      }\n",
              "    </script>\n",
              "  </div>\n",
              "\n",
              "\n",
              "<div id=\"df-4f3971d2-27c9-4819-a78b-d230bd9b6423\">\n",
              "  <button class=\"colab-df-quickchart\" onclick=\"quickchart('df-4f3971d2-27c9-4819-a78b-d230bd9b6423')\"\n",
              "            title=\"Suggest charts\"\n",
              "            style=\"display:none;\">\n",
              "\n",
              "<svg xmlns=\"http://www.w3.org/2000/svg\" height=\"24px\"viewBox=\"0 0 24 24\"\n",
              "     width=\"24px\">\n",
              "    <g>\n",
              "        <path d=\"M19 3H5c-1.1 0-2 .9-2 2v14c0 1.1.9 2 2 2h14c1.1 0 2-.9 2-2V5c0-1.1-.9-2-2-2zM9 17H7v-7h2v7zm4 0h-2V7h2v10zm4 0h-2v-4h2v4z\"/>\n",
              "    </g>\n",
              "</svg>\n",
              "  </button>\n",
              "\n",
              "<style>\n",
              "  .colab-df-quickchart {\n",
              "      --bg-color: #E8F0FE;\n",
              "      --fill-color: #1967D2;\n",
              "      --hover-bg-color: #E2EBFA;\n",
              "      --hover-fill-color: #174EA6;\n",
              "      --disabled-fill-color: #AAA;\n",
              "      --disabled-bg-color: #DDD;\n",
              "  }\n",
              "\n",
              "  [theme=dark] .colab-df-quickchart {\n",
              "      --bg-color: #3B4455;\n",
              "      --fill-color: #D2E3FC;\n",
              "      --hover-bg-color: #434B5C;\n",
              "      --hover-fill-color: #FFFFFF;\n",
              "      --disabled-bg-color: #3B4455;\n",
              "      --disabled-fill-color: #666;\n",
              "  }\n",
              "\n",
              "  .colab-df-quickchart {\n",
              "    background-color: var(--bg-color);\n",
              "    border: none;\n",
              "    border-radius: 50%;\n",
              "    cursor: pointer;\n",
              "    display: none;\n",
              "    fill: var(--fill-color);\n",
              "    height: 32px;\n",
              "    padding: 0;\n",
              "    width: 32px;\n",
              "  }\n",
              "\n",
              "  .colab-df-quickchart:hover {\n",
              "    background-color: var(--hover-bg-color);\n",
              "    box-shadow: 0 1px 2px rgba(60, 64, 67, 0.3), 0 1px 3px 1px rgba(60, 64, 67, 0.15);\n",
              "    fill: var(--button-hover-fill-color);\n",
              "  }\n",
              "\n",
              "  .colab-df-quickchart-complete:disabled,\n",
              "  .colab-df-quickchart-complete:disabled:hover {\n",
              "    background-color: var(--disabled-bg-color);\n",
              "    fill: var(--disabled-fill-color);\n",
              "    box-shadow: none;\n",
              "  }\n",
              "\n",
              "  .colab-df-spinner {\n",
              "    border: 2px solid var(--fill-color);\n",
              "    border-color: transparent;\n",
              "    border-bottom-color: var(--fill-color);\n",
              "    animation:\n",
              "      spin 1s steps(1) infinite;\n",
              "  }\n",
              "\n",
              "  @keyframes spin {\n",
              "    0% {\n",
              "      border-color: transparent;\n",
              "      border-bottom-color: var(--fill-color);\n",
              "      border-left-color: var(--fill-color);\n",
              "    }\n",
              "    20% {\n",
              "      border-color: transparent;\n",
              "      border-left-color: var(--fill-color);\n",
              "      border-top-color: var(--fill-color);\n",
              "    }\n",
              "    30% {\n",
              "      border-color: transparent;\n",
              "      border-left-color: var(--fill-color);\n",
              "      border-top-color: var(--fill-color);\n",
              "      border-right-color: var(--fill-color);\n",
              "    }\n",
              "    40% {\n",
              "      border-color: transparent;\n",
              "      border-right-color: var(--fill-color);\n",
              "      border-top-color: var(--fill-color);\n",
              "    }\n",
              "    60% {\n",
              "      border-color: transparent;\n",
              "      border-right-color: var(--fill-color);\n",
              "    }\n",
              "    80% {\n",
              "      border-color: transparent;\n",
              "      border-right-color: var(--fill-color);\n",
              "      border-bottom-color: var(--fill-color);\n",
              "    }\n",
              "    90% {\n",
              "      border-color: transparent;\n",
              "      border-bottom-color: var(--fill-color);\n",
              "    }\n",
              "  }\n",
              "</style>\n",
              "\n",
              "  <script>\n",
              "    async function quickchart(key) {\n",
              "      const quickchartButtonEl =\n",
              "        document.querySelector('#' + key + ' button');\n",
              "      quickchartButtonEl.disabled = true;  // To prevent multiple clicks.\n",
              "      quickchartButtonEl.classList.add('colab-df-spinner');\n",
              "      try {\n",
              "        const charts = await google.colab.kernel.invokeFunction(\n",
              "            'suggestCharts', [key], {});\n",
              "      } catch (error) {\n",
              "        console.error('Error during call to suggestCharts:', error);\n",
              "      }\n",
              "      quickchartButtonEl.classList.remove('colab-df-spinner');\n",
              "      quickchartButtonEl.classList.add('colab-df-quickchart-complete');\n",
              "    }\n",
              "    (() => {\n",
              "      let quickchartButtonEl =\n",
              "        document.querySelector('#df-4f3971d2-27c9-4819-a78b-d230bd9b6423 button');\n",
              "      quickchartButtonEl.style.display =\n",
              "        google.colab.kernel.accessAllowed ? 'block' : 'none';\n",
              "    })();\n",
              "  </script>\n",
              "</div>\n",
              "\n",
              "    </div>\n",
              "  </div>\n"
            ],
            "application/vnd.google.colaboratory.intrinsic+json": {
              "type": "dataframe",
              "variable_name": "df_step2_with_fakelables"
            }
          },
          "metadata": {},
          "execution_count": 5
        }
      ]
    },
    {
      "cell_type": "code",
      "source": [
        "len(df_step2_with_fakelables)"
      ],
      "metadata": {
        "colab": {
          "base_uri": "https://localhost:8080/"
        },
        "id": "DYOxclUqwPYx",
        "outputId": "92892df0-77ba-4c87-cbdc-dc193cb802d4"
      },
      "execution_count": null,
      "outputs": [
        {
          "output_type": "execute_result",
          "data": {
            "text/plain": [
              "2270482"
            ]
          },
          "metadata": {},
          "execution_count": 8
        }
      ]
    },
    {
      "cell_type": "code",
      "source": [
        "print(len(df_step2_with_fakelables['line']))"
      ],
      "metadata": {
        "colab": {
          "base_uri": "https://localhost:8080/"
        },
        "id": "EPBek_w5wYnJ",
        "outputId": "6400fee9-636c-412d-ee6f-ebcd22ba50af"
      },
      "execution_count": null,
      "outputs": [
        {
          "output_type": "stream",
          "name": "stdout",
          "text": [
            "2270482\n"
          ]
        }
      ]
    },
    {
      "cell_type": "code",
      "source": [
        "print(len(corpus))"
      ],
      "metadata": {
        "colab": {
          "base_uri": "https://localhost:8080/"
        },
        "id": "FJAtWWPywdHs",
        "outputId": "00187334-44b7-49b4-b592-451c92c0a822"
      },
      "execution_count": null,
      "outputs": [
        {
          "output_type": "stream",
          "name": "stdout",
          "text": [
            "2270482\n"
          ]
        }
      ]
    },
    {
      "cell_type": "code",
      "source": [
        "df_step2_with_fakelables['line'] = corpus"
      ],
      "metadata": {
        "id": "tTgweY7Xvxja"
      },
      "execution_count": null,
      "outputs": []
    },
    {
      "cell_type": "code",
      "source": [
        "count=0\n",
        "count_correct = 0\n",
        "count0=0\n",
        "count_correct0 = 0\n",
        "count1=0\n",
        "count_correct1 = 0\n",
        "count2=0\n",
        "count_correct2 = 0\n",
        "count3=0\n",
        "count_correct3 = 0\n",
        "list_of_affected = []\n",
        "for i, line in enumerate(corpus):\n",
        "  if spam_detection_electronics(line,-1):\n",
        "    if df_step2_with_fakelables['label'][i] == -1:\n",
        "      count_correct0 +=1\n",
        "    count0+=1\n",
        "  if spam_detection_electronics(line,0):\n",
        "    if df_step2_with_fakelables['label'][i] == -1:\n",
        "      count_correct +=1\n",
        "    count+=1\n",
        "  if spam_detection_electronics(line,1):\n",
        "    if df_step2_with_fakelables['label'][i] == -1:\n",
        "      count_correct1 +=1\n",
        "    count1+=1\n",
        "  if spam_detection_electronics(line,2):\n",
        "    if df_step2_with_fakelables['label'][i] == -1:\n",
        "      count_correct2 +=1\n",
        "    count2+=1\n",
        "  if spam_detection_electronics(line,3):\n",
        "    if df_step2_with_fakelables['label'][i] == -1:\n",
        "      count_correct3 +=1\n",
        "    count3+=1\n"
      ],
      "metadata": {
        "id": "6rjb25hqwNQg"
      },
      "execution_count": null,
      "outputs": []
    },
    {
      "cell_type": "code",
      "source": [
        "print(f\"count = {count0}\")\n",
        "print(f\"count_correct = {count_correct0}\")\n",
        "print(count_correct0/count0)\n",
        "print(f\"count = {count}\")\n",
        "print(f\"count_correct = {count_correct}\")\n",
        "print(count_correct/count)\n",
        "print(f\"count1 = {count1}\")\n",
        "print(f\"count_correct1 = {count_correct1}\")\n",
        "print(count_correct1/count1)\n",
        "print(f\"count2 = {count2}\")\n",
        "print(f\"count_correct2 = {count_correct2}\")\n",
        "print(count_correct2/count2)\n",
        "print(f\"count3 = {count3}\")\n",
        "print(f\"count_correct3 = {count_correct3}\")\n",
        "print(count_correct3/count3)"
      ],
      "metadata": {
        "colab": {
          "base_uri": "https://localhost:8080/"
        },
        "id": "4zME1zbjx4nh",
        "outputId": "68f10fc9-ac47-42d2-bd3f-7f8e28b4fc5d"
      },
      "execution_count": null,
      "outputs": [
        {
          "output_type": "stream",
          "name": "stdout",
          "text": [
            "count = 13311\n",
            "count_correct = 13111\n",
            "0.9849748328450154\n",
            "count = 11829\n",
            "count_correct = 11758\n",
            "0.9939978020120044\n",
            "count1 = 10428\n",
            "count_correct1 = 10392\n",
            "0.996547756041427\n",
            "count2 = 8957\n",
            "count_correct2 = 8938\n",
            "0.997878754047114\n",
            "count3 = 8080\n",
            "count_correct3 = 8068\n",
            "0.9985148514851485\n"
          ]
        }
      ]
    },
    {
      "cell_type": "code",
      "source": [
        "count = 0\n",
        "count_correct = 0\n",
        "lables = df_step2_with_fakelables['label']\n",
        "for i, line in enumerate(corpus):\n",
        "  if spam_detection_books(line):\n",
        "    if lables[i] == -1:\n",
        "      count_correct +=1\n",
        "    count+=1\n",
        "print(f\"count = {count}\")\n",
        "print(f\"count_correct = {count_correct}\")\n",
        "print(count_correct/count)"
      ],
      "metadata": {
        "colab": {
          "base_uri": "https://localhost:8080/"
        },
        "id": "xRUGm6jGyCQS",
        "outputId": "9ed7e1f0-b443-4721-cd26-c542c564643f"
      },
      "execution_count": null,
      "outputs": [
        {
          "output_type": "stream",
          "name": "stdout",
          "text": [
            "count = 74196\n",
            "count_correct = 74112\n",
            "0.9988678634966844\n"
          ]
        }
      ]
    },
    {
      "cell_type": "code",
      "source": [
        "count0=0\n",
        "count_correct0 = 0\n",
        "count = 0\n",
        "count_correct = 0\n",
        "count1=0\n",
        "count_correct1 = 0\n",
        "lables = df_step2_with_fakelables['label']\n",
        "for i, line in enumerate(corpus):\n",
        "  if spam_detection_frame(line,-1):\n",
        "    if lables[i] == -1:\n",
        "      count_correct0 +=1\n",
        "    count0+=1\n",
        "  if spam_detection_frame(line,0):\n",
        "    if lables[i] == -1:\n",
        "      count_correct +=1\n",
        "    count+=1\n",
        "  if spam_detection_frame(line,1):\n",
        "    if lables[i] == -1:\n",
        "      count_correct1 +=1\n",
        "    count1+=1\n",
        "print(f\"count = {count0}\")\n",
        "print(f\"count_correct = {count_correct0}\")\n",
        "print(count_correct0/count0)\n",
        "print(f\"count = {count}\")\n",
        "print(f\"count_correct = {count_correct}\")\n",
        "print(count_correct/count)\n",
        "print(f\"count1 = {count1}\")\n",
        "print(f\"count_correct1 = {count_correct1}\")\n",
        "print(count_correct1/count1)"
      ],
      "metadata": {
        "colab": {
          "base_uri": "https://localhost:8080/"
        },
        "id": "lJOMavlIzGOy",
        "outputId": "526a2e0a-90c4-4b1d-daf7-5f44fce16d6f"
      },
      "execution_count": null,
      "outputs": [
        {
          "output_type": "stream",
          "name": "stdout",
          "text": [
            "count = 22397\n",
            "count_correct = 22385\n",
            "0.9994642139572264\n",
            "count = 22184\n",
            "count_correct = 22180\n",
            "0.9998196898665705\n",
            "count1 = 22000\n",
            "count_correct1 = 21996\n",
            "0.9998181818181818\n"
          ]
        }
      ]
    },
    {
      "cell_type": "code",
      "source": [
        "count=0\n",
        "count_correct = 0\n",
        "\n",
        "count1=0\n",
        "count_correct1 = 0\n",
        "count2=0\n",
        "count_correct2 = 0\n",
        "count3=0\n",
        "count_correct3 = 0\n",
        "list_of_affected = []\n",
        "for i, line in enumerate(corpus):\n",
        "  if spam_detection_cable(line,4):\n",
        "    if df_step2_with_fakelables['label'][i] == -1:\n",
        "      count_correct +=1\n",
        "    count+=1\n",
        "  if spam_detection_cable(line,1):\n",
        "    if df_step2_with_fakelables['label'][i] == -1:\n",
        "      count_correct1 +=1\n",
        "    count1+=1\n",
        "  if spam_detection_cable(line,2):\n",
        "    if df_step2_with_fakelables['label'][i] == -1:\n",
        "      count_correct2 +=1\n",
        "    count2+=1\n",
        "  if spam_detection_cable(line,3):\n",
        "    if df_step2_with_fakelables['label'][i] == -1:\n",
        "      count_correct3 +=1\n",
        "    count3+=1\n",
        "print(f\"count = {count0}\")\n",
        "print(f\"count_correct = {count_correct0}\")\n",
        "print(count_correct0/count0)\n",
        "print(f\"count = {count}\")\n",
        "print(f\"count_correct = {count_correct}\")\n",
        "print(count_correct/count)\n",
        "print(f\"count1 = {count1}\")\n",
        "print(f\"count_correct1 = {count_correct1}\")\n",
        "print(count_correct1/count1)\n",
        "print(f\"count2 = {count2}\")\n",
        "print(f\"count_correct2 = {count_correct2}\")\n",
        "print(count_correct2/count2)\n",
        "print(f\"count3 = {count3}\")\n",
        "print(f\"count_correct3 = {count_correct3}\")\n",
        "print(count_correct3/count3)"
      ],
      "metadata": {
        "colab": {
          "base_uri": "https://localhost:8080/"
        },
        "id": "tAQi-MNny3Ag",
        "outputId": "c617297e-8a55-4aba-e235-2067b982aeb3"
      },
      "execution_count": null,
      "outputs": [
        {
          "output_type": "stream",
          "name": "stdout",
          "text": [
            "count = 22397\n",
            "count_correct = 22385\n",
            "0.9994642139572264\n",
            "count = 3729\n",
            "count_correct = 3707\n",
            "0.9941002949852508\n",
            "count1 = 138329\n",
            "count_correct1 = 123933\n",
            "0.8959292700735204\n",
            "count2 = 37253\n",
            "count_correct2 = 35308\n",
            "0.9477894397766623\n",
            "count3 = 11741\n",
            "count_correct3 = 11507\n",
            "0.9800698407290691\n"
          ]
        }
      ]
    }
  ]
}