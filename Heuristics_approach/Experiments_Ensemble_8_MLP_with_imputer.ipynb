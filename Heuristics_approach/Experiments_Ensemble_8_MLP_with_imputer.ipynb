{
  "nbformat": 4,
  "nbformat_minor": 0,
  "metadata": {
    "colab": {
      "provenance": [],
      "gpuType": "T4"
    },
    "kernelspec": {
      "name": "python3",
      "display_name": "Python 3"
    },
    "language_info": {
      "name": "python"
    },
    "accelerator": "GPU"
  },
  "cells": [
    {
      "cell_type": "markdown",
      "source": [
        "## This notebook contains code for training MLP - for combining scores"
      ],
      "metadata": {
        "id": "rlUMcMp8h3ek"
      }
    },
    {
      "cell_type": "code",
      "source": [
        "from google.colab import drive\n",
        "drive.mount('/content/drive')"
      ],
      "metadata": {
        "colab": {
          "base_uri": "https://localhost:8080/"
        },
        "id": "bwtJb1wacKV5",
        "outputId": "05cabfa9-a78d-4010-a2a4-e652c8a12145"
      },
      "execution_count": null,
      "outputs": [
        {
          "output_type": "stream",
          "name": "stdout",
          "text": [
            "Mounted at /content/drive\n"
          ]
        }
      ]
    },
    {
      "cell_type": "code",
      "source": [
        "import pandas as pd\n",
        "import numpy as np\n",
        "train_df = pd.read_csv('submission_train.csv')\n",
        "samuels_pred_df = pd.read_csv('training_no_duplicates.csv')\n",
        "num_rows =1127644\n",
        "# Split the DataFrame into two parts\n",
        "first_part = train_df.iloc[:num_rows]\n",
        "second_part = train_df.iloc[num_rows:]\n",
        "# Concatenate the second part first, followed by the first part\n",
        "train_df = pd.concat([second_part, first_part]).reset_index(drop=True)\n",
        "train_df.rename(columns={'sentiment_scores':'sentiment_scores2'}, inplace=True)\n",
        "train_df.loc[:, 'sentiment_scores'] = samuels_pred_df['predictions']\n",
        "\n",
        "#train_df.loc[:, 'sentiment_scores'] = train_df.loc[:, 'sentiment_scores'].replace(0,-1)\n",
        "\n",
        "# For these features, 0 means non existent\n",
        "train_df.loc[:, 'emoji_scores'] = train_df['emoji_scores'].replace(0, np.nan)\n",
        "train_df.loc[:,'spam_score'] = train_df['spam_score'].replace(0,np.nan)\n",
        "train_df.loc[:,'fake_lables'] = train_df['fake_lables'].replace(0,np.nan)\n",
        "\n",
        "\n",
        "def modify_value(x):\n",
        "    if x == 0.0 or np.isnan(x):\n",
        "        return np.nan\n",
        "    elif x > 0.0:\n",
        "        return 1\n",
        "    else:\n",
        "        return -1\n",
        "\n",
        "train_df.loc[:, 'emoji_scores'] = train_df['emoji_scores'].apply(modify_value)\n",
        "train_df.loc[:, 'vadar'] = train_df['vadar'].apply(modify_value)"
      ],
      "metadata": {
        "id": "g7RUqzWAcF0j"
      },
      "execution_count": null,
      "outputs": []
    },
    {
      "cell_type": "code",
      "source": [
        "train_df.loc[:, 'emoji_scores'] = train_df['emoji_scores'].replace(-1, 0)\n",
        "train_df.loc[:,'spam_score'] = train_df['spam_score'].replace(1, 0)\n",
        "train_df.loc[:,'fake_lables'] = train_df['fake_lables'].replace(-1,0)\n",
        "train_df.loc[:,'sentiment_scores2'] = train_df['sentiment_scores2'].replace(-1,0)\n",
        "train_df.loc[:,'emotion_scores'] = train_df['emotion_scores'].replace(-1,0)\n",
        "train_df.loc[:,'label'] = train_df['emotion_scores'].replace(-1,0)\n"
      ],
      "metadata": {
        "id": "H3QPkVNjcSW3"
      },
      "execution_count": null,
      "outputs": []
    },
    {
      "cell_type": "code",
      "source": [
        "train_df.tail()\n"
      ],
      "metadata": {
        "colab": {
          "base_uri": "https://localhost:8080/",
          "height": 206
        },
        "id": "B1-7wuBkdMhx",
        "outputId": "043ae4af-e7ff-4dd2-cbf2-b4386ce0a6da"
      },
      "execution_count": null,
      "outputs": [
        {
          "output_type": "execute_result",
          "data": {
            "text/plain": [
              "                                                      line  label  \\\n",
              "2270477  a warning sign ? rt <user> the negativity you ...      1   \n",
              "2270478                          <user> ff too thank youuu      1   \n",
              "2270479                i just love shumpa ! that s my girl      1   \n",
              "2270480  the best way to start a day ! no matter what h...      1   \n",
              "2270481  frenchies want dtou i am not from french but <...      1   \n",
              "\n",
              "         emoji_scores  fake_lables  spam_score  vadar  emotion_scores  \\\n",
              "2270477           0.0          0.0         NaN   -1.0               1   \n",
              "2270478           1.0          1.0         NaN    1.0               1   \n",
              "2270479           NaN          NaN         NaN    1.0               1   \n",
              "2270480           NaN          NaN         NaN    1.0               1   \n",
              "2270481           NaN          NaN         NaN    1.0               1   \n",
              "\n",
              "         sentiment_scores2  sentiment_scores  \n",
              "2270477                  0                 0  \n",
              "2270478                  1                 1  \n",
              "2270479                  1                 1  \n",
              "2270480                  1                 1  \n",
              "2270481                  1                 1  "
            ],
            "text/html": [
              "\n",
              "  <div id=\"df-bad75b04-f6e6-46f5-8c69-bf3442bdd132\" class=\"colab-df-container\">\n",
              "    <div>\n",
              "<style scoped>\n",
              "    .dataframe tbody tr th:only-of-type {\n",
              "        vertical-align: middle;\n",
              "    }\n",
              "\n",
              "    .dataframe tbody tr th {\n",
              "        vertical-align: top;\n",
              "    }\n",
              "\n",
              "    .dataframe thead th {\n",
              "        text-align: right;\n",
              "    }\n",
              "</style>\n",
              "<table border=\"1\" class=\"dataframe\">\n",
              "  <thead>\n",
              "    <tr style=\"text-align: right;\">\n",
              "      <th></th>\n",
              "      <th>line</th>\n",
              "      <th>label</th>\n",
              "      <th>emoji_scores</th>\n",
              "      <th>fake_lables</th>\n",
              "      <th>spam_score</th>\n",
              "      <th>vadar</th>\n",
              "      <th>emotion_scores</th>\n",
              "      <th>sentiment_scores2</th>\n",
              "      <th>sentiment_scores</th>\n",
              "    </tr>\n",
              "  </thead>\n",
              "  <tbody>\n",
              "    <tr>\n",
              "      <th>2270477</th>\n",
              "      <td>a warning sign ? rt &lt;user&gt; the negativity you ...</td>\n",
              "      <td>1</td>\n",
              "      <td>0.0</td>\n",
              "      <td>0.0</td>\n",
              "      <td>NaN</td>\n",
              "      <td>-1.0</td>\n",
              "      <td>1</td>\n",
              "      <td>0</td>\n",
              "      <td>0</td>\n",
              "    </tr>\n",
              "    <tr>\n",
              "      <th>2270478</th>\n",
              "      <td>&lt;user&gt; ff too thank youuu</td>\n",
              "      <td>1</td>\n",
              "      <td>1.0</td>\n",
              "      <td>1.0</td>\n",
              "      <td>NaN</td>\n",
              "      <td>1.0</td>\n",
              "      <td>1</td>\n",
              "      <td>1</td>\n",
              "      <td>1</td>\n",
              "    </tr>\n",
              "    <tr>\n",
              "      <th>2270479</th>\n",
              "      <td>i just love shumpa ! that s my girl</td>\n",
              "      <td>1</td>\n",
              "      <td>NaN</td>\n",
              "      <td>NaN</td>\n",
              "      <td>NaN</td>\n",
              "      <td>1.0</td>\n",
              "      <td>1</td>\n",
              "      <td>1</td>\n",
              "      <td>1</td>\n",
              "    </tr>\n",
              "    <tr>\n",
              "      <th>2270480</th>\n",
              "      <td>the best way to start a day ! no matter what h...</td>\n",
              "      <td>1</td>\n",
              "      <td>NaN</td>\n",
              "      <td>NaN</td>\n",
              "      <td>NaN</td>\n",
              "      <td>1.0</td>\n",
              "      <td>1</td>\n",
              "      <td>1</td>\n",
              "      <td>1</td>\n",
              "    </tr>\n",
              "    <tr>\n",
              "      <th>2270481</th>\n",
              "      <td>frenchies want dtou i am not from french but &lt;...</td>\n",
              "      <td>1</td>\n",
              "      <td>NaN</td>\n",
              "      <td>NaN</td>\n",
              "      <td>NaN</td>\n",
              "      <td>1.0</td>\n",
              "      <td>1</td>\n",
              "      <td>1</td>\n",
              "      <td>1</td>\n",
              "    </tr>\n",
              "  </tbody>\n",
              "</table>\n",
              "</div>\n",
              "    <div class=\"colab-df-buttons\">\n",
              "\n",
              "  <div class=\"colab-df-container\">\n",
              "    <button class=\"colab-df-convert\" onclick=\"convertToInteractive('df-bad75b04-f6e6-46f5-8c69-bf3442bdd132')\"\n",
              "            title=\"Convert this dataframe to an interactive table.\"\n",
              "            style=\"display:none;\">\n",
              "\n",
              "  <svg xmlns=\"http://www.w3.org/2000/svg\" height=\"24px\" viewBox=\"0 -960 960 960\">\n",
              "    <path d=\"M120-120v-720h720v720H120Zm60-500h600v-160H180v160Zm220 220h160v-160H400v160Zm0 220h160v-160H400v160ZM180-400h160v-160H180v160Zm440 0h160v-160H620v160ZM180-180h160v-160H180v160Zm440 0h160v-160H620v160Z\"/>\n",
              "  </svg>\n",
              "    </button>\n",
              "\n",
              "  <style>\n",
              "    .colab-df-container {\n",
              "      display:flex;\n",
              "      gap: 12px;\n",
              "    }\n",
              "\n",
              "    .colab-df-convert {\n",
              "      background-color: #E8F0FE;\n",
              "      border: none;\n",
              "      border-radius: 50%;\n",
              "      cursor: pointer;\n",
              "      display: none;\n",
              "      fill: #1967D2;\n",
              "      height: 32px;\n",
              "      padding: 0 0 0 0;\n",
              "      width: 32px;\n",
              "    }\n",
              "\n",
              "    .colab-df-convert:hover {\n",
              "      background-color: #E2EBFA;\n",
              "      box-shadow: 0px 1px 2px rgba(60, 64, 67, 0.3), 0px 1px 3px 1px rgba(60, 64, 67, 0.15);\n",
              "      fill: #174EA6;\n",
              "    }\n",
              "\n",
              "    .colab-df-buttons div {\n",
              "      margin-bottom: 4px;\n",
              "    }\n",
              "\n",
              "    [theme=dark] .colab-df-convert {\n",
              "      background-color: #3B4455;\n",
              "      fill: #D2E3FC;\n",
              "    }\n",
              "\n",
              "    [theme=dark] .colab-df-convert:hover {\n",
              "      background-color: #434B5C;\n",
              "      box-shadow: 0px 1px 3px 1px rgba(0, 0, 0, 0.15);\n",
              "      filter: drop-shadow(0px 1px 2px rgba(0, 0, 0, 0.3));\n",
              "      fill: #FFFFFF;\n",
              "    }\n",
              "  </style>\n",
              "\n",
              "    <script>\n",
              "      const buttonEl =\n",
              "        document.querySelector('#df-bad75b04-f6e6-46f5-8c69-bf3442bdd132 button.colab-df-convert');\n",
              "      buttonEl.style.display =\n",
              "        google.colab.kernel.accessAllowed ? 'block' : 'none';\n",
              "\n",
              "      async function convertToInteractive(key) {\n",
              "        const element = document.querySelector('#df-bad75b04-f6e6-46f5-8c69-bf3442bdd132');\n",
              "        const dataTable =\n",
              "          await google.colab.kernel.invokeFunction('convertToInteractive',\n",
              "                                                    [key], {});\n",
              "        if (!dataTable) return;\n",
              "\n",
              "        const docLinkHtml = 'Like what you see? Visit the ' +\n",
              "          '<a target=\"_blank\" href=https://colab.research.google.com/notebooks/data_table.ipynb>data table notebook</a>'\n",
              "          + ' to learn more about interactive tables.';\n",
              "        element.innerHTML = '';\n",
              "        dataTable['output_type'] = 'display_data';\n",
              "        await google.colab.output.renderOutput(dataTable, element);\n",
              "        const docLink = document.createElement('div');\n",
              "        docLink.innerHTML = docLinkHtml;\n",
              "        element.appendChild(docLink);\n",
              "      }\n",
              "    </script>\n",
              "  </div>\n",
              "\n",
              "\n",
              "<div id=\"df-d1d965d9-4144-4840-a3c4-e23a02f00b9d\">\n",
              "  <button class=\"colab-df-quickchart\" onclick=\"quickchart('df-d1d965d9-4144-4840-a3c4-e23a02f00b9d')\"\n",
              "            title=\"Suggest charts\"\n",
              "            style=\"display:none;\">\n",
              "\n",
              "<svg xmlns=\"http://www.w3.org/2000/svg\" height=\"24px\"viewBox=\"0 0 24 24\"\n",
              "     width=\"24px\">\n",
              "    <g>\n",
              "        <path d=\"M19 3H5c-1.1 0-2 .9-2 2v14c0 1.1.9 2 2 2h14c1.1 0 2-.9 2-2V5c0-1.1-.9-2-2-2zM9 17H7v-7h2v7zm4 0h-2V7h2v10zm4 0h-2v-4h2v4z\"/>\n",
              "    </g>\n",
              "</svg>\n",
              "  </button>\n",
              "\n",
              "<style>\n",
              "  .colab-df-quickchart {\n",
              "      --bg-color: #E8F0FE;\n",
              "      --fill-color: #1967D2;\n",
              "      --hover-bg-color: #E2EBFA;\n",
              "      --hover-fill-color: #174EA6;\n",
              "      --disabled-fill-color: #AAA;\n",
              "      --disabled-bg-color: #DDD;\n",
              "  }\n",
              "\n",
              "  [theme=dark] .colab-df-quickchart {\n",
              "      --bg-color: #3B4455;\n",
              "      --fill-color: #D2E3FC;\n",
              "      --hover-bg-color: #434B5C;\n",
              "      --hover-fill-color: #FFFFFF;\n",
              "      --disabled-bg-color: #3B4455;\n",
              "      --disabled-fill-color: #666;\n",
              "  }\n",
              "\n",
              "  .colab-df-quickchart {\n",
              "    background-color: var(--bg-color);\n",
              "    border: none;\n",
              "    border-radius: 50%;\n",
              "    cursor: pointer;\n",
              "    display: none;\n",
              "    fill: var(--fill-color);\n",
              "    height: 32px;\n",
              "    padding: 0;\n",
              "    width: 32px;\n",
              "  }\n",
              "\n",
              "  .colab-df-quickchart:hover {\n",
              "    background-color: var(--hover-bg-color);\n",
              "    box-shadow: 0 1px 2px rgba(60, 64, 67, 0.3), 0 1px 3px 1px rgba(60, 64, 67, 0.15);\n",
              "    fill: var(--button-hover-fill-color);\n",
              "  }\n",
              "\n",
              "  .colab-df-quickchart-complete:disabled,\n",
              "  .colab-df-quickchart-complete:disabled:hover {\n",
              "    background-color: var(--disabled-bg-color);\n",
              "    fill: var(--disabled-fill-color);\n",
              "    box-shadow: none;\n",
              "  }\n",
              "\n",
              "  .colab-df-spinner {\n",
              "    border: 2px solid var(--fill-color);\n",
              "    border-color: transparent;\n",
              "    border-bottom-color: var(--fill-color);\n",
              "    animation:\n",
              "      spin 1s steps(1) infinite;\n",
              "  }\n",
              "\n",
              "  @keyframes spin {\n",
              "    0% {\n",
              "      border-color: transparent;\n",
              "      border-bottom-color: var(--fill-color);\n",
              "      border-left-color: var(--fill-color);\n",
              "    }\n",
              "    20% {\n",
              "      border-color: transparent;\n",
              "      border-left-color: var(--fill-color);\n",
              "      border-top-color: var(--fill-color);\n",
              "    }\n",
              "    30% {\n",
              "      border-color: transparent;\n",
              "      border-left-color: var(--fill-color);\n",
              "      border-top-color: var(--fill-color);\n",
              "      border-right-color: var(--fill-color);\n",
              "    }\n",
              "    40% {\n",
              "      border-color: transparent;\n",
              "      border-right-color: var(--fill-color);\n",
              "      border-top-color: var(--fill-color);\n",
              "    }\n",
              "    60% {\n",
              "      border-color: transparent;\n",
              "      border-right-color: var(--fill-color);\n",
              "    }\n",
              "    80% {\n",
              "      border-color: transparent;\n",
              "      border-right-color: var(--fill-color);\n",
              "      border-bottom-color: var(--fill-color);\n",
              "    }\n",
              "    90% {\n",
              "      border-color: transparent;\n",
              "      border-bottom-color: var(--fill-color);\n",
              "    }\n",
              "  }\n",
              "</style>\n",
              "\n",
              "  <script>\n",
              "    async function quickchart(key) {\n",
              "      const quickchartButtonEl =\n",
              "        document.querySelector('#' + key + ' button');\n",
              "      quickchartButtonEl.disabled = true;  // To prevent multiple clicks.\n",
              "      quickchartButtonEl.classList.add('colab-df-spinner');\n",
              "      try {\n",
              "        const charts = await google.colab.kernel.invokeFunction(\n",
              "            'suggestCharts', [key], {});\n",
              "      } catch (error) {\n",
              "        console.error('Error during call to suggestCharts:', error);\n",
              "      }\n",
              "      quickchartButtonEl.classList.remove('colab-df-spinner');\n",
              "      quickchartButtonEl.classList.add('colab-df-quickchart-complete');\n",
              "    }\n",
              "    (() => {\n",
              "      let quickchartButtonEl =\n",
              "        document.querySelector('#df-d1d965d9-4144-4840-a3c4-e23a02f00b9d button');\n",
              "      quickchartButtonEl.style.display =\n",
              "        google.colab.kernel.accessAllowed ? 'block' : 'none';\n",
              "    })();\n",
              "  </script>\n",
              "</div>\n",
              "\n",
              "    </div>\n",
              "  </div>\n"
            ],
            "application/vnd.google.colaboratory.intrinsic+json": {
              "type": "dataframe",
              "summary": "{\n  \"name\": \"train_df\",\n  \"rows\": 5,\n  \"fields\": [\n    {\n      \"column\": \"line\",\n      \"properties\": {\n        \"dtype\": \"string\",\n        \"num_unique_values\": 5,\n        \"samples\": [\n          \"<user> ff too thank youuu\",\n          \"frenchies want dtou i am not from french but <user> do not you know ? all directioners wants you\",\n          \"i just love shumpa ! that s my girl\"\n        ],\n        \"semantic_type\": \"\",\n        \"description\": \"\"\n      }\n    },\n    {\n      \"column\": \"label\",\n      \"properties\": {\n        \"dtype\": \"number\",\n        \"std\": 0,\n        \"min\": 1,\n        \"max\": 1,\n        \"num_unique_values\": 1,\n        \"samples\": [\n          1\n        ],\n        \"semantic_type\": \"\",\n        \"description\": \"\"\n      }\n    },\n    {\n      \"column\": \"emoji_scores\",\n      \"properties\": {\n        \"dtype\": \"number\",\n        \"std\": 0.7071067811865476,\n        \"min\": 0.0,\n        \"max\": 1.0,\n        \"num_unique_values\": 2,\n        \"samples\": [\n          1.0\n        ],\n        \"semantic_type\": \"\",\n        \"description\": \"\"\n      }\n    },\n    {\n      \"column\": \"fake_lables\",\n      \"properties\": {\n        \"dtype\": \"number\",\n        \"std\": 0.7071067811865476,\n        \"min\": 0.0,\n        \"max\": 1.0,\n        \"num_unique_values\": 2,\n        \"samples\": [\n          1.0\n        ],\n        \"semantic_type\": \"\",\n        \"description\": \"\"\n      }\n    },\n    {\n      \"column\": \"spam_score\",\n      \"properties\": {\n        \"dtype\": \"number\",\n        \"std\": null,\n        \"min\": null,\n        \"max\": null,\n        \"num_unique_values\": 0,\n        \"samples\": [],\n        \"semantic_type\": \"\",\n        \"description\": \"\"\n      }\n    },\n    {\n      \"column\": \"vadar\",\n      \"properties\": {\n        \"dtype\": \"number\",\n        \"std\": 0.8944271909999161,\n        \"min\": -1.0,\n        \"max\": 1.0,\n        \"num_unique_values\": 2,\n        \"samples\": [],\n        \"semantic_type\": \"\",\n        \"description\": \"\"\n      }\n    },\n    {\n      \"column\": \"emotion_scores\",\n      \"properties\": {\n        \"dtype\": \"number\",\n        \"std\": 0,\n        \"min\": 1,\n        \"max\": 1,\n        \"num_unique_values\": 1,\n        \"samples\": [],\n        \"semantic_type\": \"\",\n        \"description\": \"\"\n      }\n    },\n    {\n      \"column\": \"sentiment_scores2\",\n      \"properties\": {\n        \"dtype\": \"number\",\n        \"std\": 0,\n        \"min\": 0,\n        \"max\": 1,\n        \"num_unique_values\": 2,\n        \"samples\": [],\n        \"semantic_type\": \"\",\n        \"description\": \"\"\n      }\n    },\n    {\n      \"column\": \"sentiment_scores\",\n      \"properties\": {\n        \"dtype\": \"number\",\n        \"std\": 0,\n        \"min\": 0,\n        \"max\": 1,\n        \"num_unique_values\": 2,\n        \"samples\": [],\n        \"semantic_type\": \"\",\n        \"description\": \"\"\n      }\n    }\n  ]\n}"
            }
          },
          "metadata": {},
          "execution_count": 4
        }
      ]
    },
    {
      "cell_type": "code",
      "source": [
        "\n",
        "## Nulling out the emotion_scores\n",
        "train_df.loc[train_df['emoji_scores'] == 0, 'emotion_scores'] = np.nan\n",
        "#train_df.loc[train_df['emoji_scores'] == 0, 'vadar'] = np.nan\n",
        "train_df.loc[train_df['fake_lables'] == 0, 'emotion_scores'] = np.nan\n",
        "#train_df.loc[train_df['fake_lables'] == 0, 'vadar'] = np.nan\n",
        "train_df.loc[train_df['spam_score'] == 0, 'emotion_scores'] = np.nan\n",
        "#train_df.loc[train_df['spam_score'] == 0, 'vadar'] = np.nan"
      ],
      "metadata": {
        "id": "0RVTTGU1dSyO"
      },
      "execution_count": null,
      "outputs": []
    },
    {
      "cell_type": "code",
      "source": [
        "\n",
        "train_df['spam_score'].fillna(train_df['sentiment_scores'], inplace=True)\n",
        "train_df['fake_lables'].fillna(train_df['sentiment_scores'], inplace=True)\n",
        "train_df['emoji_scores'].fillna(train_df['sentiment_scores'], inplace=True)\n",
        "#train_df['vadar'].fillna(train_df['sentiment_scores'], inplace=True)\n",
        "train_df['emotion_scores'].fillna(train_df['sentiment_scores'], inplace=True)\n"
      ],
      "metadata": {
        "id": "i6D64znBcWf-"
      },
      "execution_count": null,
      "outputs": []
    },
    {
      "cell_type": "markdown",
      "source": [
        "## Make sure all are class 0 instead of -1"
      ],
      "metadata": {
        "id": "9d0_Cifu3H3c"
      }
    },
    {
      "cell_type": "code",
      "source": [
        "\n",
        "train_df.drop(columns=['vadar'], inplace=True)"
      ],
      "metadata": {
        "id": "AYQPEbi43O18"
      },
      "execution_count": null,
      "outputs": []
    },
    {
      "cell_type": "code",
      "source": [
        "rows_with_minus_one = train_df.apply(lambda row: -1 in row.values, axis=1)\n"
      ],
      "metadata": {
        "id": "A8ZkUnr13B3-"
      },
      "execution_count": null,
      "outputs": []
    },
    {
      "cell_type": "code",
      "source": [
        "print(\"Rows that contain -1:\")\n",
        "print(train_df[rows_with_minus_one])"
      ],
      "metadata": {
        "colab": {
          "base_uri": "https://localhost:8080/"
        },
        "id": "ZEYJcCir3Fks",
        "outputId": "49c624ab-51d9-40d3-8f12-29dbf46cdebb"
      },
      "execution_count": null,
      "outputs": [
        {
          "output_type": "stream",
          "name": "stdout",
          "text": [
            "Rows that contain -1:\n",
            "Empty DataFrame\n",
            "Columns: [line, label, emoji_scores, fake_lables, spam_score, emotion_scores, sentiment_scores2, sentiment_scores]\n",
            "Index: []\n"
          ]
        }
      ]
    },
    {
      "cell_type": "code",
      "execution_count": null,
      "metadata": {
        "colab": {
          "base_uri": "https://localhost:8080/"
        },
        "id": "rj54h9IUb6R_",
        "outputId": "661e6b94-64dd-4870-9d8c-25987deb449d"
      },
      "outputs": [
        {
          "output_type": "stream",
          "name": "stderr",
          "text": [
            "/usr/local/lib/python3.10/dist-packages/torch/utils/data/dataloader.py:558: UserWarning: This DataLoader will create 4 worker processes in total. Our suggested max number of worker in current system is 2, which is smaller than what this DataLoader is going to create. Please be aware that excessive worker creation might get DataLoader running slow or even freeze, lower the worker number to avoid potential slowness/freeze if necessary.\n",
            "  warnings.warn(_create_warning_msg(\n"
          ]
        }
      ],
      "source": [
        "import numpy as np\n",
        "import torch\n",
        "import torch.nn as nn\n",
        "import torch.optim as optim\n",
        "from torch.utils.data import DataLoader, TensorDataset, random_split\n",
        "from sklearn.datasets import make_classification\n",
        "from sklearn.preprocessing import StandardScaler\n",
        "from sklearn.model_selection import train_test_split\n",
        "from sklearn.metrics import classification_report\n",
        "\n",
        "# Example: Load your dataset\n",
        "# X, y = load_your_data()  # Replace with your data loading method\n",
        "# For demonstration, let's create a synthetic dataset\n",
        "from sklearn.datasets import make_classification\n",
        "y = train_df['label']\n",
        "X = train_df[['emoji_scores', 'spam_score', 'fake_lables','emotion_scores','sentiment_scores']]\n",
        "\n",
        "# Split the data\n",
        "X_train, X_test, y_train, y_test = train_test_split(X, y, test_size=0.2, random_state=42)\n",
        "# Standardize the data (mean=0, variance=1)\n",
        "\n",
        "scaler = StandardScaler()\n",
        "X_train = scaler.fit_transform(X_train)\n",
        "X_test = scaler.transform(X_test)\n",
        "\n",
        "from sklearn.experimental import enable_iterative_imputer  # noqa\n",
        "from sklearn.impute import IterativeImputer\n",
        "imputer = IterativeImputer(max_iter=10, random_state=42,initial_strategy='most_frequent')\n",
        "\n",
        "# Fit the imputer on the training set and transform the training data\n",
        "X_train = imputer.fit_transform(X_train)\n",
        "\n",
        "# Transform the testing data using the same imputer\n",
        "X_test = imputer.transform(X_test)\n",
        "\n",
        "# Convert to NumPy arrays\n",
        "X_train = np.array(X_train)\n",
        "X_test = np.array(X_test)\n",
        "y_train = np.array(y_train)\n",
        "y_test = np.array(y_test)\n",
        "# Convert to PyTorch tensors\n",
        "X_train_tensor = torch.tensor(X_train, dtype=torch.float32)\n",
        "X_test_tensor = torch.tensor(X_test, dtype=torch.float32)\n",
        "y_train_tensor = torch.tensor(y_train, dtype=torch.float32).unsqueeze(1)\n",
        "y_test_tensor = torch.tensor(y_test, dtype=torch.float32).unsqueeze(1)\n",
        "\n",
        "# Create DataLoader\n",
        "train_dataset = TensorDataset(X_train_tensor, y_train_tensor)\n",
        "test_dataset = TensorDataset(X_test_tensor, y_test_tensor)\n",
        "\n",
        "train_loader = DataLoader(train_dataset, batch_size=32, shuffle=True,num_workers=4,pin_memory =True)\n",
        "test_loader = DataLoader(test_dataset, batch_size=32, shuffle=False,num_workers=4,pin_memory =True)"
      ]
    },
    {
      "cell_type": "code",
      "source": [
        "print(X_train.shape)\n",
        "print(X_test.shape)\n",
        "print(y_train.shape)\n",
        "print(y_test.shape)"
      ],
      "metadata": {
        "colab": {
          "base_uri": "https://localhost:8080/"
        },
        "id": "VQ1ILQYRivA1",
        "outputId": "082aa231-304d-4eba-a41c-30ddea47727e"
      },
      "execution_count": null,
      "outputs": [
        {
          "output_type": "stream",
          "name": "stdout",
          "text": [
            "(1816385, 5)\n",
            "(454097, 5)\n",
            "(1816385,)\n",
            "(454097,)\n"
          ]
        }
      ]
    },
    {
      "cell_type": "code",
      "source": [
        "import torch.nn as nn\n",
        "\n",
        "# Define the MLP model\n",
        "class MLP(nn.Module):\n",
        "    def __init__(self, input_dim):\n",
        "        super(MLP, self).__init__()\n",
        "        self.fc1 = nn.Linear(input_dim, 128)  # 64 doubled to 128\n",
        "        self.fc2 = nn.Linear(128, 64)         # 32 doubled to 64\n",
        "        self.fc3 = nn.Linear(64, 1)\n",
        "        self.relu = nn.ReLU()\n",
        "        self.sigmoid = nn.Sigmoid()\n",
        "\n",
        "    def forward(self, x):\n",
        "        x = self.relu(self.fc1(x))\n",
        "        x = self.relu(self.fc2(x))\n",
        "        x = self.sigmoid(self.fc3(x))\n",
        "        return x"
      ],
      "metadata": {
        "id": "AreoO0W2b9UV"
      },
      "execution_count": null,
      "outputs": []
    },
    {
      "cell_type": "code",
      "source": [
        "\n",
        "# Initialize the model\n",
        "model = MLP(X_train.shape[1])\n",
        "\n",
        "# Check for GPU\n",
        "device = torch.device('cuda' if torch.cuda.is_available() else 'cpu')\n",
        "print(f'Using device: {device}')\n",
        "\n",
        "# Move model to device\n",
        "model.to(device)\n",
        "\n",
        "# Define loss function and optimizer\n",
        "criterion = nn.BCELoss()\n",
        "optimizer = optim.Adam(model.parameters(), lr=0.001, weight_decay=0.01)\n",
        "\n",
        "# Training loop\n",
        "num_epochs = 10\n",
        "\n",
        "for epoch in range(num_epochs):\n",
        "    model.train()\n",
        "    running_loss = 0.0\n",
        "    for X_batch, y_batch in train_loader:\n",
        "        X_batch, y_batch = X_batch.to(device), y_batch.to(device)\n",
        "\n",
        "        optimizer.zero_grad()\n",
        "        outputs = model(X_batch)\n",
        "        loss = criterion(outputs, y_batch)\n",
        "        loss.backward()\n",
        "        optimizer.step()\n",
        "        running_loss += loss.item()\n",
        "\n",
        "    print(f'Epoch {epoch+1}/{num_epochs}, Loss: {running_loss/len(train_loader)}')\n"
      ],
      "metadata": {
        "colab": {
          "base_uri": "https://localhost:8080/"
        },
        "id": "Gzltp3tAfz5g",
        "outputId": "40f711f0-226a-4291-d7fb-9b011541fab8"
      },
      "execution_count": null,
      "outputs": [
        {
          "output_type": "stream",
          "name": "stdout",
          "text": [
            "Using device: cuda\n"
          ]
        },
        {
          "output_type": "stream",
          "name": "stderr",
          "text": [
            "/usr/local/lib/python3.10/dist-packages/torch/utils/data/dataloader.py:558: UserWarning: This DataLoader will create 4 worker processes in total. Our suggested max number of worker in current system is 2, which is smaller than what this DataLoader is going to create. Please be aware that excessive worker creation might get DataLoader running slow or even freeze, lower the worker number to avoid potential slowness/freeze if necessary.\n",
            "  warnings.warn(_create_warning_msg(\n"
          ]
        },
        {
          "output_type": "stream",
          "name": "stdout",
          "text": [
            "Epoch 1/10, Loss: 0.25915450665406026\n",
            "Epoch 2/10, Loss: 0.2585157973362463\n",
            "Epoch 3/10, Loss: 0.25842708534571973\n",
            "Epoch 4/10, Loss: 0.2583674266579999\n",
            "Epoch 5/10, Loss: 0.25834742009362394\n",
            "Epoch 6/10, Loss: 0.258318503519695\n",
            "Epoch 7/10, Loss: 0.25829402006028634\n",
            "Epoch 8/10, Loss: 0.2583063428112482\n",
            "Epoch 9/10, Loss: 0.25828319187127335\n",
            "Epoch 10/10, Loss: 0.2582861891330825\n"
          ]
        }
      ]
    },
    {
      "cell_type": "code",
      "source": [
        "# Evaluation\n",
        "model.eval()\n",
        "y_pred = []\n",
        "y_true = []\n",
        "with torch.no_grad():\n",
        "    for X_batch, y_batch in test_loader:\n",
        "        X_batch, y_batch = X_batch.to(device), y_batch.to(device)\n",
        "        outputs = model(X_batch)\n",
        "        predictions = (outputs > 0.5).float()\n",
        "        y_pred.extend(predictions.cpu().numpy())\n",
        "        y_true.extend(y_batch.cpu().numpy())\n",
        "\n",
        "\n",
        "# Convert to numpy arrays\n",
        "y_pred = np.array(y_pred)\n",
        "y_true = np.array(y_true)\n",
        "\n",
        "# Print classification report\n",
        "# Assuming y_true and y_pred are already defined\n",
        "report = classification_report(y_true, y_pred, output_dict=True)\n",
        "\n",
        "# Convert the report to a DataFrame\n",
        "report_df = pd.DataFrame(report).transpose()\n",
        "\n",
        "# Format the values to 4 decimal places\n",
        "report_df = report_df.applymap(lambda x: f\"{x:.4f}\" if isinstance(x, float) else x)\n",
        "\n",
        "# Print the formatted classification report\n",
        "print(report_df)"
      ],
      "metadata": {
        "id": "4tk-838jnqAS",
        "colab": {
          "base_uri": "https://localhost:8080/"
        },
        "outputId": "eb2f8e9d-97cc-4b32-b7e0-2dca3db26aac"
      },
      "execution_count": null,
      "outputs": [
        {
          "output_type": "stream",
          "name": "stdout",
          "text": [
            "             precision  recall f1-score      support\n",
            "0.0             0.7495  0.9951   0.8550  160771.0000\n",
            "1.0             0.9967  0.8177   0.8984  293326.0000\n",
            "accuracy        0.8805  0.8805   0.8805       0.8805\n",
            "macro avg       0.8731  0.9064   0.8767  454097.0000\n",
            "weighted avg    0.9092  0.8805   0.8830  454097.0000\n"
          ]
        }
      ]
    },
    {
      "cell_type": "code",
      "source": [
        "torch.save(model.state_dict(), 'mlp_submission3.pth')"
      ],
      "metadata": {
        "id": "QwQgllHoEOQ-"
      },
      "execution_count": null,
      "outputs": []
    }
  ]
}