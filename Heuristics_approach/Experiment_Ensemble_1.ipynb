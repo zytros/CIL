{
  "nbformat": 4,
  "nbformat_minor": 0,
  "metadata": {
    "colab": {
      "provenance": []
    },
    "kernelspec": {
      "name": "python3",
      "display_name": "Python 3"
    },
    "language_info": {
      "name": "python"
    }
  },
  "cells": [
    {
      "cell_type": "markdown",
      "source": [
        "## This is an notebook includes code for\n",
        "- Calculating Accuracy of scores\n",
        "- Measuring improvement of Vadar and XLM-T with ensemble methods.\n",
        "- Measuring improvement of Final method with ensemble methods"
      ],
      "metadata": {
        "id": "WiEBqSP8yVx4"
      }
    },
    {
      "cell_type": "code",
      "source": [
        "from google.colab import drive\n",
        "drive.mount('/content/drive')"
      ],
      "metadata": {
        "colab": {
          "base_uri": "https://localhost:8080/"
        },
        "id": "z8yzGplE0Po7",
        "outputId": "01eaf82a-7cc6-4ad4-d30e-e10736588f12"
      },
      "execution_count": null,
      "outputs": [
        {
          "output_type": "stream",
          "name": "stdout",
          "text": [
            "Mounted at /content/drive\n"
          ]
        }
      ]
    },
    {
      "cell_type": "code",
      "execution_count": null,
      "metadata": {
        "colab": {
          "base_uri": "https://localhost:8080/"
        },
        "id": "ahriJsoIyTz3",
        "outputId": "131ec16f-5149-494b-e518-50258dc7ec7f"
      },
      "outputs": [
        {
          "output_type": "stream",
          "name": "stdout",
          "text": [
            "2270482\n",
            "2270482\n",
            "1127644\n",
            "1142838\n",
            "2270482\n",
            "2270482\n"
          ]
        }
      ],
      "source": [
        "emotion_scores =[]\n",
        "sentiment_scores =[]\n",
        "for i in range(12):\n",
        "    file_path = f\"/content/drive/MyDrive/tiwtter_sentiment_big_file/emotion_scores_{i}.txt\"\n",
        "    with open(file_path,\"r\") as file:\n",
        "        emotions = eval(file.read())\n",
        "    #print(len(emotions))\n",
        "    emotion_scores.extend(emotions)\n",
        "\n",
        "print(len(emotion_scores))\n",
        "for i in range(12):\n",
        "    file_path = f\"/content/drive/MyDrive/tiwtter_sentiment_big_file/sentiment_scores_{i}.txt\"\n",
        "    with open(file_path,\"r\") as file:\n",
        "        sentiments = eval(file.read())\n",
        "    #print(len(emotions))\n",
        "    sentiment_scores.extend(sentiments)\n",
        "\n",
        "print(len(sentiment_scores))\n",
        "import numpy as np\n",
        "import pandas as pd\n",
        "\n",
        "import pandas as pd\n",
        "train_df = pd.read_csv('/content/drive/MyDrive/tiwtter_sentiment_big_file/submission_train.csv')\n",
        "samuels_pred_df = pd.read_csv('/content/drive/MyDrive/tiwtter_sentiment_big_file/training_no_duplicates.csv')\n",
        "num_rows =1127644\n",
        "# Split the DataFrame into two parts\n",
        "first_part = train_df.iloc[:num_rows]\n",
        "second_part = train_df.iloc[num_rows:]\n",
        "\n",
        "print(len(first_part))\n",
        "print(len(second_part))\n",
        "print(len(first_part)+len(second_part))\n",
        "# Concatenate the second part first, followed by the first part\n",
        "train_df = pd.concat([second_part, first_part]).reset_index(drop=True)\n",
        "fe = emotion_scores[:1127644]\n",
        "se = emotion_scores[1127644:]\n",
        "emotion_score_swapped = se + fe\n",
        "print(len(emotion_score_swapped))\n",
        "\n",
        "fs = sentiment_scores[:1127644]\n",
        "ss = sentiment_scores[1127644:]\n",
        "sentiment_score_swapped = ss + fs\n",
        "train_df.loc[:, 'emotion_scores'] = emotion_score_swapped\n",
        "\n",
        "train_df.loc[:, 'sentiment_scores2'] = sentiment_score_swapped\n",
        "\n",
        "train_df.loc[:, 'sentiment_scores'] = samuels_pred_df['predictions']\n",
        "train_df.loc[:, 'sentiment_scores'] = train_df.loc[:, 'sentiment_scores'].replace(0,-1)\n",
        "train_df.loc[:, 'emoji_scores'] = train_df['emoji_scores'].replace(0, np.nan)\n",
        "train_df.loc[:,'spam_score'] = train_df['spam_score'].replace(0,np.nan)\n",
        "train_df.loc[:,'fake_lables'] = train_df['fake_lables'].replace(0,np.nan)\n",
        "train_df.loc[:,'spam_score']= train_df['spam_score'].replace(1,-1)\n",
        "def modify_value(x):\n",
        "    if x == 0.0 or np.isnan(x):\n",
        "        return np.nan\n",
        "    elif x > 0.0:\n",
        "        return 1\n",
        "    else:\n",
        "        return -1\n",
        "train_df.loc[:, 'emoji_scores'] = train_df['emoji_scores'].apply(modify_value)\n"
      ]
    },
    {
      "cell_type": "code",
      "source": [
        "old_vadar_score_df = pd.read_csv('/content/drive/MyDrive/tiwtter_sentiment_big_file/full_df_big_deprecated.csv')\n",
        "old_vadar_score_df.loc[:, 'vadar'] = old_vadar_score_df['vadar'].apply(modify_value)\n",
        "vader_scores = old_vadar_score_df['vadar']\n",
        "first_part = vader_scores.iloc[:num_rows]\n",
        "second_part = vader_scores.iloc[num_rows:]\n",
        "\n",
        "vader_scores_swapped = pd.concat([second_part, first_part]).reset_index(drop=True)\n",
        "train_df.loc[:, 'vadar'] = vader_scores_swapped"
      ],
      "metadata": {
        "id": "xtvI7QzzTi08"
      },
      "execution_count": null,
      "outputs": []
    },
    {
      "cell_type": "code",
      "source": [
        "from sklearn.metrics import accuracy_score,precision_score, recall_score\n",
        "from sklearn.metrics import confusion_matrix\n",
        "emoji_scores = train_df['emoji_scores']\n",
        "emoji_scores_cal_df = pd.DataFrame({'label': train_df['label'], 'emoji_scores': emoji_scores})\n",
        "# Filter out rows where the 'vader_scores' is NaN\n",
        "filtered_df = emoji_scores_cal_df.dropna(subset=['emoji_scores'])\n",
        "print(f\"length of non-np.nan elements {len(filtered_df)/2270482}\")\n",
        "print(f\"length of pos elements {len(filtered_df[filtered_df['emoji_scores']==1])/len(filtered_df)}\")\n",
        "print(f\"length of neg elements {len(filtered_df[filtered_df['emoji_scores']==-1])/len(filtered_df)}\")\n",
        "from sklearn.metrics import accuracy_score,precision_score, recall_score\n",
        "accuracy_sam = accuracy_score(filtered_df['label'], filtered_df['emoji_scores'])\n",
        "precision_sam = precision_score(filtered_df['label'], filtered_df['emoji_scores'])\n",
        "recall_sam = recall_score(filtered_df['label'], filtered_df['emoji_scores'])\n",
        "precision_sam_neg = precision_score(filtered_df['label'], filtered_df['emoji_scores'],pos_label =-1)\n",
        "recall_sam_neg = recall_score(filtered_df['label'], filtered_df['emoji_scores'],pos_label =-1)\n",
        "\n",
        "cm = confusion_matrix(filtered_df['label'], filtered_df['emoji_scores'])\n",
        "print(cm)\n",
        "print(f\"accuracy: {accuracy_sam:.2f}\")\n",
        "print(f\"precision_pos: {precision_sam:.2f}\")\n",
        "print(f\"recall_pos: {recall_sam:.2f}\")\n",
        "print(f\"precision_neg: {precision_sam_neg:.2f}\")\n",
        "print(f\"recall_neg: {recall_sam_neg:.2f}\")"
      ],
      "metadata": {
        "colab": {
          "base_uri": "https://localhost:8080/"
        },
        "id": "8nz_U5sVzWiJ",
        "outputId": "42244f76-33c5-433a-fe53-5e7cc6aa3df0"
      },
      "execution_count": null,
      "outputs": [
        {
          "output_type": "stream",
          "name": "stdout",
          "text": [
            "length of non-np.nan elements 0.2273935666523672\n",
            "length of pos elements 0.24731305673328904\n",
            "length of neg elements 0.7526869432667109\n",
            "[[377402  27520]\n",
            " [ 11205 100166]]\n",
            "accuracy: 0.92\n",
            "precision_pos: 0.78\n",
            "recall_pos: 0.90\n",
            "precision_neg: 0.97\n",
            "recall_neg: 0.93\n"
          ]
        }
      ]
    },
    {
      "cell_type": "code",
      "source": [
        "# Define the function to modify the column values\n",
        "def modify_value(x):\n",
        "    if x ==0 or np.isnan(x):\n",
        "        return np.nan\n",
        "    else:\n",
        "        return x\n",
        "\n",
        "# Apply the function to the specified column\n",
        "fake_lables_scores = train_df['fake_lables'].apply(modify_value)\n",
        "fake_lables_scores_cal_df = pd.DataFrame({'label': train_df['label'], 'fake_lables': fake_lables_scores})\n",
        "# Filter out rows where the 'vader_scores' is NaN\n",
        "filtered_df = fake_lables_scores_cal_df.dropna(subset=['fake_lables'])\n",
        "print(f\"length of non-np.nan elements {len(filtered_df)/2270482}\")\n",
        "print(f\"length of pos elements {len(filtered_df[filtered_df['fake_lables']==1])}\")\n",
        "print(f\"length of neg elements {len(filtered_df[filtered_df['fake_lables']==-1])}\")\n",
        "print(f\"part of pos elements {len(filtered_df[filtered_df['fake_lables']==1])/len(filtered_df)}\")\n",
        "print(f\"part of neg elements {len(filtered_df[filtered_df['fake_lables']==-1])/len(filtered_df)}\")\n",
        "from sklearn.metrics import accuracy_score,precision_score, recall_score\n",
        "accuracy_sam = accuracy_score(filtered_df['label'], filtered_df['fake_lables'])\n",
        "precision_sam = precision_score(filtered_df['label'], filtered_df['fake_lables'])\n",
        "recall_sam = recall_score(filtered_df['label'], filtered_df['fake_lables'])\n",
        "precision_sam_neg = precision_score(filtered_df['label'], filtered_df['fake_lables'],pos_label =-1)\n",
        "recall_sam_neg = recall_score(filtered_df['label'], filtered_df['fake_lables'],pos_label =-1)\n",
        "\n",
        "\n",
        "cm = confusion_matrix(filtered_df['label'], filtered_df['fake_lables'])\n",
        "print(cm)\n",
        "print(f\"accuracy: {accuracy_sam:.2f}\")\n",
        "print(f\"precision_pos: {precision_sam:.2f}\")\n",
        "print(f\"recall_pos: {recall_sam:.2f}\")\n",
        "print(f\"precision_neg: {precision_sam_neg:.2f}\")\n",
        "print(f\"recall_neg: {recall_sam_neg:.2f}\")\n"
      ],
      "metadata": {
        "colab": {
          "base_uri": "https://localhost:8080/"
        },
        "id": "rwK0cry-zamB",
        "outputId": "b15c58e7-d73d-4ec5-d57d-4afe4bc7aef6"
      },
      "execution_count": null,
      "outputs": [
        {
          "output_type": "stream",
          "name": "stdout",
          "text": [
            "length of non-np.nan elements 0.19498282743487946\n",
            "length of pos elements 63780\n",
            "length of neg elements 378925\n",
            "part of pos elements 0.1440688494595724\n",
            "part of neg elements 0.8559311505404276\n",
            "[[371236   7796]\n",
            " [  7689  55984]]\n",
            "accuracy: 0.97\n",
            "precision_pos: 0.88\n",
            "recall_pos: 0.88\n",
            "precision_neg: 0.98\n",
            "recall_neg: 0.98\n"
          ]
        }
      ]
    },
    {
      "cell_type": "code",
      "source": [
        "\n",
        "# Apply the function to the specified column\n",
        "spam_scores = train_df['spam_score']\n",
        "spam_scores_cal_df = pd.DataFrame({'label': train_df['label'], 'spam_scores': spam_scores})\n",
        "# Filter out rows where the 'vader_scores' is NaN\n",
        "filtered_df = spam_scores_cal_df.dropna(subset=['spam_scores'])\n",
        "print(f\"length of non-np.nan elements {len(filtered_df)/2270482}\")\n",
        "print(f\"length of pos elements {len(filtered_df[filtered_df['spam_scores']==1])}\")\n",
        "print(f\"length of neg elements {len(filtered_df[filtered_df['spam_scores']==-1])}\")\n",
        "from sklearn.metrics import accuracy_score,precision_score, recall_score\n",
        "accuracy_sam = accuracy_score(filtered_df['label'], filtered_df['spam_scores'])\n",
        "precision_sam_pos = precision_score(filtered_df['label'], filtered_df['spam_scores'])\n",
        "precision_sam_neg = precision_score(filtered_df['label'], filtered_df['spam_scores'],pos_label =-1)\n",
        "recall_sam_neg = recall_score(filtered_df['label'], filtered_df['spam_scores'],pos_label =-1)\n",
        "\n",
        "cm = confusion_matrix(filtered_df['label'], filtered_df['spam_scores'])\n",
        "print(cm)\n",
        "print(f\"accuracy: {accuracy_sam:.4f}\")\n",
        "print(precision_sam_pos)\n",
        "print(f\"precision_neg: {precision_sam_neg:.4f}\")\n",
        "print(f\"recall_neg: {recall_sam_neg:.4f}\")\n"
      ],
      "metadata": {
        "colab": {
          "base_uri": "https://localhost:8080/"
        },
        "id": "VApy-PJQzpBM",
        "outputId": "f6087a19-6906-48bc-9dd0-c971864035fe"
      },
      "execution_count": null,
      "outputs": [
        {
          "output_type": "stream",
          "name": "stdout",
          "text": [
            "length of non-np.nan elements 0.050906371422455673\n",
            "length of pos elements 0\n",
            "length of neg elements 115582\n"
          ]
        },
        {
          "output_type": "stream",
          "name": "stderr",
          "text": [
            "/usr/local/lib/python3.10/dist-packages/sklearn/metrics/_classification.py:1471: UndefinedMetricWarning: Precision is ill-defined and being set to 0.0 due to no predicted samples. Use `zero_division` parameter to control this behavior.\n",
            "  _warn_prf(average, modifier, msg_start, len(result))\n"
          ]
        },
        {
          "output_type": "stream",
          "name": "stdout",
          "text": [
            "[[115413      0]\n",
            " [   169      0]]\n",
            "accuracy: 0.9985\n",
            "0.0\n",
            "precision_neg: 0.9985\n",
            "recall_neg: 1.0000\n"
          ]
        }
      ]
    },
    {
      "cell_type": "code",
      "source": [
        "print(f\"true pos: {precision_sam_pos:.4f}\")"
      ],
      "metadata": {
        "colab": {
          "base_uri": "https://localhost:8080/"
        },
        "id": "1PL1vYkg2e9K",
        "outputId": "9ef71ba3-2097-4010-fa14-05f77cbc8ddb"
      },
      "execution_count": null,
      "outputs": [
        {
          "output_type": "stream",
          "name": "stdout",
          "text": [
            "true pos: 0.0000\n"
          ]
        }
      ]
    },
    {
      "cell_type": "markdown",
      "source": [
        "## Measuring Improvement of using ensemble method"
      ],
      "metadata": {
        "id": "yiDm83Q4319M"
      }
    },
    {
      "cell_type": "markdown",
      "source": [
        "This is XLM-T's prediction accuracy"
      ],
      "metadata": {
        "id": "h1C7QymZ4KnO"
      }
    },
    {
      "cell_type": "code",
      "source": [
        "from sklearn.metrics import accuracy_score,precision_score, recall_score\n",
        "from sklearn.metrics import confusion_matrix"
      ],
      "metadata": {
        "id": "hom8MXHfT9oE"
      },
      "execution_count": null,
      "outputs": []
    },
    {
      "cell_type": "code",
      "source": [
        "\n",
        "accuracy_sam = accuracy_score(train_df['label'], train_df['sentiment_scores2'])\n",
        "precision_sam = precision_score(train_df['label'], train_df['sentiment_scores2'])\n",
        "recall_sam = recall_score(train_df['label'], train_df['sentiment_scores2'])\n",
        "precision_sam_neg = precision_score(train_df['label'], train_df['sentiment_scores2'],pos_label =-1)\n",
        "recall_sam_neg = recall_score(train_df['label'], train_df['sentiment_scores2'],pos_label =-1)\n",
        "cm = confusion_matrix(train_df['label'], train_df['sentiment_scores2'])\n",
        "print(cm)\n",
        "print(f\"accuracy: {accuracy_sam:.4f}\")\n",
        "print(f\"precision_pos: {precision_sam:.4f}\")\n",
        "print(f\"recall_pos: {recall_sam:.4f}\")\n",
        "print(f\"precision_neg: {precision_sam_neg:.4f}\")\n",
        "print(f\"recall_neg: {recall_sam_neg:.4f}\")"
      ],
      "metadata": {
        "colab": {
          "base_uri": "https://localhost:8080/"
        },
        "id": "UrfVNRxP1LmG",
        "outputId": "00ac10f9-d33f-4dfa-d22f-9644d6abbb08"
      },
      "execution_count": null,
      "outputs": [
        {
          "output_type": "stream",
          "name": "stdout",
          "text": [
            "[[689734 453104]\n",
            " [228664 898980]]\n",
            "accuracy: 0.6997\n",
            "precision_pos: 0.6649\n",
            "recall_pos: 0.7972\n",
            "precision_neg: 0.7510\n",
            "recall_neg: 0.6035\n"
          ]
        }
      ]
    },
    {
      "cell_type": "code",
      "source": [
        "\n",
        "vader_scores = train_df['vadar']\n",
        "vadar_score_cal_df = pd.DataFrame({'label': train_df['label'], 'vader_scores': vader_scores})\n",
        "# Filter out rows where the 'vader_scores' is NaN\n",
        "filtered_df = vadar_score_cal_df.dropna(subset=['vader_scores'])\n",
        "print(f\"length of non-np.nan elements {len(filtered_df)/2270482}\")\n",
        "print(f\"length of pos elements {len(filtered_df[filtered_df['vader_scores']==1])/len(filtered_df)}\")\n",
        "print(f\"length of neg elements {len(filtered_df[filtered_df['vader_scores']==-1])/len(filtered_df)}\")\n",
        "# Compute accuracy only on non-NaN values\n",
        "accuracy = accuracy_score(filtered_df['label'], filtered_df['vader_scores'])\n",
        "from sklearn.metrics import accuracy_score,precision_score, recall_score\n",
        "accuracy_sam = accuracy_score(filtered_df['label'], filtered_df['vader_scores'])\n",
        "precision_sam = precision_score(filtered_df['label'], filtered_df['vader_scores'])\n",
        "recall_sam = recall_score(filtered_df['label'], filtered_df['vader_scores'])\n",
        "precision_sam_neg = precision_score(filtered_df['label'], filtered_df['vader_scores'],pos_label =-1)\n",
        "recall_sam_neg = recall_score(filtered_df['label'], filtered_df['vader_scores'],pos_label =-1)\n",
        "\n",
        "cm = confusion_matrix(filtered_df['label'], filtered_df['vader_scores'])\n",
        "print(cm)\n",
        "print(f\"accuracy: {accuracy_sam:.2f}\")\n",
        "print(f\"precision_pos: {precision_sam:.2f}\")\n",
        "print(f\"recall_pos: {recall_sam:.2f}\")\n",
        "print(f\"precision_neg: {precision_sam_neg:.2f}\")\n",
        "print(f\"recall_neg: {recall_sam_neg:.2f}\")"
      ],
      "metadata": {
        "colab": {
          "base_uri": "https://localhost:8080/"
        },
        "id": "C2_y793V1ILX",
        "outputId": "f9621bdd-047c-4898-bc7b-654079f7f25d"
      },
      "execution_count": null,
      "outputs": [
        {
          "output_type": "stream",
          "name": "stdout",
          "text": [
            "length of non-np.nan elements 0.7463719157430009\n",
            "length of pos elements 0.677930915648545\n",
            "length of neg elements 0.322069084351455\n",
            "[[414129 414532]\n",
            " [131657 734306]]\n",
            "accuracy: 0.68\n",
            "precision_pos: 0.64\n",
            "recall_pos: 0.85\n",
            "precision_neg: 0.76\n",
            "recall_neg: 0.50\n"
          ]
        }
      ]
    },
    {
      "cell_type": "markdown",
      "source": [
        "This is Embedding approach's prediction accuracy"
      ],
      "metadata": {
        "id": "0PtmBtFa4NqQ"
      }
    },
    {
      "cell_type": "code",
      "source": [
        "from sklearn.metrics import accuracy_score,precision_score, recall_score\n",
        "from sklearn.metrics import confusion_matrix\n",
        "accuracy_sam = accuracy_score(train_df['label'], train_df['sentiment_scores'])\n",
        "precision_sam = precision_score(train_df['label'], train_df['sentiment_scores'])\n",
        "recall_sam = recall_score(train_df['label'], train_df['sentiment_scores'])\n",
        "precision_sam_neg = precision_score(train_df['label'], train_df['sentiment_scores'],pos_label =-1)\n",
        "recall_sam_neg = recall_score(train_df['label'], train_df['sentiment_scores'],pos_label =-1)\n",
        "cm = confusion_matrix(train_df['label'], train_df['sentiment_scores'])\n",
        "print(cm)\n",
        "print(f\"accuracy: {accuracy_sam:.4f}\")\n",
        "print(f\"precision_pos: {precision_sam:.4f}\")\n",
        "print(f\"recall_pos: {recall_sam:.4f}\")\n",
        "print(f\"precision_neg: {precision_sam_neg:.4f}\")\n",
        "print(f\"recall_neg: {recall_sam_neg:.4f}\")"
      ],
      "metadata": {
        "colab": {
          "base_uri": "https://localhost:8080/"
        },
        "id": "GAV7qY-11Jj0",
        "outputId": "92f567d4-bbe3-4279-cf4f-e1c780f17f5f"
      },
      "execution_count": null,
      "outputs": [
        {
          "output_type": "stream",
          "name": "stdout",
          "text": [
            "[[ 994855  147983]\n",
            " [ 121312 1006332]]\n",
            "accuracy: 0.8814\n",
            "precision_pos: 0.8718\n",
            "recall_pos: 0.8924\n",
            "precision_neg: 0.8913\n",
            "recall_neg: 0.8705\n"
          ]
        }
      ]
    },
    {
      "cell_type": "markdown",
      "source": [
        "This is prediction accuracy of emotion scores"
      ],
      "metadata": {
        "id": "3Q95l51d4RoZ"
      }
    },
    {
      "cell_type": "code",
      "source": [
        "from sklearn.metrics import accuracy_score,precision_score, recall_score\n",
        "accuracy_sam = accuracy_score(train_df['label'], train_df['emotion_scores'])\n",
        "precision_sam = precision_score(train_df['label'], train_df['emotion_scores'])\n",
        "recall_sam = recall_score(train_df['label'], train_df['emotion_scores'])\n",
        "precision_sam_neg = precision_score(train_df['label'], train_df['emotion_scores'],pos_label =-1)\n",
        "recall_sam_neg = recall_score(train_df['label'], train_df['emotion_scores'],pos_label =-1)\n",
        "\n",
        "cm = confusion_matrix(train_df['label'], train_df['emotion_scores'])\n",
        "print(cm)\n",
        "print(f\"accuracy: {accuracy_sam:.4f}\")\n",
        "print(f\"precision_pos: {precision_sam:.4f}\")\n",
        "print(f\"recall_pos: {recall_sam:.4f}\")\n",
        "print(f\"precision_neg: {precision_sam_neg:.4f}\")\n",
        "print(f\"recall_neg: {recall_sam_neg:.4f}\")"
      ],
      "metadata": {
        "colab": {
          "base_uri": "https://localhost:8080/"
        },
        "id": "pzRMt6051PiE",
        "outputId": "dcaae256-5f28-4aaf-ebad-d6ca9d30bbc1"
      },
      "execution_count": null,
      "outputs": [
        {
          "output_type": "stream",
          "name": "stdout",
          "text": [
            "[[622648 520190]\n",
            " [181361 946283]]\n",
            "accuracy: 0.6910\n",
            "precision_pos: 0.6453\n",
            "recall_pos: 0.8392\n",
            "precision_neg: 0.7744\n",
            "recall_neg: 0.5448\n"
          ]
        }
      ]
    },
    {
      "cell_type": "markdown",
      "source": [
        "## Measuring improvement of baseline models when we add those scores"
      ],
      "metadata": {
        "id": "ZPwe5qmST1iV"
      }
    },
    {
      "cell_type": "code",
      "source": [
        "\n",
        "## Nulling out the emotion_scores\n",
        "train_df.loc[train_df['emoji_scores'] == -1, 'emotion_scores'] = np.nan\n",
        "train_df.loc[train_df['emoji_scores'] == -1, 'vadar'] = np.nan\n",
        "train_df.loc[train_df['fake_lables'] == -1, 'emotion_scores'] = np.nan\n",
        "train_df.loc[train_df['fake_lables'] == -1, 'vadar'] = np.nan\n",
        "train_df.loc[train_df['spam_score'] == -1, 'emotion_scores'] = np.nan\n",
        "train_df.loc[train_df['spam_score'] == -1, 'vadar'] = np.nan"
      ],
      "metadata": {
        "id": "MVR3fSou4Hx_"
      },
      "execution_count": null,
      "outputs": []
    },
    {
      "cell_type": "code",
      "source": [
        "from sklearn.model_selection import train_test_split\n",
        "from sklearn.ensemble import HistGradientBoostingClassifier\n",
        "from sklearn.metrics import accuracy_score, precision_score, recall_score, f1_score, roc_auc_score, confusion_matrix, classification_report\n",
        "from sklearn.model_selection import GridSearchCV\n",
        "# Define the target variable y and the features X\n",
        "y = train_df['label']\n",
        "X = train_df[['emoji_scores', 'spam_score', 'fake_lables', 'emotion_scores','sentiment_scores2']]\n",
        "\n",
        "# Split the data into training and testing sets\n",
        "X_train, X_test, y_train, y_test = train_test_split(X, y, test_size=0.2, random_state=42)\n",
        "\n",
        "params = {\n",
        "    'learning_rate': 0.01,\n",
        "    'max_iter': 300,\n",
        "    'max_leaf_nodes': 127,\n",
        "    'max_depth': 5,  # Choose one of the values from [3, 5, 7]\n",
        "    'min_samples_leaf': 20,\n",
        "    'l2_regularization': 0,\n",
        "    'early_stopping': True\n",
        "}\n",
        "\n",
        "# Initialize the model with the specified parameters\n",
        "model = HistGradientBoostingClassifier(**params)\n",
        "model.fit(X_train, y_train)\n",
        "\n",
        "# Make predictions and evaluate the model\n",
        "y_pred = model.predict(X_test)\n",
        "y_pred_proba = model.predict_proba(X_test)[:, 1]  # Probability scores for the positive class"
      ],
      "metadata": {
        "id": "H_QH6kg14bWQ"
      },
      "execution_count": null,
      "outputs": []
    },
    {
      "cell_type": "code",
      "source": [
        "accuracy_sam = accuracy_score(y_test, y_pred)\n",
        "precision_sam = precision_score(y_test, y_pred)\n",
        "recall_sam = recall_score(y_test, y_pred)\n",
        "precision_sam_neg = precision_score(y_test, y_pred,pos_label =-1)\n",
        "recall_sam_neg = recall_score(y_test, y_pred,pos_label =-1)\n",
        "print(f\"accuracy: {accuracy_sam:.4f}\")\n",
        "print(f\"precision_pos: {precision_sam:.4f}\")\n",
        "print(f\"recall_pos: {recall_sam:.4f}\")\n",
        "print(f\"precision_neg: {precision_sam_neg:.4f}\")\n",
        "print(f\"recall_neg: {recall_sam_neg:.4f}\")"
      ],
      "metadata": {
        "colab": {
          "base_uri": "https://localhost:8080/"
        },
        "id": "53gepUHt4kXS",
        "outputId": "0367118d-b2a8-48e2-cab7-4518c38aef91"
      },
      "execution_count": null,
      "outputs": [
        {
          "output_type": "stream",
          "name": "stdout",
          "text": [
            "accuracy: 0.8059\n",
            "precision_pos: 0.7889\n",
            "recall_pos: 0.8322\n",
            "precision_neg: 0.8247\n",
            "recall_neg: 0.7799\n"
          ]
        }
      ]
    },
    {
      "cell_type": "code",
      "source": [
        "train_df.head()"
      ],
      "metadata": {
        "colab": {
          "base_uri": "https://localhost:8080/",
          "height": 206
        },
        "id": "CF_CXzH15oC3",
        "outputId": "75484d34-b765-4e6f-b3e7-eb406d6a833e"
      },
      "execution_count": null,
      "outputs": [
        {
          "output_type": "execute_result",
          "data": {
            "text/plain": [
              "                                                line  label  emoji_scores  \\\n",
              "0  vinco tresorpack <number> difficulty <number> ...     -1          -1.0   \n",
              "1  glad i dot have taks tomorrow ! ! thankful sta...     -1           NaN   \n",
              "2  <number> <number> vs celtics in the regular se...     -1           NaN   \n",
              "3  <user> i could actually kill that girl i am so...     -1           NaN   \n",
              "4  <user> <user> <user> i find that very hard to ...     -1           NaN   \n",
              "\n",
              "   fake_lables  spam_score  vadar  emotion_scores  sentiment_scores2  \\\n",
              "0         -1.0         NaN    NaN             NaN                  1   \n",
              "1          NaN         NaN    1.0             1.0                  1   \n",
              "2          NaN         NaN   -1.0            -1.0                 -1   \n",
              "3          NaN         NaN   -1.0            -1.0                 -1   \n",
              "4          NaN         NaN   -1.0            -1.0                 -1   \n",
              "\n",
              "   sentiment_scores  \n",
              "0                -1  \n",
              "1                 1  \n",
              "2                -1  \n",
              "3                -1  \n",
              "4                -1  "
            ],
            "text/html": [
              "\n",
              "  <div id=\"df-51507ea3-b140-46ea-93fd-d27592124ef0\" class=\"colab-df-container\">\n",
              "    <div>\n",
              "<style scoped>\n",
              "    .dataframe tbody tr th:only-of-type {\n",
              "        vertical-align: middle;\n",
              "    }\n",
              "\n",
              "    .dataframe tbody tr th {\n",
              "        vertical-align: top;\n",
              "    }\n",
              "\n",
              "    .dataframe thead th {\n",
              "        text-align: right;\n",
              "    }\n",
              "</style>\n",
              "<table border=\"1\" class=\"dataframe\">\n",
              "  <thead>\n",
              "    <tr style=\"text-align: right;\">\n",
              "      <th></th>\n",
              "      <th>line</th>\n",
              "      <th>label</th>\n",
              "      <th>emoji_scores</th>\n",
              "      <th>fake_lables</th>\n",
              "      <th>spam_score</th>\n",
              "      <th>vadar</th>\n",
              "      <th>emotion_scores</th>\n",
              "      <th>sentiment_scores2</th>\n",
              "      <th>sentiment_scores</th>\n",
              "    </tr>\n",
              "  </thead>\n",
              "  <tbody>\n",
              "    <tr>\n",
              "      <th>0</th>\n",
              "      <td>vinco tresorpack &lt;number&gt; difficulty &lt;number&gt; ...</td>\n",
              "      <td>-1</td>\n",
              "      <td>-1.0</td>\n",
              "      <td>-1.0</td>\n",
              "      <td>NaN</td>\n",
              "      <td>NaN</td>\n",
              "      <td>NaN</td>\n",
              "      <td>1</td>\n",
              "      <td>-1</td>\n",
              "    </tr>\n",
              "    <tr>\n",
              "      <th>1</th>\n",
              "      <td>glad i dot have taks tomorrow ! ! thankful sta...</td>\n",
              "      <td>-1</td>\n",
              "      <td>NaN</td>\n",
              "      <td>NaN</td>\n",
              "      <td>NaN</td>\n",
              "      <td>1.0</td>\n",
              "      <td>1.0</td>\n",
              "      <td>1</td>\n",
              "      <td>1</td>\n",
              "    </tr>\n",
              "    <tr>\n",
              "      <th>2</th>\n",
              "      <td>&lt;number&gt; &lt;number&gt; vs celtics in the regular se...</td>\n",
              "      <td>-1</td>\n",
              "      <td>NaN</td>\n",
              "      <td>NaN</td>\n",
              "      <td>NaN</td>\n",
              "      <td>-1.0</td>\n",
              "      <td>-1.0</td>\n",
              "      <td>-1</td>\n",
              "      <td>-1</td>\n",
              "    </tr>\n",
              "    <tr>\n",
              "      <th>3</th>\n",
              "      <td>&lt;user&gt; i could actually kill that girl i am so...</td>\n",
              "      <td>-1</td>\n",
              "      <td>NaN</td>\n",
              "      <td>NaN</td>\n",
              "      <td>NaN</td>\n",
              "      <td>-1.0</td>\n",
              "      <td>-1.0</td>\n",
              "      <td>-1</td>\n",
              "      <td>-1</td>\n",
              "    </tr>\n",
              "    <tr>\n",
              "      <th>4</th>\n",
              "      <td>&lt;user&gt; &lt;user&gt; &lt;user&gt; i find that very hard to ...</td>\n",
              "      <td>-1</td>\n",
              "      <td>NaN</td>\n",
              "      <td>NaN</td>\n",
              "      <td>NaN</td>\n",
              "      <td>-1.0</td>\n",
              "      <td>-1.0</td>\n",
              "      <td>-1</td>\n",
              "      <td>-1</td>\n",
              "    </tr>\n",
              "  </tbody>\n",
              "</table>\n",
              "</div>\n",
              "    <div class=\"colab-df-buttons\">\n",
              "\n",
              "  <div class=\"colab-df-container\">\n",
              "    <button class=\"colab-df-convert\" onclick=\"convertToInteractive('df-51507ea3-b140-46ea-93fd-d27592124ef0')\"\n",
              "            title=\"Convert this dataframe to an interactive table.\"\n",
              "            style=\"display:none;\">\n",
              "\n",
              "  <svg xmlns=\"http://www.w3.org/2000/svg\" height=\"24px\" viewBox=\"0 -960 960 960\">\n",
              "    <path d=\"M120-120v-720h720v720H120Zm60-500h600v-160H180v160Zm220 220h160v-160H400v160Zm0 220h160v-160H400v160ZM180-400h160v-160H180v160Zm440 0h160v-160H620v160ZM180-180h160v-160H180v160Zm440 0h160v-160H620v160Z\"/>\n",
              "  </svg>\n",
              "    </button>\n",
              "\n",
              "  <style>\n",
              "    .colab-df-container {\n",
              "      display:flex;\n",
              "      gap: 12px;\n",
              "    }\n",
              "\n",
              "    .colab-df-convert {\n",
              "      background-color: #E8F0FE;\n",
              "      border: none;\n",
              "      border-radius: 50%;\n",
              "      cursor: pointer;\n",
              "      display: none;\n",
              "      fill: #1967D2;\n",
              "      height: 32px;\n",
              "      padding: 0 0 0 0;\n",
              "      width: 32px;\n",
              "    }\n",
              "\n",
              "    .colab-df-convert:hover {\n",
              "      background-color: #E2EBFA;\n",
              "      box-shadow: 0px 1px 2px rgba(60, 64, 67, 0.3), 0px 1px 3px 1px rgba(60, 64, 67, 0.15);\n",
              "      fill: #174EA6;\n",
              "    }\n",
              "\n",
              "    .colab-df-buttons div {\n",
              "      margin-bottom: 4px;\n",
              "    }\n",
              "\n",
              "    [theme=dark] .colab-df-convert {\n",
              "      background-color: #3B4455;\n",
              "      fill: #D2E3FC;\n",
              "    }\n",
              "\n",
              "    [theme=dark] .colab-df-convert:hover {\n",
              "      background-color: #434B5C;\n",
              "      box-shadow: 0px 1px 3px 1px rgba(0, 0, 0, 0.15);\n",
              "      filter: drop-shadow(0px 1px 2px rgba(0, 0, 0, 0.3));\n",
              "      fill: #FFFFFF;\n",
              "    }\n",
              "  </style>\n",
              "\n",
              "    <script>\n",
              "      const buttonEl =\n",
              "        document.querySelector('#df-51507ea3-b140-46ea-93fd-d27592124ef0 button.colab-df-convert');\n",
              "      buttonEl.style.display =\n",
              "        google.colab.kernel.accessAllowed ? 'block' : 'none';\n",
              "\n",
              "      async function convertToInteractive(key) {\n",
              "        const element = document.querySelector('#df-51507ea3-b140-46ea-93fd-d27592124ef0');\n",
              "        const dataTable =\n",
              "          await google.colab.kernel.invokeFunction('convertToInteractive',\n",
              "                                                    [key], {});\n",
              "        if (!dataTable) return;\n",
              "\n",
              "        const docLinkHtml = 'Like what you see? Visit the ' +\n",
              "          '<a target=\"_blank\" href=https://colab.research.google.com/notebooks/data_table.ipynb>data table notebook</a>'\n",
              "          + ' to learn more about interactive tables.';\n",
              "        element.innerHTML = '';\n",
              "        dataTable['output_type'] = 'display_data';\n",
              "        await google.colab.output.renderOutput(dataTable, element);\n",
              "        const docLink = document.createElement('div');\n",
              "        docLink.innerHTML = docLinkHtml;\n",
              "        element.appendChild(docLink);\n",
              "      }\n",
              "    </script>\n",
              "  </div>\n",
              "\n",
              "\n",
              "<div id=\"df-f40321c0-e9be-4906-b46d-82928742af39\">\n",
              "  <button class=\"colab-df-quickchart\" onclick=\"quickchart('df-f40321c0-e9be-4906-b46d-82928742af39')\"\n",
              "            title=\"Suggest charts\"\n",
              "            style=\"display:none;\">\n",
              "\n",
              "<svg xmlns=\"http://www.w3.org/2000/svg\" height=\"24px\"viewBox=\"0 0 24 24\"\n",
              "     width=\"24px\">\n",
              "    <g>\n",
              "        <path d=\"M19 3H5c-1.1 0-2 .9-2 2v14c0 1.1.9 2 2 2h14c1.1 0 2-.9 2-2V5c0-1.1-.9-2-2-2zM9 17H7v-7h2v7zm4 0h-2V7h2v10zm4 0h-2v-4h2v4z\"/>\n",
              "    </g>\n",
              "</svg>\n",
              "  </button>\n",
              "\n",
              "<style>\n",
              "  .colab-df-quickchart {\n",
              "      --bg-color: #E8F0FE;\n",
              "      --fill-color: #1967D2;\n",
              "      --hover-bg-color: #E2EBFA;\n",
              "      --hover-fill-color: #174EA6;\n",
              "      --disabled-fill-color: #AAA;\n",
              "      --disabled-bg-color: #DDD;\n",
              "  }\n",
              "\n",
              "  [theme=dark] .colab-df-quickchart {\n",
              "      --bg-color: #3B4455;\n",
              "      --fill-color: #D2E3FC;\n",
              "      --hover-bg-color: #434B5C;\n",
              "      --hover-fill-color: #FFFFFF;\n",
              "      --disabled-bg-color: #3B4455;\n",
              "      --disabled-fill-color: #666;\n",
              "  }\n",
              "\n",
              "  .colab-df-quickchart {\n",
              "    background-color: var(--bg-color);\n",
              "    border: none;\n",
              "    border-radius: 50%;\n",
              "    cursor: pointer;\n",
              "    display: none;\n",
              "    fill: var(--fill-color);\n",
              "    height: 32px;\n",
              "    padding: 0;\n",
              "    width: 32px;\n",
              "  }\n",
              "\n",
              "  .colab-df-quickchart:hover {\n",
              "    background-color: var(--hover-bg-color);\n",
              "    box-shadow: 0 1px 2px rgba(60, 64, 67, 0.3), 0 1px 3px 1px rgba(60, 64, 67, 0.15);\n",
              "    fill: var(--button-hover-fill-color);\n",
              "  }\n",
              "\n",
              "  .colab-df-quickchart-complete:disabled,\n",
              "  .colab-df-quickchart-complete:disabled:hover {\n",
              "    background-color: var(--disabled-bg-color);\n",
              "    fill: var(--disabled-fill-color);\n",
              "    box-shadow: none;\n",
              "  }\n",
              "\n",
              "  .colab-df-spinner {\n",
              "    border: 2px solid var(--fill-color);\n",
              "    border-color: transparent;\n",
              "    border-bottom-color: var(--fill-color);\n",
              "    animation:\n",
              "      spin 1s steps(1) infinite;\n",
              "  }\n",
              "\n",
              "  @keyframes spin {\n",
              "    0% {\n",
              "      border-color: transparent;\n",
              "      border-bottom-color: var(--fill-color);\n",
              "      border-left-color: var(--fill-color);\n",
              "    }\n",
              "    20% {\n",
              "      border-color: transparent;\n",
              "      border-left-color: var(--fill-color);\n",
              "      border-top-color: var(--fill-color);\n",
              "    }\n",
              "    30% {\n",
              "      border-color: transparent;\n",
              "      border-left-color: var(--fill-color);\n",
              "      border-top-color: var(--fill-color);\n",
              "      border-right-color: var(--fill-color);\n",
              "    }\n",
              "    40% {\n",
              "      border-color: transparent;\n",
              "      border-right-color: var(--fill-color);\n",
              "      border-top-color: var(--fill-color);\n",
              "    }\n",
              "    60% {\n",
              "      border-color: transparent;\n",
              "      border-right-color: var(--fill-color);\n",
              "    }\n",
              "    80% {\n",
              "      border-color: transparent;\n",
              "      border-right-color: var(--fill-color);\n",
              "      border-bottom-color: var(--fill-color);\n",
              "    }\n",
              "    90% {\n",
              "      border-color: transparent;\n",
              "      border-bottom-color: var(--fill-color);\n",
              "    }\n",
              "  }\n",
              "</style>\n",
              "\n",
              "  <script>\n",
              "    async function quickchart(key) {\n",
              "      const quickchartButtonEl =\n",
              "        document.querySelector('#' + key + ' button');\n",
              "      quickchartButtonEl.disabled = true;  // To prevent multiple clicks.\n",
              "      quickchartButtonEl.classList.add('colab-df-spinner');\n",
              "      try {\n",
              "        const charts = await google.colab.kernel.invokeFunction(\n",
              "            'suggestCharts', [key], {});\n",
              "      } catch (error) {\n",
              "        console.error('Error during call to suggestCharts:', error);\n",
              "      }\n",
              "      quickchartButtonEl.classList.remove('colab-df-spinner');\n",
              "      quickchartButtonEl.classList.add('colab-df-quickchart-complete');\n",
              "    }\n",
              "    (() => {\n",
              "      let quickchartButtonEl =\n",
              "        document.querySelector('#df-f40321c0-e9be-4906-b46d-82928742af39 button');\n",
              "      quickchartButtonEl.style.display =\n",
              "        google.colab.kernel.accessAllowed ? 'block' : 'none';\n",
              "    })();\n",
              "  </script>\n",
              "</div>\n",
              "\n",
              "    </div>\n",
              "  </div>\n"
            ],
            "application/vnd.google.colaboratory.intrinsic+json": {
              "type": "dataframe",
              "variable_name": "train_df"
            }
          },
          "metadata": {},
          "execution_count": 18
        }
      ]
    },
    {
      "cell_type": "markdown",
      "source": [
        "Improvement for vadar"
      ],
      "metadata": {
        "id": "yVcncx-b4k3E"
      }
    },
    {
      "cell_type": "code",
      "source": [
        "from sklearn.model_selection import train_test_split\n",
        "from sklearn.ensemble import HistGradientBoostingClassifier\n",
        "from sklearn.metrics import accuracy_score, precision_score, recall_score, f1_score, roc_auc_score, confusion_matrix, classification_report\n",
        "from sklearn.model_selection import GridSearchCV\n",
        "# Define the target variable y and the features X\n",
        "y = train_df['label']\n",
        "X = train_df[['emoji_scores', 'spam_score', 'fake_lables', 'vadar','emotion_scores']]\n",
        "\n",
        "# Split the data into training and testing sets\n",
        "X_train, X_test, y_train, y_test = train_test_split(X, y, test_size=0.2, random_state=42)\n",
        "\n",
        "params = {\n",
        "    'learning_rate': 0.01,\n",
        "    'max_iter': 300,\n",
        "    'max_leaf_nodes': 127,\n",
        "    'max_depth': 5,  # Choose one of the values from [3, 5, 7]\n",
        "    'min_samples_leaf': 20,\n",
        "    'l2_regularization': 0,\n",
        "    'early_stopping': True\n",
        "}\n",
        "\n",
        "# Initialize the model with the specified parameters\n",
        "model = HistGradientBoostingClassifier(**params)\n",
        "model.fit(X_train, y_train)\n",
        "\n",
        "# Make predictions and evaluate the model\n",
        "y_pred = model.predict(X_test)\n",
        "y_pred_proba = model.predict_proba(X_test)[:, 1]  # Probability scores for the positive class"
      ],
      "metadata": {
        "id": "mn0ksRL84eb7"
      },
      "execution_count": null,
      "outputs": []
    },
    {
      "cell_type": "code",
      "source": [
        "accuracy_sam = accuracy_score(y_test, y_pred)\n",
        "precision_sam = precision_score(y_test, y_pred)\n",
        "recall_sam = recall_score(y_test, y_pred)\n",
        "precision_sam_neg = precision_score(y_test, y_pred,pos_label =-1)\n",
        "recall_sam_neg = recall_score(y_test, y_pred,pos_label =-1)\n",
        "print(f\"accuracy: {accuracy_sam:.4f}\")\n",
        "print(f\"precision_pos: {precision_sam:.4f}\")\n",
        "print(f\"recall_pos: {recall_sam:.4f}\")\n",
        "print(f\"precision_neg: {precision_sam_neg:.4f}\")\n",
        "print(f\"recall_neg: {recall_sam_neg:.4f}\")"
      ],
      "metadata": {
        "colab": {
          "base_uri": "https://localhost:8080/"
        },
        "id": "gdyaQnTo4yPW",
        "outputId": "0652b3fa-c407-44fd-f0b6-4d2e3e6fdd19"
      },
      "execution_count": null,
      "outputs": [
        {
          "output_type": "stream",
          "name": "stdout",
          "text": [
            "accuracy: 0.8053\n",
            "precision_pos: 0.7877\n",
            "recall_pos: 0.8325\n",
            "precision_neg: 0.8247\n",
            "recall_neg: 0.7784\n"
          ]
        }
      ]
    },
    {
      "cell_type": "markdown",
      "source": [
        "Improvement on our final submission"
      ],
      "metadata": {
        "id": "Ld5i5f1P41Gq"
      }
    },
    {
      "cell_type": "code",
      "source": [
        "from sklearn.model_selection import train_test_split\n",
        "from sklearn.ensemble import HistGradientBoostingClassifier\n",
        "from sklearn.metrics import accuracy_score, precision_score, recall_score, f1_score, roc_auc_score, confusion_matrix, classification_report\n",
        "from sklearn.model_selection import GridSearchCV\n",
        "# Define the target variable y and the features X\n",
        "y = train_df['label']\n",
        "X = train_df[['emoji_scores', 'spam_score', 'fake_lables', 'sentiment_scores','emotion_scores']]\n",
        "\n",
        "# Split the data into training and testing sets\n",
        "X_train, X_test, y_train, y_test = train_test_split(X, y, test_size=0.2, random_state=42)\n",
        "\n",
        "params = {\n",
        "    'learning_rate': 0.01,\n",
        "    'max_iter': 300,\n",
        "    'max_leaf_nodes': 127,\n",
        "    'max_depth': 5,  # Choose one of the values from [3, 5, 7]\n",
        "    'min_samples_leaf': 20,\n",
        "    'l2_regularization': 0,\n",
        "    'early_stopping': True\n",
        "}\n",
        "\n",
        "# Initialize the model with the specified parameters\n",
        "model = HistGradientBoostingClassifier(**params)\n",
        "model.fit(X_train, y_train)\n",
        "\n",
        "# Make predictions and evaluate the model\n",
        "y_pred = model.predict(X_test)\n",
        "y_pred_proba = model.predict_proba(X_test)[:, 1]  # Probability scores for the positive class"
      ],
      "metadata": {
        "id": "ZE2pY-1B43Lc"
      },
      "execution_count": null,
      "outputs": []
    },
    {
      "cell_type": "code",
      "source": [
        "accuracy_sam = accuracy_score(y_test, y_pred)\n",
        "precision_sam = precision_score(y_test, y_pred)\n",
        "recall_sam = recall_score(y_test, y_pred)\n",
        "precision_sam_neg = precision_score(y_test, y_pred,pos_label =-1)\n",
        "recall_sam_neg = recall_score(y_test, y_pred,pos_label =-1)\n",
        "print(f\"accuracy: {accuracy_sam:.4f}\")\n",
        "print(f\"precision_pos: {precision_sam:.4f}\")\n",
        "print(f\"recall_pos: {recall_sam:.4f}\")\n",
        "print(f\"precision_neg: {precision_sam_neg:.4f}\")\n",
        "print(f\"recall_neg: {recall_sam_neg:.4f}\")"
      ],
      "metadata": {
        "colab": {
          "base_uri": "https://localhost:8080/"
        },
        "id": "fz3riimj44OE",
        "outputId": "450fd8cd-f472-4d01-8d65-3a9465bfa4a3"
      },
      "execution_count": null,
      "outputs": [
        {
          "output_type": "stream",
          "name": "stdout",
          "text": [
            "accuracy: 0.8815\n",
            "precision_pos: 0.8722\n",
            "recall_pos: 0.8922\n",
            "precision_neg: 0.8910\n",
            "recall_neg: 0.8709\n"
          ]
        }
      ]
    },
    {
      "cell_type": "markdown",
      "source": [
        "## Using Vadar and sentiment scores from xlm-t on top of the final prediction"
      ],
      "metadata": {
        "id": "1usLCI285AeE"
      }
    },
    {
      "cell_type": "code",
      "source": [
        "from sklearn.model_selection import train_test_split\n",
        "from sklearn.ensemble import HistGradientBoostingClassifier\n",
        "from sklearn.metrics import accuracy_score, precision_score, recall_score, f1_score, roc_auc_score, confusion_matrix, classification_report\n",
        "from sklearn.model_selection import GridSearchCV\n",
        "# Define the target variable y and the features X\n",
        "y = train_df['label']\n",
        "X = train_df[['emoji_scores', 'spam_score', 'fake_lables', 'sentiment_scores','emotion_scores','vadar','sentiment_scores2']]\n",
        "\n",
        "# Split the data into training and testing sets\n",
        "X_train, X_test, y_train, y_test = train_test_split(X, y, test_size=0.2, random_state=42)\n",
        "\n",
        "params = {\n",
        "    'learning_rate': 0.01,\n",
        "    'max_iter': 300,\n",
        "    'max_leaf_nodes': 127,\n",
        "    'max_depth': 5,  # Choose one of the values from [3, 5, 7]\n",
        "    'min_samples_leaf': 20,\n",
        "    'l2_regularization': 0,\n",
        "    'early_stopping': True\n",
        "}\n",
        "\n",
        "# Initialize the model with the specified parameters\n",
        "model = HistGradientBoostingClassifier(**params)\n",
        "model.fit(X_train, y_train)\n",
        "\n",
        "# Make predictions and evaluate the model\n",
        "y_pred = model.predict(X_test)\n",
        "y_pred_proba = model.predict_proba(X_test)[:, 1]  # Probability scores for the positive class"
      ],
      "metadata": {
        "id": "0bfg6_fc4_h1"
      },
      "execution_count": null,
      "outputs": []
    },
    {
      "cell_type": "code",
      "source": [
        "accuracy_sam = accuracy_score(y_test, y_pred)\n",
        "precision_sam = precision_score(y_test, y_pred)\n",
        "recall_sam = recall_score(y_test, y_pred)\n",
        "precision_sam_neg = precision_score(y_test, y_pred,pos_label =-1)\n",
        "recall_sam_neg = recall_score(y_test, y_pred,pos_label =-1)\n",
        "print(f\"accuracy: {accuracy_sam:.4f}\")\n",
        "print(f\"precision_pos: {precision_sam:.4f}\")\n",
        "print(f\"recall_pos: {recall_sam:.4f}\")\n",
        "print(f\"precision_neg: {precision_sam_neg:.4f}\")\n",
        "print(f\"recall_neg: {recall_sam_neg:.4f}\")"
      ],
      "metadata": {
        "colab": {
          "base_uri": "https://localhost:8080/"
        },
        "id": "KMXmbVdV6BqI",
        "outputId": "b6fedf24-f8ed-41e7-8c87-f9b14c33c65a"
      },
      "execution_count": null,
      "outputs": [
        {
          "output_type": "stream",
          "name": "stdout",
          "text": [
            "accuracy: 0.8815\n",
            "precision_pos: 0.8722\n",
            "recall_pos: 0.8922\n",
            "precision_neg: 0.8910\n",
            "recall_neg: 0.8709\n"
          ]
        }
      ]
    }
  ]
}