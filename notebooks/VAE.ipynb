{
 "cells": [
  {
   "cell_type": "code",
   "execution_count": 4,
   "metadata": {},
   "outputs": [
    {
     "data": {
      "text/plain": [
       "14"
      ]
     },
     "execution_count": 4,
     "metadata": {},
     "output_type": "execute_result"
    }
   ],
   "source": [
    "import pandas as pd\n",
    "\n",
    "# Assuming pos_df is created in a similar way\n",
    "with open(\"../twitter-datasets/twitter-datasets/train_pos.txt\") as f:\n",
    "\tpos_txt = [line for line in f]\n",
    "\tpos_df = pd.DataFrame(pos_txt, columns=['line']).drop_duplicates(keep='first')\n",
    "\n",
    "# Provided code for neg_df\n",
    "with open(\"../twitter-datasets/twitter-datasets/train_neg.txt\") as f:\n",
    "\tneg_txt = [line for line in f]\n",
    "\tneg_df = pd.DataFrame(neg_txt, columns=['line']).drop_duplicates(keep='first')\n",
    "\n",
    "# Find rows that are in both neg_df and pos_df\n",
    "common_df = pd.concat(neg_df, pos_df,)\n",
    "common_df.size\n"
   ]
  },
  {
   "cell_type": "code",
   "execution_count": null,
   "metadata": {},
   "outputs": [],
   "source": []
  }
 ],
 "metadata": {
  "kernelspec": {
   "display_name": "base",
   "language": "python",
   "name": "python3"
  },
  "language_info": {
   "codemirror_mode": {
    "name": "ipython",
    "version": 3
   },
   "file_extension": ".py",
   "mimetype": "text/x-python",
   "name": "python",
   "nbconvert_exporter": "python",
   "pygments_lexer": "ipython3",
   "version": "3.10.13"
  }
 },
 "nbformat": 4,
 "nbformat_minor": 2
}
