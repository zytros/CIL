{
 "cells": [
  {
   "cell_type": "code",
   "execution_count": 1,
   "metadata": {},
   "outputs": [],
   "source": [
    "import torch\n",
    "import torch.nn as nn\n",
    "import numpy as np\n",
    "import pandas as pd\n",
    "from torch.utils.data import Dataset, DataLoader\n",
    "from sklearn.model_selection import train_test_split\n",
    "from tqdm import tqdm"
   ]
  },
  {
   "cell_type": "code",
   "execution_count": 2,
   "metadata": {},
   "outputs": [],
   "source": [
    "class VAE(nn.Module):\n",
    "    def __init__(self, input_dim=784, hidden_dim=400, latent_dim=200):\n",
    "        super(VAE, self).__init__()\n",
    "        # encoder\n",
    "        self.encoder = nn.Sequential(\n",
    "            nn.Linear(input_dim, hidden_dim),\n",
    "            nn.LeakyReLU(0.2),\n",
    "            nn.Linear(hidden_dim, latent_dim),\n",
    "            nn.LeakyReLU(0.2)\n",
    "            )\n",
    "        \n",
    "        # latent mean and variance \n",
    "        self.mean_layer = nn.Linear(latent_dim, 2)\n",
    "        self.logvar_layer = nn.Linear(latent_dim, 2)\n",
    "        \n",
    "        # decoder\n",
    "        self.decoder = nn.Sequential(\n",
    "            nn.Linear(2, latent_dim),\n",
    "            nn.LeakyReLU(0.2),\n",
    "            nn.Linear(latent_dim, hidden_dim),\n",
    "            nn.LeakyReLU(0.2),\n",
    "            nn.Linear(hidden_dim, input_dim),\n",
    "            nn.Sigmoid()\n",
    "            )\n",
    "     \n",
    "    def encode(self, x):\n",
    "        x = self.encoder(x)\n",
    "        mean, logvar = self.mean_layer(x), self.logvar_layer(x)\n",
    "        return mean, logvar\n",
    "\n",
    "    def reparameterization(self, mean, var):\n",
    "        epsilon = torch.randn_like(var)\n",
    "        z = mean + var*epsilon\n",
    "        return z\n",
    "\n",
    "    def decode(self, x):\n",
    "        return self.decoder(x)\n",
    "\n",
    "    def forward(self, x):\n",
    "        mean, logvar = self.encode(x)\n",
    "        z = self.reparameterization(mean, logvar)\n",
    "        x_hat = self.decode(z)\n",
    "        return x_hat, mean, logvar\n",
    "\n",
    "def VAELoss(x, x_hat, mean, logvar, beta=1):\n",
    "    MSE = nn.functional.mse_loss(x_hat, x, reduction='sum')\n",
    "    KLD = -0.5 * torch.sum(1 + logvar - mean.pow(2) - logvar.exp())\n",
    "    return MSE + beta * KLD"
   ]
  },
  {
   "cell_type": "code",
   "execution_count": 3,
   "metadata": {},
   "outputs": [],
   "source": [
    "class DF_Dataset(Dataset):\n",
    "    def __init__(self, df):\n",
    "        self.df = df\n",
    "        self.data = torch.tensor(df.values, dtype=torch.float32)\n",
    "    \n",
    "    def __len__(self):\n",
    "        return len(self.df)\n",
    "    \n",
    "    def __getitem__(self, idx):\n",
    "        return (self.data[idx], 0)\n",
    "    \n",
    "def create_dataloaders(df, batchsize=32, test_size=0.2):\n",
    "    # Split the DataFrame into training and testing sets\n",
    "    df_train, df_test = train_test_split(df, test_size=test_size)\n",
    "    \n",
    "    # Create the training and testing datasets\n",
    "    train_dataset = DF_Dataset(df_train)\n",
    "    test_dataset = DF_Dataset(df_test)\n",
    "    \n",
    "    # Create the DataLoaders for training and testing sets\n",
    "    train_loader = DataLoader(train_dataset, batch_size=batchsize, shuffle=True)\n",
    "    test_loader = DataLoader(test_dataset, batch_size=batchsize, shuffle=False)\n",
    "    \n",
    "    return train_loader, test_loader\n",
    "\n",
    "def loss(x, x_hat):\n",
    "    mse_loss = np.mean((x - x_hat)**2)\n",
    "    return mse_loss"
   ]
  },
  {
   "cell_type": "code",
   "execution_count": 4,
   "metadata": {},
   "outputs": [],
   "source": [
    "df_data = pd.read_csv('bert_embeddings_small.csv')\n",
    "train_loader, test_loader = create_dataloaders(df_data)"
   ]
  },
  {
   "cell_type": "code",
   "execution_count": 56,
   "metadata": {},
   "outputs": [],
   "source": [
    "def test_reconstruction_loss(model, test_loader):\n",
    "    model.eval()  # Set the model to evaluation mode\n",
    "    total_loss = 0.0\n",
    "    total_samples = 0\n",
    "    device = 'cuda' if torch.cuda.is_available() else 'cpu'\n",
    "    with torch.no_grad():  # No need to calculate gradients\n",
    "        for data in test_loader:\n",
    "            inputs = data[0].to(device)  # Assuming data is a tuple of (inputs, targets)\n",
    "            reconstructions = model(inputs)[0]\n",
    "            '''print(inputs.shape)\n",
    "            for i in range(inputs.shape[0]):\n",
    "                for j in range(inputs.shape[1]):\n",
    "                    if inputs[i][j] != 0:\n",
    "                        print(f'{inputs[i][j]} -> {reconstructions[i][j]}')\n",
    "                        print(reconstructions[i][j])'''\n",
    "            \n",
    "            loss = nn.functional.mse_loss(reconstructions, inputs, reduction='sum')\n",
    "            total_loss += loss.item()\n",
    "            total_samples += inputs.size(0)\n",
    "    \n",
    "    average_loss = total_loss / total_samples\n",
    "    return average_loss"
   ]
  },
  {
   "cell_type": "code",
   "execution_count": 57,
   "metadata": {},
   "outputs": [],
   "source": [
    "def train(model, optimizer, epochs, batch_size=32, x_dim=512):\n",
    "    model.train()\n",
    "    device = 'cuda' if torch.cuda.is_available() else 'cpu'\n",
    "    print(\"Using device:\", device)\n",
    "    model.to(device)\n",
    "    for epoch in (range(epochs)):\n",
    "        overall_loss = 0\n",
    "        model.train()\n",
    "        for batch_idx, (x, _) in (enumerate(train_loader)):\n",
    "            x = x.to(device)\n",
    "            optimizer.zero_grad()\n",
    "            x_hat, mean, log_var = model(x)\n",
    "            loss = VAELoss(x, x_hat, mean, log_var, beta=1)\n",
    "            \n",
    "            overall_loss += loss.item()\n",
    "            \n",
    "            loss.backward()\n",
    "            optimizer.step()\n",
    "\n",
    "        print(f'Epoch {epoch} \\treconstruction loss: {test_reconstruction_loss(model, test_loader)}')\n",
    "    return overall_loss\n",
    "\n"
   ]
  },
  {
   "cell_type": "code",
   "execution_count": 59,
   "metadata": {},
   "outputs": [
    {
     "name": "stdout",
     "output_type": "stream",
     "text": [
      "Using device: cuda\n",
      "Epoch 0 \treconstruction loss: 194.71999242770232\n",
      "Epoch 1 \treconstruction loss: 194.46224409834724\n"
     ]
    },
    {
     "data": {
      "text/plain": [
       "28309927.732910156"
      ]
     },
     "execution_count": 59,
     "metadata": {},
     "output_type": "execute_result"
    }
   ],
   "source": [
    "VAE_model = VAE(input_dim=768, hidden_dim=400, latent_dim=256).to('cuda')\n",
    "#print(f'Epoch -1 \\treconstruction loss: {test_reconstruction_loss(VAE_model, test_loader)}')\n",
    "train(VAE_model, torch.optim.Adam(VAE_model.parameters(), lr=0.005), epochs=2)"
   ]
  },
  {
   "cell_type": "code",
   "execution_count": null,
   "metadata": {},
   "outputs": [
    {
     "name": "stdout",
     "output_type": "stream",
     "text": [
      "encoder.0.weight is on cuda:0\n",
      "encoder.0.bias is on cuda:0\n",
      "encoder.2.weight is on cuda:0\n",
      "encoder.2.bias is on cuda:0\n",
      "mean_layer.weight is on cuda:0\n",
      "mean_layer.bias is on cuda:0\n",
      "logvar_layer.weight is on cuda:0\n",
      "logvar_layer.bias is on cuda:0\n",
      "decoder.0.weight is on cuda:0\n",
      "decoder.0.bias is on cuda:0\n",
      "decoder.2.weight is on cuda:0\n",
      "decoder.2.bias is on cuda:0\n",
      "decoder.4.weight is on cuda:0\n",
      "decoder.4.bias is on cuda:0\n"
     ]
    }
   ],
   "source": [
    "def print_tensor_devices(model):\n",
    "    for name, param in model.named_parameters():\n",
    "        print(f\"{name} is on {param.device}\")\n",
    "print_tensor_devices(VAE_model)"
   ]
  },
  {
   "cell_type": "code",
   "execution_count": null,
   "metadata": {},
   "outputs": [],
   "source": []
  }
 ],
 "metadata": {
  "kernelspec": {
   "display_name": "Python 3 (ipykernel)",
   "language": "python",
   "name": "python3"
  },
  "language_info": {
   "codemirror_mode": {
    "name": "ipython",
    "version": 3
   },
   "file_extension": ".py",
   "mimetype": "text/x-python",
   "name": "python",
   "nbconvert_exporter": "python",
   "pygments_lexer": "ipython3",
   "version": "3.10.13"
  }
 },
 "nbformat": 4,
 "nbformat_minor": 2
}
