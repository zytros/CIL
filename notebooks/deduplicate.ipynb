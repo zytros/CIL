{
 "cells": [
  {
   "cell_type": "code",
   "execution_count": 17,
   "metadata": {},
   "outputs": [],
   "source": [
    "import pandas as pd\n",
    "import numpy as np\n",
    "from preprocessing import preprocess\n",
    "from tqdm import tqdm"
   ]
  },
  {
   "cell_type": "code",
   "execution_count": 27,
   "metadata": {},
   "outputs": [],
   "source": [
    "with open(\"work/twitter-datasets/twitter-datasets/train_neg_full.txt\") as f:\n",
    "    neg_txt = [line for line in f]\n",
    "    neg_df = pd.DataFrame(neg_txt, columns=['line'])\n",
    "f.close()\n",
    "with open(\"work/twitter-datasets/twitter-datasets/train_pos_full.txt\") as f:\n",
    "    pos_txt = [line for line in f]\n",
    "    pos_df = pd.DataFrame(pos_txt, columns=['line'])\n",
    "f.close\n",
    "pos_df['label'] = 1\n",
    "neg_df['label'] = 0\n",
    "full_df = pd.concat([pos_df,neg_df],ignore_index=True).drop_duplicates(keep='first')"
   ]
  },
  {
   "cell_type": "code",
   "execution_count": 28,
   "metadata": {},
   "outputs": [],
   "source": [
    "tweets_neg = neg_df['line'].values\n",
    "tweets_pos = pos_df['line'].values"
   ]
  },
  {
   "cell_type": "code",
   "execution_count": 23,
   "metadata": {},
   "outputs": [
    {
     "name": "stdout",
     "output_type": "stream",
     "text": [
      "Reading twitter - 1grams ...\n",
      "Reading twitter - 2grams ...\n",
      "Reading twitter - 1grams ...\n"
     ]
    },
    {
     "name": "stderr",
     "output_type": "stream",
     "text": [
      "100%|███████████████████████████████████████████████████████████████████████████████████| 1/1 [00:00<00:00, 7244.05it/s]\n",
      "100%|██████████████████████████████████████████████████████████████████████████████████| 1/1 [00:00<00:00, 13573.80it/s]\n"
     ]
    },
    {
     "data": {
      "text/plain": [
       "[['im so cool this is so trueeeee', 'this is so trueeeee', [' im so cool ']]]"
      ]
     },
     "execution_count": 23,
     "metadata": {},
     "output_type": "execute_result"
    }
   ],
   "source": [
    "preprocess([\"#imSoCool this is so trueeeee\"])"
   ]
  },
  {
   "cell_type": "code",
   "execution_count": 29,
   "metadata": {},
   "outputs": [
    {
     "name": "stdout",
     "output_type": "stream",
     "text": [
      "Reading twitter - 1grams ...\n",
      "Reading twitter - 2grams ...\n",
      "Reading twitter - 1grams ...\n"
     ]
    },
    {
     "name": "stderr",
     "output_type": "stream",
     "text": [
      "100%|███████████████████████████████████████████████████████████████████████| 1250000/1250000 [02:30<00:00, 8312.29it/s]\n",
      "100%|█████████████████████████████████████████████████████████████████████| 1250000/1250000 [00:06<00:00, 191325.20it/s]\n"
     ]
    },
    {
     "name": "stdout",
     "output_type": "stream",
     "text": [
      "Reading twitter - 1grams ...\n",
      "Reading twitter - 2grams ...\n",
      "Reading twitter - 1grams ...\n"
     ]
    },
    {
     "name": "stderr",
     "output_type": "stream",
     "text": [
      "100%|███████████████████████████████████████████████████████████████████████| 1250000/1250000 [02:23<00:00, 8705.53it/s]\n",
      "100%|█████████████████████████████████████████████████████████████████████| 1250000/1250000 [00:06<00:00, 194637.61it/s]\n"
     ]
    }
   ],
   "source": [
    "pre_proc_neg = preprocess(tweets=tweets_neg)\n",
    "pre_proc_pos = preprocess(tweets=tweets_pos)"
   ]
  },
  {
   "cell_type": "code",
   "execution_count": 14,
   "metadata": {},
   "outputs": [],
   "source": [
    "df_pre_proc_pos = pd.DataFrame(pre_proc_pos, columns=['hashtags_written_out', 'without_hashtags', 'hashtags'])\n",
    "df_pre_proc_neg = pd.DataFrame(pre_proc_neg, columns=['hashtags_written_out', 'without_hashtags', 'hashtags'])"
   ]
  },
  {
   "cell_type": "code",
   "execution_count": 15,
   "metadata": {},
   "outputs": [],
   "source": [
    "df_pre_proc_neg.to_csv('preprocessed_neg_full.csv', index=False)\n",
    "df_pre_proc_pos.to_csv('preprocessed_pos_full.csv', index=False)"
   ]
  },
  {
   "cell_type": "code",
   "execution_count": 30,
   "metadata": {},
   "outputs": [
    {
     "name": "stderr",
     "output_type": "stream",
     "text": [
      "100%|████████████████████████████████████████████████████████████████████| 1250000/1250000 [00:00<00:00, 2167693.96it/s]\n"
     ]
    },
    {
     "data": {
      "text/plain": [
       "105"
      ]
     },
     "execution_count": 30,
     "metadata": {},
     "output_type": "execute_result"
    }
   ],
   "source": [
    "min_neg = 0\n",
    "for i in tqdm(range(len(pre_proc_neg))):\n",
    "    if len(pre_proc_neg[i][0].split(' ')) > min_neg:\n",
    "        min_neg = len(pre_proc_neg[i][0].split(' '))\n",
    "min_neg"
   ]
  },
  {
   "cell_type": "code",
   "execution_count": 33,
   "metadata": {},
   "outputs": [
    {
     "name": "stderr",
     "output_type": "stream",
     "text": [
      "100%|████████████████████████████████████████████████████████████████████| 1250000/1250000 [00:00<00:00, 2006093.03it/s]"
     ]
    },
    {
     "name": "stdout",
     "output_type": "stream",
     "text": [
      "party at your house ? bap bap ! lml rt <user> my birthday is in <number> days ! ! ! \\ <number> \\ <number> \\ <number> \\ <number> \\ <number> \\ <number> \\ <number> \\ <number> \\ <number> \\ <number> \\ <number> \\ <number> \\ <number> \\ <number> \\ <number> \\ <number> \\ <number> \\ <number> \\ <number> \\ <number> \\ <number> \\ <number> \\ <number> \\ <number> \\ <number> \\ <number> \\ <number> \\ <number> \\ <number> \\ <number> \\ <number> \\ <number> \\ <number> \\ <number> \\ <number> \\ <number> \\ <number> \\ <number> \\ <number> \\ <number> \\ <number> \\ <number> \\ <number> \\ <number> \\ <number> \\ <number> \\ <number> \\ <number> \\ <number> \\ <number> \\ <number> \\ <number> \\ <number> \\ <number>\n"
     ]
    },
    {
     "name": "stderr",
     "output_type": "stream",
     "text": [
      "\n"
     ]
    },
    {
     "data": {
      "text/plain": [
       "128"
      ]
     },
     "execution_count": 33,
     "metadata": {},
     "output_type": "execute_result"
    }
   ],
   "source": [
    "min_pos = 0\n",
    "pos = -1\n",
    "for i in tqdm(range(len(pre_proc_pos))):\n",
    "    if len(pre_proc_pos[i][0].split(' ')) > min_pos:\n",
    "        min_pos = len(pre_proc_pos[i][0].split(' '))\n",
    "        pos = i\n",
    "print(pre_proc_pos[pos][0])\n",
    "min_pos"
   ]
  },
  {
   "cell_type": "code",
   "execution_count": 34,
   "metadata": {},
   "outputs": [
    {
     "data": {
      "text/plain": [
       "'party at your house ? bap bap ! lml rt <user> my birthday is in 10 days ! ! ! \\\\ 355 \\\\ 240 \\\\ 274 \\\\ 355 \\\\ 276 \\\\ 211 \\\\ 355 \\\\ 240 \\\\ 274 \\\\ 355 \\\\ 276 \\\\ 210 \\\\ 355 \\\\ 240 \\\\ 274 \\\\ 355 \\\\ 276 \\\\ 211 \\\\ 355 \\\\ 240 \\\\ 274 \\\\ 355 \\\\ 276 \\\\ 210 \\\\ 355 \\\\ 240 \\\\ 274 \\\\ 355 \\\\ 276 \\\\ 211 \\\\ 355 \\\\ 240 \\\\ 274 \\\\ 355 \\\\ 276 \\\\ 210 \\\\ 355 \\\\ 240 \\\\ 274 \\\\ 355 \\\\ 276 \\\\ 211 \\\\ 355 \\\\ 240 \\\\ 274 \\\\ 355 \\\\ 276 \\\\ 211 \\\\ 355 \\\\ 240 \\\\ 274 \\\\ 355 \\\\ 276 \\\\ 211\\n'"
      ]
     },
     "execution_count": 34,
     "metadata": {},
     "output_type": "execute_result"
    }
   ],
   "source": [
    "pos_txt[pos]"
   ]
  },
  {
   "cell_type": "code",
   "execution_count": null,
   "metadata": {},
   "outputs": [],
   "source": []
  }
 ],
 "metadata": {
  "kernelspec": {
   "display_name": "Python 3 (ipykernel)",
   "language": "python",
   "name": "python3"
  },
  "language_info": {
   "codemirror_mode": {
    "name": "ipython",
    "version": 3
   },
   "file_extension": ".py",
   "mimetype": "text/x-python",
   "name": "python",
   "nbconvert_exporter": "python",
   "pygments_lexer": "ipython3",
   "version": "3.10.13"
  }
 },
 "nbformat": 4,
 "nbformat_minor": 2
}
