{
 "cells": [
  {
   "cell_type": "code",
   "execution_count": 1,
   "metadata": {},
   "outputs": [],
   "source": [
    "import pandas as pd\n",
    "import numpy as np\n",
    "from ekphrasis.classes.preprocessor import TextPreProcessor\n",
    "from ekphrasis.classes.tokenizer import SocialTokenizer\n",
    "from ekphrasis.dicts.emoticons import emoticons\n",
    "from preprocessing import preprocess"
   ]
  },
  {
   "cell_type": "code",
   "execution_count": 2,
   "metadata": {},
   "outputs": [],
   "source": [
    "with open(\"../twitter-datasets/twitter-datasets/train_neg.txt\") as f:\n",
    "    neg_txt = [line for line in f]\n",
    "    neg_df = pd.DataFrame(neg_txt, columns=['line'])\n",
    "f.close()\n",
    "with open(\"../twitter-datasets/twitter-datasets/train_pos.txt\") as f:\n",
    "    pos_txt = [line for line in f]\n",
    "    pos_df = pd.DataFrame(pos_txt, columns=['line'])\n",
    "f.close\n",
    "pos_df['label'] = 1\n",
    "neg_df['label'] = 0\n",
    "full_df = pd.concat([pos_df,neg_df],ignore_index=True).drop_duplicates(keep='first')"
   ]
  },
  {
   "cell_type": "code",
   "execution_count": 3,
   "metadata": {},
   "outputs": [
    {
     "name": "stderr",
     "output_type": "stream",
     "text": [
      "c:\\Users\\lucas\\anaconda3\\Lib\\site-packages\\ekphrasis\\classes\\tokenizer.py:225: FutureWarning: Possible nested set at position 2190\n",
      "  self.tok = re.compile(r\"({})\".format(\"|\".join(pipeline)))\n"
     ]
    },
    {
     "name": "stdout",
     "output_type": "stream",
     "text": [
      "Reading twitter - 1grams ...\n",
      "Reading twitter - 2grams ...\n"
     ]
    },
    {
     "name": "stderr",
     "output_type": "stream",
     "text": [
      "c:\\Users\\lucas\\anaconda3\\Lib\\site-packages\\ekphrasis\\classes\\exmanager.py:14: FutureWarning: Possible nested set at position 42\n",
      "  regexes = {k.lower(): re.compile(self.expressions[k]) for k, v in\n"
     ]
    },
    {
     "name": "stdout",
     "output_type": "stream",
     "text": [
      "Reading twitter - 1grams ...\n"
     ]
    }
   ],
   "source": [
    "text_processor = TextPreProcessor(\n",
    "    fix_html=True,\n",
    "    segmenter=\"twitter\", \n",
    "    corrector=\"twitter\", \n",
    "    tokenizer=SocialTokenizer(lowercase=True).tokenize,\n",
    "    dicts=[emoticons],\n",
    "    \n",
    "    unpack_hashtags=True,\n",
    "    unpack_contractions=True,\n",
    "    spell_correct_elong=True,\n",
    "    normalize=['url', 'email', 'percent', 'money', 'phone', 'user', 'time', 'date', 'number'],\n",
    "    annotate={'hashtag'},\n",
    ")\n",
    "\n",
    "sentences = full_df['line'].values\n",
    "sentences = [\n",
    "    \"#helpme I am sooo #bored!\",\n",
    "    \"I am happy ;)\",\n",
    "    \"-1/10 would not recommend\",\n",
    "    \"love youuuuuu \",\n",
    "    \"my firat tweet\",\n",
    "    \"59%\",\n",
    "    \"100£\",\n",
    "    \"luca@ethz.ch\",\n",
    "    \"<user> hi hi hi hi hi\",\n",
    "    \"can't don't you\",\n",
    "    \"12:00\"\n",
    "]\n",
    "\n"
   ]
  },
  {
   "cell_type": "code",
   "execution_count": 29,
   "metadata": {},
   "outputs": [
    {
     "name": "stdout",
     "output_type": "stream",
     "text": [
      "<hashtag> help me </hashtag> i am sooo <hashtag> bored </hashtag> !\n",
      "i am happy <wink>\n",
      "- <number> / <number> would not recommend\n",
      "love youuuuuu\n",
      "my firat tweet\n",
      "<percent>\n",
      "<money>\n",
      "<email>\n",
      "<user> hi hi hi hi hi\n",
      "can not do not you\n",
      "<time>\n"
     ]
    }
   ],
   "source": [
    "for s in sentences:\n",
    "    print(\" \".join(text_processor.pre_process_doc(s)))"
   ]
  },
  {
   "cell_type": "code",
   "execution_count": 26,
   "metadata": {},
   "outputs": [
    {
     "name": "stdout",
     "output_type": "stream",
     "text": [
      "#helpme I am sooo #bored!\n",
      "<hashtag> help me </hashtag> i am sooo <hashtag> bored </hashtag> !\n",
      "['help me i am sooo bored !', 'i am sooo!', [' help me ', ' bored ']]\n"
     ]
    }
   ],
   "source": [
    "import re\n",
    "\n",
    "def process_string(input_string:str):\n",
    "    # Find all hashtags\n",
    "    hashtags = re.findall(r'<hashtag>(.*?)</hashtag>', input_string)\n",
    "    \n",
    "    # Split the string by hashtags\n",
    "    parts = re.split(r'<hashtag>.*?</hashtag>', input_string)\n",
    "    \n",
    "    # Remove empty strings from parts\n",
    "    parts = [part.strip() for part in parts if part.strip()]\n",
    "    \n",
    "    # Format the output list\n",
    "    output = [input_string.replace('<hashtag> ', '').replace('</hashtag> ', '')] + [''.join(parts)] + [hashtags]\n",
    "    \n",
    "    return output\n",
    "\n",
    "# Example usage\n",
    "tweet = \"#helpme I am sooo #bored!\"\n",
    "pre1_str = \" \".join(text_processor.pre_process_doc(tweet))\n",
    "pre2_str = process_string(pre1_str)\n",
    "print(tweet)\n",
    "print(pre1_str)\n",
    "print(pre2_str)"
   ]
  },
  {
   "cell_type": "code",
   "execution_count": 4,
   "metadata": {},
   "outputs": [
    {
     "name": "stdout",
     "output_type": "stream",
     "text": [
      "Reading twitter - 1grams ...\n",
      "Reading twitter - 2grams ...\n",
      "Reading twitter - 1grams ...\n"
     ]
    },
    {
     "data": {
      "text/plain": [
       "[['help me i am sooo bored !', 'i am sooo!', [' help me ', ' bored ']],\n",
       " ['i am happy <wink>', '', []],\n",
       " ['- <number> / <number> would not recommend', '', []],\n",
       " ['love youuuuuu', '', []],\n",
       " ['my firat tweet', '', []],\n",
       " ['<percent>', '', []],\n",
       " ['<money>', '', []],\n",
       " ['<email>', '', []],\n",
       " ['<user> hi hi hi hi hi', '', []],\n",
       " ['can not do not you', '', []],\n",
       " ['<time>', '', []]]"
      ]
     },
     "execution_count": 4,
     "metadata": {},
     "output_type": "execute_result"
    }
   ],
   "source": [
    "preprocess(sentences)"
   ]
  },
  {
   "cell_type": "code",
   "execution_count": null,
   "metadata": {},
   "outputs": [],
   "source": []
  }
 ],
 "metadata": {
  "kernelspec": {
   "display_name": "base",
   "language": "python",
   "name": "python3"
  },
  "language_info": {
   "codemirror_mode": {
    "name": "ipython",
    "version": 3
   },
   "file_extension": ".py",
   "mimetype": "text/x-python",
   "name": "python",
   "nbconvert_exporter": "python",
   "pygments_lexer": "ipython3",
   "version": "3.11.7"
  }
 },
 "nbformat": 4,
 "nbformat_minor": 2
}
