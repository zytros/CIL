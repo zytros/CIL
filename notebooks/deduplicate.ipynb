{
 "cells": [
  {
   "cell_type": "code",
   "execution_count": 1,
   "metadata": {},
   "outputs": [],
   "source": [
    "import pandas as pd\n",
    "import numpy as np\n",
    "from ekphrasis.classes.preprocessor import TextPreProcessor\n",
    "from ekphrasis.classes.tokenizer import SocialTokenizer\n",
    "from ekphrasis.dicts.emoticons import emoticons\n",
    "from preprocessing import preprocess"
   ]
  },
  {
   "cell_type": "code",
   "execution_count": 2,
   "metadata": {},
   "outputs": [],
   "source": [
    "with open(\"../twitter-datasets/twitter-datasets/train_neg.txt\") as f:\n",
    "    neg_txt = [line for line in f]\n",
    "    neg_df = pd.DataFrame(neg_txt, columns=['line'])\n",
    "f.close()\n",
    "with open(\"../twitter-datasets/twitter-datasets/train_pos.txt\") as f:\n",
    "    pos_txt = [line for line in f]\n",
    "    pos_df = pd.DataFrame(pos_txt, columns=['line'])\n",
    "f.close\n",
    "pos_df['label'] = 1\n",
    "neg_df['label'] = 0\n",
    "full_df = pd.concat([pos_df,neg_df],ignore_index=True).drop_duplicates(keep='first')"
   ]
  },
  {
   "cell_type": "code",
   "execution_count": 9,
   "metadata": {},
   "outputs": [
    {
     "name": "stdout",
     "output_type": "stream",
     "text": [
      "Reading twitter - 1grams ...\n",
      "Reading twitter - 2grams ...\n",
      "Reading twitter - 1grams ...\n"
     ]
    }
   ],
   "source": [
    "text_processor = TextPreProcessor(\n",
    "    fix_html=True,\n",
    "    segmenter=\"twitter\", \n",
    "    corrector=\"twitter\", \n",
    "    tokenizer=SocialTokenizer(lowercase=True).tokenize,\n",
    "    dicts=[emoticons],\n",
    "    \n",
    "    unpack_hashtags=True,\n",
    "    unpack_contractions=True,\n",
    "    spell_correct_elong=True,\n",
    "    normalize=['url', 'email', 'percent', 'money', 'phone', 'user', 'time', 'date', 'number'],\n",
    "    annotate={'hashtag'},\n",
    ")\n",
    "\n",
    "sentences = full_df['line'].values\n",
    "sentences = [\n",
    "    \"#helpme I am sooo #bored!\",\n",
    "    \"I am happy ;)\",\n",
    "    \"-1/10 would not recommend\",\n",
    "    \"love youuuuuu \",\n",
    "    \"my firat tweet\",\n",
    "    \"59%\",\n",
    "    \"100£\",\n",
    "    \"luca@ethz.ch\",\n",
    "    \"<user> hi hi hi hi hi\",\n",
    "    \"can't don't you\",\n",
    "    \"12:00\"\n",
    "]\n",
    "\n"
   ]
  },
  {
   "cell_type": "code",
   "execution_count": 29,
   "metadata": {},
   "outputs": [
    {
     "name": "stdout",
     "output_type": "stream",
     "text": [
      "<hashtag> help me </hashtag> i am sooo <hashtag> bored </hashtag> !\n",
      "i am happy <wink>\n",
      "- <number> / <number> would not recommend\n",
      "love youuuuuu\n",
      "my firat tweet\n",
      "<percent>\n",
      "<money>\n",
      "<email>\n",
      "<user> hi hi hi hi hi\n",
      "can not do not you\n",
      "<time>\n"
     ]
    }
   ],
   "source": [
    "for s in sentences:\n",
    "    print(\" \".join(text_processor.pre_process_doc(s)))"
   ]
  },
  {
   "cell_type": "code",
   "execution_count": 26,
   "metadata": {},
   "outputs": [
    {
     "name": "stdout",
     "output_type": "stream",
     "text": [
      "#helpme I am sooo #bored!\n",
      "<hashtag> help me </hashtag> i am sooo <hashtag> bored </hashtag> !\n",
      "['help me i am sooo bored !', 'i am sooo!', [' help me ', ' bored ']]\n"
     ]
    }
   ],
   "source": [
    "import re\n",
    "\n",
    "def process_string(input_string:str):\n",
    "    # Find all hashtags\n",
    "    hashtags = re.findall(r'<hashtag>(.*?)</hashtag>', input_string)\n",
    "    \n",
    "    # Split the string by hashtags\n",
    "    parts = re.split(r'<hashtag>.*?</hashtag>', input_string)\n",
    "    \n",
    "    # Remove empty strings from parts\n",
    "    parts = [part.strip() for part in parts if part.strip()]\n",
    "    \n",
    "    # Format the output list\n",
    "    output = [input_string.replace('<hashtag> ', '').replace('</hashtag> ', '')] + [''.join(parts)] + [hashtags]\n",
    "    \n",
    "    return output\n",
    "\n",
    "# Example usage\n",
    "tweet = \"#helpme I am sooo #bored!\"\n",
    "pre1_str = \" \".join(text_processor.pre_process_doc(tweet))\n",
    "pre2_str = process_string(pre1_str)\n",
    "print(tweet)\n",
    "print(pre1_str)\n",
    "print(pre2_str)"
   ]
  },
  {
   "cell_type": "code",
   "execution_count": 10,
   "metadata": {},
   "outputs": [
    {
     "name": "stdout",
     "output_type": "stream",
     "text": [
      "Reading twitter - 1grams ...\n",
      "Reading twitter - 2grams ...\n",
      "Reading twitter - 1grams ...\n"
     ]
    },
    {
     "ename": "AttributeError",
     "evalue": "'str' object has no attribute 'contains'",
     "output_type": "error",
     "traceback": [
      "\u001b[1;31m---------------------------------------------------------------------------\u001b[0m",
      "\u001b[1;31mAttributeError\u001b[0m                            Traceback (most recent call last)",
      "Cell \u001b[1;32mIn[10], line 1\u001b[0m\n\u001b[1;32m----> 1\u001b[0m preprocess(sentences)\n",
      "File \u001b[1;32mc:\\Users\\lucas\\Documents\\CIL\\notebooks\\preprocessing.py:38\u001b[0m, in \u001b[0;36mpreprocess\u001b[1;34m(tweets, normalize)\u001b[0m\n\u001b[0;32m     24\u001b[0m text_processor \u001b[38;5;241m=\u001b[39m TextPreProcessor(\n\u001b[0;32m     25\u001b[0m fix_html\u001b[38;5;241m=\u001b[39m\u001b[38;5;28;01mTrue\u001b[39;00m,\n\u001b[0;32m     26\u001b[0m segmenter\u001b[38;5;241m=\u001b[39m\u001b[38;5;124m\"\u001b[39m\u001b[38;5;124mtwitter\u001b[39m\u001b[38;5;124m\"\u001b[39m, \n\u001b[1;32m   (...)\u001b[0m\n\u001b[0;32m     35\u001b[0m annotate\u001b[38;5;241m=\u001b[39m{\u001b[38;5;124m'\u001b[39m\u001b[38;5;124mhashtag\u001b[39m\u001b[38;5;124m'\u001b[39m},\n\u001b[0;32m     36\u001b[0m )\n\u001b[0;32m     37\u001b[0m pre_process_1 \u001b[38;5;241m=\u001b[39m [\u001b[38;5;124m\"\u001b[39m\u001b[38;5;124m \u001b[39m\u001b[38;5;124m\"\u001b[39m\u001b[38;5;241m.\u001b[39mjoin(text_processor\u001b[38;5;241m.\u001b[39mpre_process_doc(tweet)) \u001b[38;5;28;01mfor\u001b[39;00m tweet \u001b[38;5;129;01min\u001b[39;00m tweets]\n\u001b[1;32m---> 38\u001b[0m pre_process_2 \u001b[38;5;241m=\u001b[39m [process_string(tweet) \u001b[38;5;28;01mfor\u001b[39;00m tweet \u001b[38;5;129;01min\u001b[39;00m pre_process_1]\n\u001b[0;32m     40\u001b[0m \u001b[38;5;28;01mreturn\u001b[39;00m pre_process_2\n",
      "File \u001b[1;32mc:\\Users\\lucas\\Documents\\CIL\\notebooks\\preprocessing.py:38\u001b[0m, in \u001b[0;36m<listcomp>\u001b[1;34m(.0)\u001b[0m\n\u001b[0;32m     24\u001b[0m text_processor \u001b[38;5;241m=\u001b[39m TextPreProcessor(\n\u001b[0;32m     25\u001b[0m fix_html\u001b[38;5;241m=\u001b[39m\u001b[38;5;28;01mTrue\u001b[39;00m,\n\u001b[0;32m     26\u001b[0m segmenter\u001b[38;5;241m=\u001b[39m\u001b[38;5;124m\"\u001b[39m\u001b[38;5;124mtwitter\u001b[39m\u001b[38;5;124m\"\u001b[39m, \n\u001b[1;32m   (...)\u001b[0m\n\u001b[0;32m     35\u001b[0m annotate\u001b[38;5;241m=\u001b[39m{\u001b[38;5;124m'\u001b[39m\u001b[38;5;124mhashtag\u001b[39m\u001b[38;5;124m'\u001b[39m},\n\u001b[0;32m     36\u001b[0m )\n\u001b[0;32m     37\u001b[0m pre_process_1 \u001b[38;5;241m=\u001b[39m [\u001b[38;5;124m\"\u001b[39m\u001b[38;5;124m \u001b[39m\u001b[38;5;124m\"\u001b[39m\u001b[38;5;241m.\u001b[39mjoin(text_processor\u001b[38;5;241m.\u001b[39mpre_process_doc(tweet)) \u001b[38;5;28;01mfor\u001b[39;00m tweet \u001b[38;5;129;01min\u001b[39;00m tweets]\n\u001b[1;32m---> 38\u001b[0m pre_process_2 \u001b[38;5;241m=\u001b[39m [process_string(tweet) \u001b[38;5;28;01mfor\u001b[39;00m tweet \u001b[38;5;129;01min\u001b[39;00m pre_process_1]\n\u001b[0;32m     40\u001b[0m \u001b[38;5;28;01mreturn\u001b[39;00m pre_process_2\n",
      "File \u001b[1;32mc:\\Users\\lucas\\Documents\\CIL\\notebooks\\preprocessing.py:18\u001b[0m, in \u001b[0;36mprocess_string\u001b[1;34m(input_string)\u001b[0m\n\u001b[0;32m     16\u001b[0m \u001b[38;5;66;03m# Format the output list\u001b[39;00m\n\u001b[0;32m     17\u001b[0m hashtags_written_out \u001b[38;5;241m=\u001b[39m input_string\u001b[38;5;241m.\u001b[39mreplace(\u001b[38;5;124m'\u001b[39m\u001b[38;5;124m<hashtag> \u001b[39m\u001b[38;5;124m'\u001b[39m, \u001b[38;5;124m'\u001b[39m\u001b[38;5;124m'\u001b[39m)\u001b[38;5;241m.\u001b[39mreplace(\u001b[38;5;124m'\u001b[39m\u001b[38;5;124m</hashtag> \u001b[39m\u001b[38;5;124m'\u001b[39m, \u001b[38;5;124m'\u001b[39m\u001b[38;5;124m'\u001b[39m)\n\u001b[1;32m---> 18\u001b[0m no_hashtags \u001b[38;5;241m=\u001b[39m \u001b[38;5;124m'\u001b[39m\u001b[38;5;124m'\u001b[39m\u001b[38;5;241m.\u001b[39mjoin(parts) \u001b[38;5;28;01mif\u001b[39;00m input_string\u001b[38;5;241m.\u001b[39mcontains(\u001b[38;5;124m'\u001b[39m\u001b[38;5;124m<hashtag>\u001b[39m\u001b[38;5;124m'\u001b[39m) \u001b[38;5;28;01melse\u001b[39;00m \u001b[38;5;124m'\u001b[39m\u001b[38;5;124m'\u001b[39m\n\u001b[0;32m     19\u001b[0m output \u001b[38;5;241m=\u001b[39m [hashtags_written_out] \u001b[38;5;241m+\u001b[39m [no_hashtags] \u001b[38;5;241m+\u001b[39m [hashtags]\n\u001b[0;32m     21\u001b[0m \u001b[38;5;28;01mreturn\u001b[39;00m output\n",
      "\u001b[1;31mAttributeError\u001b[0m: 'str' object has no attribute 'contains'"
     ]
    }
   ],
   "source": [
    "preprocess(sentences)"
   ]
  },
  {
   "cell_type": "code",
   "execution_count": null,
   "metadata": {},
   "outputs": [],
   "source": []
  }
 ],
 "metadata": {
  "kernelspec": {
   "display_name": "base",
   "language": "python",
   "name": "python3"
  },
  "language_info": {
   "codemirror_mode": {
    "name": "ipython",
    "version": 3
   },
   "file_extension": ".py",
   "mimetype": "text/x-python",
   "name": "python",
   "nbconvert_exporter": "python",
   "pygments_lexer": "ipython3",
   "version": "3.11.7"
  }
 },
 "nbformat": 4,
 "nbformat_minor": 2
}
