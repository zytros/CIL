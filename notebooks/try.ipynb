{
 "cells": [
  {
   "cell_type": "code",
   "execution_count": 6,
   "metadata": {},
   "outputs": [],
   "source": [
    "from ekphrasis.classes.preprocessor import TextPreProcessor\n",
    "from ekphrasis.classes.tokenizer import SocialTokenizer\n",
    "from ekphrasis.dicts.emoticons import emoticons\n",
    "import re\n",
    "from tqdm import tqdm"
   ]
  },
  {
   "cell_type": "code",
   "execution_count": 17,
   "metadata": {},
   "outputs": [],
   "source": [
    "def replace_consecutve_whitespaces(input_string:str):\n",
    "    return re.sub(r'\\s+', ' ', input_string)\n",
    "    \n",
    "def process_string(input_string:str):\n",
    "    # Find all hashtags\n",
    "    hashtags = re.findall(r'<hashtag>(.*?)</hashtag>', input_string)\n",
    "    \n",
    "    # Split the string by hashtags\n",
    "    parts = re.split(r'<hashtag>.*?</hashtag>', input_string)\n",
    "    \n",
    "    # Remove empty strings from parts\n",
    "    parts = [part.strip() for part in parts if part.strip()]\n",
    "    \n",
    "    # Format the output list\n",
    "    hashtags_written_out = input_string.replace('<hashtag> ', '').replace('</hashtag>', '')\n",
    "    no_hashtags = ''.join(parts) if '<hashtag>' in input_string else ''\n",
    "    output = [replace_consecutve_whitespaces(hashtags_written_out)] + [no_hashtags] + [hashtags]\n",
    "    \n",
    "    return output\n",
    "\n",
    "def preprocess(tweets:list, normalize=['url', 'email', 'percent', 'money', 'phone', 'user', 'time', 'date', 'number']):\n",
    "    text_processor = TextPreProcessor(\n",
    "    fix_html=True,\n",
    "    segmenter=\"twitter\", \n",
    "    corrector=\"twitter\", \n",
    "    tokenizer=SocialTokenizer(lowercase=True).tokenize,\n",
    "    dicts=[emoticons],\n",
    "    \n",
    "    unpack_hashtags=True,\n",
    "    unpack_contractions=True,\n",
    "    spell_correct_elong=True,\n",
    "    normalize=normalize,\n",
    "    annotate={'hashtag'},\n",
    "    )\n",
    "    pre_process_1 = []\n",
    "    for i in tqdm(range(len(tweets))):\n",
    "        pre_process_1.append(\" \".join(text_processor.pre_process_doc(tweets[i])))\n",
    "    \n",
    "    print(pre_process_1)\n",
    "    pre_process_2 = []\n",
    "    for i in tqdm(range(len(pre_process_1))):\n",
    "        pre_process_2.append(process_string(pre_process_1[i]))\n",
    "    \n",
    "    return pre_process_2"
   ]
  },
  {
   "cell_type": "code",
   "execution_count": 18,
   "metadata": {},
   "outputs": [
    {
     "name": "stdout",
     "output_type": "stream",
     "text": [
      "Reading twitter - 1grams ...\n",
      "Reading twitter - 2grams ...\n",
      "Reading twitter - 1grams ...\n"
     ]
    },
    {
     "name": "stderr",
     "output_type": "stream",
     "text": [
      "100%|██████████| 3/3 [00:00<00:00, 3008.83it/s]\n"
     ]
    },
    {
     "name": "stdout",
     "output_type": "stream",
     "text": [
      "['i love <hashtag> pizza </hashtag>', 'i love <hashtag> pasta </hashtag>', '<hashtag> me too </hashtag> i love <hashtag> food </hashtag>']\n"
     ]
    },
    {
     "name": "stderr",
     "output_type": "stream",
     "text": [
      "100%|██████████| 3/3 [00:00<?, ?it/s]\n"
     ]
    },
    {
     "data": {
      "text/plain": [
       "[['i love pizza', 'i love', [' pizza ']],\n",
       " ['i love pasta', 'i love', [' pasta ']],\n",
       " ['me too i love food', 'i love', [' me too ', ' food ']]]"
      ]
     },
     "execution_count": 18,
     "metadata": {},
     "output_type": "execute_result"
    }
   ],
   "source": [
    "preprocess([\"<user> i dunno justin read my mention or not . only justin and god knows about that , but i hope you will follow me #believe 15\\n\", \"I love #pasta\", \"#MeToo I love #food\"])"
   ]
  },
  {
   "cell_type": "code",
   "execution_count": null,
   "metadata": {},
   "outputs": [],
   "source": []
  }
 ],
 "metadata": {
  "kernelspec": {
   "display_name": "base",
   "language": "python",
   "name": "python3"
  },
  "language_info": {
   "codemirror_mode": {
    "name": "ipython",
    "version": 3
   },
   "file_extension": ".py",
   "mimetype": "text/x-python",
   "name": "python",
   "nbconvert_exporter": "python",
   "pygments_lexer": "ipython3",
   "version": "3.11.7"
  }
 },
 "nbformat": 4,
 "nbformat_minor": 2
}
