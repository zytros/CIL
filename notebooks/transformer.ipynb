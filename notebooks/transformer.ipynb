{
 "cells": [
  {
   "cell_type": "code",
   "execution_count": 3,
   "metadata": {},
   "outputs": [],
   "source": [
    "import torch\n",
    "import torch.nn as nn\n",
    "from MyTransformer import EmbeddingTransformer"
   ]
  },
  {
   "cell_type": "code",
   "execution_count": 37,
   "metadata": {},
   "outputs": [],
   "source": [
    "class Classifier(nn.Module):\n",
    "    def __init__(self):\n",
    "        super().__init__()\n",
    "        self.EmbeddingTransformer = EmbeddingTransformer(src_vocab_size=21000, d_model=512, num_heads=8, num_layers=6, d_ff=2048, max_seq_length=128)\n",
    "        self.fc1 = nn.Linear(512, 2)\n",
    "        self.softmax = nn.Softmax(dim=1)\n",
    "        \n",
    "    def forward(self, x):\n",
    "        embeddings = self.EmbeddingTransformer(x)\n",
    "        summed_embeddings = torch.sum(embeddings, dim=1)\n",
    "        score = self.fc1(summed_embeddings)\n",
    "        return self.softmax(score)\n",
    "        "
   ]
  },
  {
   "cell_type": "code",
   "execution_count": 8,
   "metadata": {},
   "outputs": [],
   "source": [
    "emb_trans = EmbeddingTransformer(src_vocab_size=21000, d_model=512, num_heads=8, num_layers=6, d_ff=2**11, max_seq_length=128)\n"
   ]
  },
  {
   "cell_type": "code",
   "execution_count": 9,
   "metadata": {},
   "outputs": [],
   "source": [
    "max_tokens = 128\n",
    "emb_size = 512"
   ]
  },
  {
   "cell_type": "code",
   "execution_count": 31,
   "metadata": {},
   "outputs": [
    {
     "data": {
      "text/plain": [
       "torch.Size([64, 128, 512])"
      ]
     },
     "execution_count": 31,
     "metadata": {},
     "output_type": "execute_result"
    }
   ],
   "source": [
    "out = emb_trans(torch.randint(0, 21000, (64,max_tokens)))\n",
    "out.shape"
   ]
  },
  {
   "cell_type": "code",
   "execution_count": 38,
   "metadata": {},
   "outputs": [
    {
     "data": {
      "text/plain": [
       "tensor([[7.8053e-25, 1.0000e+00],\n",
       "        [3.9235e-34, 1.0000e+00],\n",
       "        [2.4307e-27, 1.0000e+00],\n",
       "        [1.9882e-25, 1.0000e+00],\n",
       "        [5.6719e-24, 1.0000e+00],\n",
       "        [2.0365e-17, 1.0000e+00],\n",
       "        [1.9953e-22, 1.0000e+00],\n",
       "        [6.2784e-30, 1.0000e+00],\n",
       "        [1.5836e-26, 1.0000e+00],\n",
       "        [4.1264e-26, 1.0000e+00],\n",
       "        [1.2081e-19, 1.0000e+00],\n",
       "        [2.1368e-24, 1.0000e+00],\n",
       "        [5.1917e-20, 1.0000e+00],\n",
       "        [1.5945e-35, 1.0000e+00],\n",
       "        [4.3090e-32, 1.0000e+00],\n",
       "        [1.2611e-15, 1.0000e+00],\n",
       "        [8.4327e-22, 1.0000e+00],\n",
       "        [5.5823e-21, 1.0000e+00],\n",
       "        [1.0929e-30, 1.0000e+00],\n",
       "        [3.7625e-25, 1.0000e+00],\n",
       "        [6.9743e-19, 1.0000e+00],\n",
       "        [6.8842e-25, 1.0000e+00],\n",
       "        [2.3241e-26, 1.0000e+00],\n",
       "        [1.0085e-15, 1.0000e+00],\n",
       "        [3.0634e-33, 1.0000e+00],\n",
       "        [1.0845e-16, 1.0000e+00],\n",
       "        [1.6879e-24, 1.0000e+00],\n",
       "        [1.9096e-27, 1.0000e+00],\n",
       "        [3.0616e-28, 1.0000e+00],\n",
       "        [2.5611e-23, 1.0000e+00],\n",
       "        [1.2537e-30, 1.0000e+00],\n",
       "        [4.4933e-28, 1.0000e+00],\n",
       "        [2.7410e-27, 1.0000e+00],\n",
       "        [3.2149e-18, 1.0000e+00],\n",
       "        [3.8270e-27, 1.0000e+00],\n",
       "        [7.4280e-20, 1.0000e+00],\n",
       "        [1.2129e-18, 1.0000e+00],\n",
       "        [4.6054e-20, 1.0000e+00],\n",
       "        [8.5397e-25, 1.0000e+00],\n",
       "        [1.2606e-17, 1.0000e+00],\n",
       "        [3.9037e-23, 1.0000e+00],\n",
       "        [1.3506e-24, 1.0000e+00],\n",
       "        [4.9161e-21, 1.0000e+00],\n",
       "        [3.5902e-21, 1.0000e+00],\n",
       "        [5.5171e-30, 1.0000e+00],\n",
       "        [1.6578e-17, 1.0000e+00],\n",
       "        [2.5248e-19, 1.0000e+00],\n",
       "        [8.0235e-19, 1.0000e+00],\n",
       "        [1.0808e-24, 1.0000e+00],\n",
       "        [4.8848e-25, 1.0000e+00],\n",
       "        [2.0523e-24, 1.0000e+00],\n",
       "        [6.6595e-12, 1.0000e+00],\n",
       "        [2.1430e-25, 1.0000e+00],\n",
       "        [7.9575e-21, 1.0000e+00],\n",
       "        [1.3890e-26, 1.0000e+00],\n",
       "        [1.1394e-20, 1.0000e+00],\n",
       "        [1.2682e-26, 1.0000e+00],\n",
       "        [7.3888e-25, 1.0000e+00],\n",
       "        [3.9196e-28, 1.0000e+00],\n",
       "        [6.4526e-30, 1.0000e+00],\n",
       "        [7.0712e-27, 1.0000e+00],\n",
       "        [1.4603e-24, 1.0000e+00],\n",
       "        [5.9281e-30, 1.0000e+00],\n",
       "        [4.4078e-26, 1.0000e+00]], grad_fn=<SoftmaxBackward0>)"
      ]
     },
     "execution_count": 38,
     "metadata": {},
     "output_type": "execute_result"
    }
   ],
   "source": [
    "model = Classifier()\n",
    "rand_input = torch.randint(0, 21000, (64,max_tokens))\n",
    "out = model(rand_input)\n",
    "out"
   ]
  },
  {
   "cell_type": "code",
   "execution_count": null,
   "metadata": {},
   "outputs": [],
   "source": []
  }
 ],
 "metadata": {
  "kernelspec": {
   "display_name": "Python 3 (ipykernel)",
   "language": "python",
   "name": "python3"
  },
  "language_info": {
   "codemirror_mode": {
    "name": "ipython",
    "version": 3
   },
   "file_extension": ".py",
   "mimetype": "text/x-python",
   "name": "python",
   "nbconvert_exporter": "python",
   "pygments_lexer": "ipython3",
   "version": "3.10.13"
  }
 },
 "nbformat": 4,
 "nbformat_minor": 2
}
